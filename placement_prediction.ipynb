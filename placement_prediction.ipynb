{
  "cells": [
    {
      "cell_type": "code",
      "execution_count": null,
      "metadata": {
        "id": "tmZobqrY2_dM"
      },
      "outputs": [],
      "source": [
        "import numpy as np\n",
        "import pandas as pd"
      ]
    },
    {
      "cell_type": "code",
      "execution_count": null,
      "metadata": {
        "id": "VXay_nKZ6qTG"
      },
      "outputs": [],
      "source": [
        "df = pd.read_csv('collegePlace.csv')"
      ]
    },
    {
      "cell_type": "markdown",
      "metadata": {
        "id": "SEJpEbDeABd5"
      },
      "source": [
        "#Preprocessing"
      ]
    },
    {
      "cell_type": "code",
      "execution_count": null,
      "metadata": {
        "colab": {
          "base_uri": "https://localhost:8080/",
          "height": 206
        },
        "id": "bOJvJ9mx6_E5",
        "outputId": "91a6b858-8f54-4083-862d-0a67127bdfb8"
      },
      "outputs": [
        {
          "output_type": "execute_result",
          "data": {
            "text/plain": [
              "   Age  Gender                         Stream  Internships  CGPA  Hostel  \\\n",
              "0   22    Male  Electronics And Communication            1     8       1   \n",
              "1   21  Female               Computer Science            0     7       1   \n",
              "2   22  Female         Information Technology            1     6       0   \n",
              "3   21    Male         Information Technology            0     8       0   \n",
              "4   22    Male                     Mechanical            0     8       1   \n",
              "\n",
              "   HistoryOfBacklogs  PlacedOrNot  \n",
              "0                  1            1  \n",
              "1                  1            1  \n",
              "2                  0            1  \n",
              "3                  1            1  \n",
              "4                  0            1  "
            ],
            "text/html": [
              "\n",
              "  <div id=\"df-6faad539-35c1-414f-a055-c1924d785e16\" class=\"colab-df-container\">\n",
              "    <div>\n",
              "<style scoped>\n",
              "    .dataframe tbody tr th:only-of-type {\n",
              "        vertical-align: middle;\n",
              "    }\n",
              "\n",
              "    .dataframe tbody tr th {\n",
              "        vertical-align: top;\n",
              "    }\n",
              "\n",
              "    .dataframe thead th {\n",
              "        text-align: right;\n",
              "    }\n",
              "</style>\n",
              "<table border=\"1\" class=\"dataframe\">\n",
              "  <thead>\n",
              "    <tr style=\"text-align: right;\">\n",
              "      <th></th>\n",
              "      <th>Age</th>\n",
              "      <th>Gender</th>\n",
              "      <th>Stream</th>\n",
              "      <th>Internships</th>\n",
              "      <th>CGPA</th>\n",
              "      <th>Hostel</th>\n",
              "      <th>HistoryOfBacklogs</th>\n",
              "      <th>PlacedOrNot</th>\n",
              "    </tr>\n",
              "  </thead>\n",
              "  <tbody>\n",
              "    <tr>\n",
              "      <th>0</th>\n",
              "      <td>22</td>\n",
              "      <td>Male</td>\n",
              "      <td>Electronics And Communication</td>\n",
              "      <td>1</td>\n",
              "      <td>8</td>\n",
              "      <td>1</td>\n",
              "      <td>1</td>\n",
              "      <td>1</td>\n",
              "    </tr>\n",
              "    <tr>\n",
              "      <th>1</th>\n",
              "      <td>21</td>\n",
              "      <td>Female</td>\n",
              "      <td>Computer Science</td>\n",
              "      <td>0</td>\n",
              "      <td>7</td>\n",
              "      <td>1</td>\n",
              "      <td>1</td>\n",
              "      <td>1</td>\n",
              "    </tr>\n",
              "    <tr>\n",
              "      <th>2</th>\n",
              "      <td>22</td>\n",
              "      <td>Female</td>\n",
              "      <td>Information Technology</td>\n",
              "      <td>1</td>\n",
              "      <td>6</td>\n",
              "      <td>0</td>\n",
              "      <td>0</td>\n",
              "      <td>1</td>\n",
              "    </tr>\n",
              "    <tr>\n",
              "      <th>3</th>\n",
              "      <td>21</td>\n",
              "      <td>Male</td>\n",
              "      <td>Information Technology</td>\n",
              "      <td>0</td>\n",
              "      <td>8</td>\n",
              "      <td>0</td>\n",
              "      <td>1</td>\n",
              "      <td>1</td>\n",
              "    </tr>\n",
              "    <tr>\n",
              "      <th>4</th>\n",
              "      <td>22</td>\n",
              "      <td>Male</td>\n",
              "      <td>Mechanical</td>\n",
              "      <td>0</td>\n",
              "      <td>8</td>\n",
              "      <td>1</td>\n",
              "      <td>0</td>\n",
              "      <td>1</td>\n",
              "    </tr>\n",
              "  </tbody>\n",
              "</table>\n",
              "</div>\n",
              "    <div class=\"colab-df-buttons\">\n",
              "\n",
              "  <div class=\"colab-df-container\">\n",
              "    <button class=\"colab-df-convert\" onclick=\"convertToInteractive('df-6faad539-35c1-414f-a055-c1924d785e16')\"\n",
              "            title=\"Convert this dataframe to an interactive table.\"\n",
              "            style=\"display:none;\">\n",
              "\n",
              "  <svg xmlns=\"http://www.w3.org/2000/svg\" height=\"24px\" viewBox=\"0 -960 960 960\">\n",
              "    <path d=\"M120-120v-720h720v720H120Zm60-500h600v-160H180v160Zm220 220h160v-160H400v160Zm0 220h160v-160H400v160ZM180-400h160v-160H180v160Zm440 0h160v-160H620v160ZM180-180h160v-160H180v160Zm440 0h160v-160H620v160Z\"/>\n",
              "  </svg>\n",
              "    </button>\n",
              "\n",
              "  <style>\n",
              "    .colab-df-container {\n",
              "      display:flex;\n",
              "      gap: 12px;\n",
              "    }\n",
              "\n",
              "    .colab-df-convert {\n",
              "      background-color: #E8F0FE;\n",
              "      border: none;\n",
              "      border-radius: 50%;\n",
              "      cursor: pointer;\n",
              "      display: none;\n",
              "      fill: #1967D2;\n",
              "      height: 32px;\n",
              "      padding: 0 0 0 0;\n",
              "      width: 32px;\n",
              "    }\n",
              "\n",
              "    .colab-df-convert:hover {\n",
              "      background-color: #E2EBFA;\n",
              "      box-shadow: 0px 1px 2px rgba(60, 64, 67, 0.3), 0px 1px 3px 1px rgba(60, 64, 67, 0.15);\n",
              "      fill: #174EA6;\n",
              "    }\n",
              "\n",
              "    .colab-df-buttons div {\n",
              "      margin-bottom: 4px;\n",
              "    }\n",
              "\n",
              "    [theme=dark] .colab-df-convert {\n",
              "      background-color: #3B4455;\n",
              "      fill: #D2E3FC;\n",
              "    }\n",
              "\n",
              "    [theme=dark] .colab-df-convert:hover {\n",
              "      background-color: #434B5C;\n",
              "      box-shadow: 0px 1px 3px 1px rgba(0, 0, 0, 0.15);\n",
              "      filter: drop-shadow(0px 1px 2px rgba(0, 0, 0, 0.3));\n",
              "      fill: #FFFFFF;\n",
              "    }\n",
              "  </style>\n",
              "\n",
              "    <script>\n",
              "      const buttonEl =\n",
              "        document.querySelector('#df-6faad539-35c1-414f-a055-c1924d785e16 button.colab-df-convert');\n",
              "      buttonEl.style.display =\n",
              "        google.colab.kernel.accessAllowed ? 'block' : 'none';\n",
              "\n",
              "      async function convertToInteractive(key) {\n",
              "        const element = document.querySelector('#df-6faad539-35c1-414f-a055-c1924d785e16');\n",
              "        const dataTable =\n",
              "          await google.colab.kernel.invokeFunction('convertToInteractive',\n",
              "                                                    [key], {});\n",
              "        if (!dataTable) return;\n",
              "\n",
              "        const docLinkHtml = 'Like what you see? Visit the ' +\n",
              "          '<a target=\"_blank\" href=https://colab.research.google.com/notebooks/data_table.ipynb>data table notebook</a>'\n",
              "          + ' to learn more about interactive tables.';\n",
              "        element.innerHTML = '';\n",
              "        dataTable['output_type'] = 'display_data';\n",
              "        await google.colab.output.renderOutput(dataTable, element);\n",
              "        const docLink = document.createElement('div');\n",
              "        docLink.innerHTML = docLinkHtml;\n",
              "        element.appendChild(docLink);\n",
              "      }\n",
              "    </script>\n",
              "  </div>\n",
              "\n",
              "\n",
              "<div id=\"df-d1e42639-b404-4bb7-abf6-3e3ee41f9639\">\n",
              "  <button class=\"colab-df-quickchart\" onclick=\"quickchart('df-d1e42639-b404-4bb7-abf6-3e3ee41f9639')\"\n",
              "            title=\"Suggest charts.\"\n",
              "            style=\"display:none;\">\n",
              "\n",
              "<svg xmlns=\"http://www.w3.org/2000/svg\" height=\"24px\"viewBox=\"0 0 24 24\"\n",
              "     width=\"24px\">\n",
              "    <g>\n",
              "        <path d=\"M19 3H5c-1.1 0-2 .9-2 2v14c0 1.1.9 2 2 2h14c1.1 0 2-.9 2-2V5c0-1.1-.9-2-2-2zM9 17H7v-7h2v7zm4 0h-2V7h2v10zm4 0h-2v-4h2v4z\"/>\n",
              "    </g>\n",
              "</svg>\n",
              "  </button>\n",
              "\n",
              "<style>\n",
              "  .colab-df-quickchart {\n",
              "      --bg-color: #E8F0FE;\n",
              "      --fill-color: #1967D2;\n",
              "      --hover-bg-color: #E2EBFA;\n",
              "      --hover-fill-color: #174EA6;\n",
              "      --disabled-fill-color: #AAA;\n",
              "      --disabled-bg-color: #DDD;\n",
              "  }\n",
              "\n",
              "  [theme=dark] .colab-df-quickchart {\n",
              "      --bg-color: #3B4455;\n",
              "      --fill-color: #D2E3FC;\n",
              "      --hover-bg-color: #434B5C;\n",
              "      --hover-fill-color: #FFFFFF;\n",
              "      --disabled-bg-color: #3B4455;\n",
              "      --disabled-fill-color: #666;\n",
              "  }\n",
              "\n",
              "  .colab-df-quickchart {\n",
              "    background-color: var(--bg-color);\n",
              "    border: none;\n",
              "    border-radius: 50%;\n",
              "    cursor: pointer;\n",
              "    display: none;\n",
              "    fill: var(--fill-color);\n",
              "    height: 32px;\n",
              "    padding: 0;\n",
              "    width: 32px;\n",
              "  }\n",
              "\n",
              "  .colab-df-quickchart:hover {\n",
              "    background-color: var(--hover-bg-color);\n",
              "    box-shadow: 0 1px 2px rgba(60, 64, 67, 0.3), 0 1px 3px 1px rgba(60, 64, 67, 0.15);\n",
              "    fill: var(--button-hover-fill-color);\n",
              "  }\n",
              "\n",
              "  .colab-df-quickchart-complete:disabled,\n",
              "  .colab-df-quickchart-complete:disabled:hover {\n",
              "    background-color: var(--disabled-bg-color);\n",
              "    fill: var(--disabled-fill-color);\n",
              "    box-shadow: none;\n",
              "  }\n",
              "\n",
              "  .colab-df-spinner {\n",
              "    border: 2px solid var(--fill-color);\n",
              "    border-color: transparent;\n",
              "    border-bottom-color: var(--fill-color);\n",
              "    animation:\n",
              "      spin 1s steps(1) infinite;\n",
              "  }\n",
              "\n",
              "  @keyframes spin {\n",
              "    0% {\n",
              "      border-color: transparent;\n",
              "      border-bottom-color: var(--fill-color);\n",
              "      border-left-color: var(--fill-color);\n",
              "    }\n",
              "    20% {\n",
              "      border-color: transparent;\n",
              "      border-left-color: var(--fill-color);\n",
              "      border-top-color: var(--fill-color);\n",
              "    }\n",
              "    30% {\n",
              "      border-color: transparent;\n",
              "      border-left-color: var(--fill-color);\n",
              "      border-top-color: var(--fill-color);\n",
              "      border-right-color: var(--fill-color);\n",
              "    }\n",
              "    40% {\n",
              "      border-color: transparent;\n",
              "      border-right-color: var(--fill-color);\n",
              "      border-top-color: var(--fill-color);\n",
              "    }\n",
              "    60% {\n",
              "      border-color: transparent;\n",
              "      border-right-color: var(--fill-color);\n",
              "    }\n",
              "    80% {\n",
              "      border-color: transparent;\n",
              "      border-right-color: var(--fill-color);\n",
              "      border-bottom-color: var(--fill-color);\n",
              "    }\n",
              "    90% {\n",
              "      border-color: transparent;\n",
              "      border-bottom-color: var(--fill-color);\n",
              "    }\n",
              "  }\n",
              "</style>\n",
              "\n",
              "  <script>\n",
              "    async function quickchart(key) {\n",
              "      const quickchartButtonEl =\n",
              "        document.querySelector('#' + key + ' button');\n",
              "      quickchartButtonEl.disabled = true;  // To prevent multiple clicks.\n",
              "      quickchartButtonEl.classList.add('colab-df-spinner');\n",
              "      try {\n",
              "        const charts = await google.colab.kernel.invokeFunction(\n",
              "            'suggestCharts', [key], {});\n",
              "      } catch (error) {\n",
              "        console.error('Error during call to suggestCharts:', error);\n",
              "      }\n",
              "      quickchartButtonEl.classList.remove('colab-df-spinner');\n",
              "      quickchartButtonEl.classList.add('colab-df-quickchart-complete');\n",
              "    }\n",
              "    (() => {\n",
              "      let quickchartButtonEl =\n",
              "        document.querySelector('#df-d1e42639-b404-4bb7-abf6-3e3ee41f9639 button');\n",
              "      quickchartButtonEl.style.display =\n",
              "        google.colab.kernel.accessAllowed ? 'block' : 'none';\n",
              "    })();\n",
              "  </script>\n",
              "</div>\n",
              "    </div>\n",
              "  </div>\n"
            ]
          },
          "metadata": {},
          "execution_count": 111
        }
      ],
      "source": [
        "df.head()"
      ]
    },
    {
      "cell_type": "code",
      "execution_count": null,
      "metadata": {
        "colab": {
          "base_uri": "https://localhost:8080/"
        },
        "id": "m3MPHCqK7CCy",
        "outputId": "1263dbcc-cb06-4efe-afb1-af3756483205"
      },
      "outputs": [
        {
          "output_type": "execute_result",
          "data": {
            "text/plain": [
              "(2966, 8)"
            ]
          },
          "metadata": {},
          "execution_count": 112
        }
      ],
      "source": [
        "df.shape"
      ]
    },
    {
      "cell_type": "code",
      "execution_count": null,
      "metadata": {
        "colab": {
          "base_uri": "https://localhost:8080/"
        },
        "id": "nlsH7I26-bTu",
        "outputId": "80d4fd4f-f3d4-48ee-b722-9611a15d7482"
      },
      "outputs": [
        {
          "output_type": "stream",
          "name": "stdout",
          "text": [
            "<class 'pandas.core.frame.DataFrame'>\n",
            "RangeIndex: 2966 entries, 0 to 2965\n",
            "Data columns (total 8 columns):\n",
            " #   Column             Non-Null Count  Dtype \n",
            "---  ------             --------------  ----- \n",
            " 0   Age                2966 non-null   int64 \n",
            " 1   Gender             2966 non-null   object\n",
            " 2   Stream             2966 non-null   object\n",
            " 3   Internships        2966 non-null   int64 \n",
            " 4   CGPA               2966 non-null   int64 \n",
            " 5   Hostel             2966 non-null   int64 \n",
            " 6   HistoryOfBacklogs  2966 non-null   int64 \n",
            " 7   PlacedOrNot        2966 non-null   int64 \n",
            "dtypes: int64(6), object(2)\n",
            "memory usage: 185.5+ KB\n"
          ]
        }
      ],
      "source": [
        "df.info()"
      ]
    },
    {
      "cell_type": "code",
      "execution_count": null,
      "metadata": {
        "colab": {
          "base_uri": "https://localhost:8080/",
          "height": 300
        },
        "id": "nEQj9xjh-vQv",
        "outputId": "cefa8fe0-e1b7-4ece-eba1-e05bbe62b169"
      },
      "outputs": [
        {
          "output_type": "execute_result",
          "data": {
            "text/plain": [
              "               Age  Internships         CGPA       Hostel  HistoryOfBacklogs  \\\n",
              "count  2966.000000  2966.000000  2966.000000  2966.000000        2966.000000   \n",
              "mean     21.485840     0.703641     7.073837     0.269049           0.192178   \n",
              "std       1.324933     0.740197     0.967748     0.443540           0.394079   \n",
              "min      19.000000     0.000000     5.000000     0.000000           0.000000   \n",
              "25%      21.000000     0.000000     6.000000     0.000000           0.000000   \n",
              "50%      21.000000     1.000000     7.000000     0.000000           0.000000   \n",
              "75%      22.000000     1.000000     8.000000     1.000000           0.000000   \n",
              "max      30.000000     3.000000     9.000000     1.000000           1.000000   \n",
              "\n",
              "       PlacedOrNot  \n",
              "count  2966.000000  \n",
              "mean      0.552596  \n",
              "std       0.497310  \n",
              "min       0.000000  \n",
              "25%       0.000000  \n",
              "50%       1.000000  \n",
              "75%       1.000000  \n",
              "max       1.000000  "
            ],
            "text/html": [
              "\n",
              "  <div id=\"df-582c5786-bb6e-47ee-9432-b92dff104557\" class=\"colab-df-container\">\n",
              "    <div>\n",
              "<style scoped>\n",
              "    .dataframe tbody tr th:only-of-type {\n",
              "        vertical-align: middle;\n",
              "    }\n",
              "\n",
              "    .dataframe tbody tr th {\n",
              "        vertical-align: top;\n",
              "    }\n",
              "\n",
              "    .dataframe thead th {\n",
              "        text-align: right;\n",
              "    }\n",
              "</style>\n",
              "<table border=\"1\" class=\"dataframe\">\n",
              "  <thead>\n",
              "    <tr style=\"text-align: right;\">\n",
              "      <th></th>\n",
              "      <th>Age</th>\n",
              "      <th>Internships</th>\n",
              "      <th>CGPA</th>\n",
              "      <th>Hostel</th>\n",
              "      <th>HistoryOfBacklogs</th>\n",
              "      <th>PlacedOrNot</th>\n",
              "    </tr>\n",
              "  </thead>\n",
              "  <tbody>\n",
              "    <tr>\n",
              "      <th>count</th>\n",
              "      <td>2966.000000</td>\n",
              "      <td>2966.000000</td>\n",
              "      <td>2966.000000</td>\n",
              "      <td>2966.000000</td>\n",
              "      <td>2966.000000</td>\n",
              "      <td>2966.000000</td>\n",
              "    </tr>\n",
              "    <tr>\n",
              "      <th>mean</th>\n",
              "      <td>21.485840</td>\n",
              "      <td>0.703641</td>\n",
              "      <td>7.073837</td>\n",
              "      <td>0.269049</td>\n",
              "      <td>0.192178</td>\n",
              "      <td>0.552596</td>\n",
              "    </tr>\n",
              "    <tr>\n",
              "      <th>std</th>\n",
              "      <td>1.324933</td>\n",
              "      <td>0.740197</td>\n",
              "      <td>0.967748</td>\n",
              "      <td>0.443540</td>\n",
              "      <td>0.394079</td>\n",
              "      <td>0.497310</td>\n",
              "    </tr>\n",
              "    <tr>\n",
              "      <th>min</th>\n",
              "      <td>19.000000</td>\n",
              "      <td>0.000000</td>\n",
              "      <td>5.000000</td>\n",
              "      <td>0.000000</td>\n",
              "      <td>0.000000</td>\n",
              "      <td>0.000000</td>\n",
              "    </tr>\n",
              "    <tr>\n",
              "      <th>25%</th>\n",
              "      <td>21.000000</td>\n",
              "      <td>0.000000</td>\n",
              "      <td>6.000000</td>\n",
              "      <td>0.000000</td>\n",
              "      <td>0.000000</td>\n",
              "      <td>0.000000</td>\n",
              "    </tr>\n",
              "    <tr>\n",
              "      <th>50%</th>\n",
              "      <td>21.000000</td>\n",
              "      <td>1.000000</td>\n",
              "      <td>7.000000</td>\n",
              "      <td>0.000000</td>\n",
              "      <td>0.000000</td>\n",
              "      <td>1.000000</td>\n",
              "    </tr>\n",
              "    <tr>\n",
              "      <th>75%</th>\n",
              "      <td>22.000000</td>\n",
              "      <td>1.000000</td>\n",
              "      <td>8.000000</td>\n",
              "      <td>1.000000</td>\n",
              "      <td>0.000000</td>\n",
              "      <td>1.000000</td>\n",
              "    </tr>\n",
              "    <tr>\n",
              "      <th>max</th>\n",
              "      <td>30.000000</td>\n",
              "      <td>3.000000</td>\n",
              "      <td>9.000000</td>\n",
              "      <td>1.000000</td>\n",
              "      <td>1.000000</td>\n",
              "      <td>1.000000</td>\n",
              "    </tr>\n",
              "  </tbody>\n",
              "</table>\n",
              "</div>\n",
              "    <div class=\"colab-df-buttons\">\n",
              "\n",
              "  <div class=\"colab-df-container\">\n",
              "    <button class=\"colab-df-convert\" onclick=\"convertToInteractive('df-582c5786-bb6e-47ee-9432-b92dff104557')\"\n",
              "            title=\"Convert this dataframe to an interactive table.\"\n",
              "            style=\"display:none;\">\n",
              "\n",
              "  <svg xmlns=\"http://www.w3.org/2000/svg\" height=\"24px\" viewBox=\"0 -960 960 960\">\n",
              "    <path d=\"M120-120v-720h720v720H120Zm60-500h600v-160H180v160Zm220 220h160v-160H400v160Zm0 220h160v-160H400v160ZM180-400h160v-160H180v160Zm440 0h160v-160H620v160ZM180-180h160v-160H180v160Zm440 0h160v-160H620v160Z\"/>\n",
              "  </svg>\n",
              "    </button>\n",
              "\n",
              "  <style>\n",
              "    .colab-df-container {\n",
              "      display:flex;\n",
              "      gap: 12px;\n",
              "    }\n",
              "\n",
              "    .colab-df-convert {\n",
              "      background-color: #E8F0FE;\n",
              "      border: none;\n",
              "      border-radius: 50%;\n",
              "      cursor: pointer;\n",
              "      display: none;\n",
              "      fill: #1967D2;\n",
              "      height: 32px;\n",
              "      padding: 0 0 0 0;\n",
              "      width: 32px;\n",
              "    }\n",
              "\n",
              "    .colab-df-convert:hover {\n",
              "      background-color: #E2EBFA;\n",
              "      box-shadow: 0px 1px 2px rgba(60, 64, 67, 0.3), 0px 1px 3px 1px rgba(60, 64, 67, 0.15);\n",
              "      fill: #174EA6;\n",
              "    }\n",
              "\n",
              "    .colab-df-buttons div {\n",
              "      margin-bottom: 4px;\n",
              "    }\n",
              "\n",
              "    [theme=dark] .colab-df-convert {\n",
              "      background-color: #3B4455;\n",
              "      fill: #D2E3FC;\n",
              "    }\n",
              "\n",
              "    [theme=dark] .colab-df-convert:hover {\n",
              "      background-color: #434B5C;\n",
              "      box-shadow: 0px 1px 3px 1px rgba(0, 0, 0, 0.15);\n",
              "      filter: drop-shadow(0px 1px 2px rgba(0, 0, 0, 0.3));\n",
              "      fill: #FFFFFF;\n",
              "    }\n",
              "  </style>\n",
              "\n",
              "    <script>\n",
              "      const buttonEl =\n",
              "        document.querySelector('#df-582c5786-bb6e-47ee-9432-b92dff104557 button.colab-df-convert');\n",
              "      buttonEl.style.display =\n",
              "        google.colab.kernel.accessAllowed ? 'block' : 'none';\n",
              "\n",
              "      async function convertToInteractive(key) {\n",
              "        const element = document.querySelector('#df-582c5786-bb6e-47ee-9432-b92dff104557');\n",
              "        const dataTable =\n",
              "          await google.colab.kernel.invokeFunction('convertToInteractive',\n",
              "                                                    [key], {});\n",
              "        if (!dataTable) return;\n",
              "\n",
              "        const docLinkHtml = 'Like what you see? Visit the ' +\n",
              "          '<a target=\"_blank\" href=https://colab.research.google.com/notebooks/data_table.ipynb>data table notebook</a>'\n",
              "          + ' to learn more about interactive tables.';\n",
              "        element.innerHTML = '';\n",
              "        dataTable['output_type'] = 'display_data';\n",
              "        await google.colab.output.renderOutput(dataTable, element);\n",
              "        const docLink = document.createElement('div');\n",
              "        docLink.innerHTML = docLinkHtml;\n",
              "        element.appendChild(docLink);\n",
              "      }\n",
              "    </script>\n",
              "  </div>\n",
              "\n",
              "\n",
              "<div id=\"df-aeac7f33-386d-4003-bac3-5950e7a917f6\">\n",
              "  <button class=\"colab-df-quickchart\" onclick=\"quickchart('df-aeac7f33-386d-4003-bac3-5950e7a917f6')\"\n",
              "            title=\"Suggest charts.\"\n",
              "            style=\"display:none;\">\n",
              "\n",
              "<svg xmlns=\"http://www.w3.org/2000/svg\" height=\"24px\"viewBox=\"0 0 24 24\"\n",
              "     width=\"24px\">\n",
              "    <g>\n",
              "        <path d=\"M19 3H5c-1.1 0-2 .9-2 2v14c0 1.1.9 2 2 2h14c1.1 0 2-.9 2-2V5c0-1.1-.9-2-2-2zM9 17H7v-7h2v7zm4 0h-2V7h2v10zm4 0h-2v-4h2v4z\"/>\n",
              "    </g>\n",
              "</svg>\n",
              "  </button>\n",
              "\n",
              "<style>\n",
              "  .colab-df-quickchart {\n",
              "      --bg-color: #E8F0FE;\n",
              "      --fill-color: #1967D2;\n",
              "      --hover-bg-color: #E2EBFA;\n",
              "      --hover-fill-color: #174EA6;\n",
              "      --disabled-fill-color: #AAA;\n",
              "      --disabled-bg-color: #DDD;\n",
              "  }\n",
              "\n",
              "  [theme=dark] .colab-df-quickchart {\n",
              "      --bg-color: #3B4455;\n",
              "      --fill-color: #D2E3FC;\n",
              "      --hover-bg-color: #434B5C;\n",
              "      --hover-fill-color: #FFFFFF;\n",
              "      --disabled-bg-color: #3B4455;\n",
              "      --disabled-fill-color: #666;\n",
              "  }\n",
              "\n",
              "  .colab-df-quickchart {\n",
              "    background-color: var(--bg-color);\n",
              "    border: none;\n",
              "    border-radius: 50%;\n",
              "    cursor: pointer;\n",
              "    display: none;\n",
              "    fill: var(--fill-color);\n",
              "    height: 32px;\n",
              "    padding: 0;\n",
              "    width: 32px;\n",
              "  }\n",
              "\n",
              "  .colab-df-quickchart:hover {\n",
              "    background-color: var(--hover-bg-color);\n",
              "    box-shadow: 0 1px 2px rgba(60, 64, 67, 0.3), 0 1px 3px 1px rgba(60, 64, 67, 0.15);\n",
              "    fill: var(--button-hover-fill-color);\n",
              "  }\n",
              "\n",
              "  .colab-df-quickchart-complete:disabled,\n",
              "  .colab-df-quickchart-complete:disabled:hover {\n",
              "    background-color: var(--disabled-bg-color);\n",
              "    fill: var(--disabled-fill-color);\n",
              "    box-shadow: none;\n",
              "  }\n",
              "\n",
              "  .colab-df-spinner {\n",
              "    border: 2px solid var(--fill-color);\n",
              "    border-color: transparent;\n",
              "    border-bottom-color: var(--fill-color);\n",
              "    animation:\n",
              "      spin 1s steps(1) infinite;\n",
              "  }\n",
              "\n",
              "  @keyframes spin {\n",
              "    0% {\n",
              "      border-color: transparent;\n",
              "      border-bottom-color: var(--fill-color);\n",
              "      border-left-color: var(--fill-color);\n",
              "    }\n",
              "    20% {\n",
              "      border-color: transparent;\n",
              "      border-left-color: var(--fill-color);\n",
              "      border-top-color: var(--fill-color);\n",
              "    }\n",
              "    30% {\n",
              "      border-color: transparent;\n",
              "      border-left-color: var(--fill-color);\n",
              "      border-top-color: var(--fill-color);\n",
              "      border-right-color: var(--fill-color);\n",
              "    }\n",
              "    40% {\n",
              "      border-color: transparent;\n",
              "      border-right-color: var(--fill-color);\n",
              "      border-top-color: var(--fill-color);\n",
              "    }\n",
              "    60% {\n",
              "      border-color: transparent;\n",
              "      border-right-color: var(--fill-color);\n",
              "    }\n",
              "    80% {\n",
              "      border-color: transparent;\n",
              "      border-right-color: var(--fill-color);\n",
              "      border-bottom-color: var(--fill-color);\n",
              "    }\n",
              "    90% {\n",
              "      border-color: transparent;\n",
              "      border-bottom-color: var(--fill-color);\n",
              "    }\n",
              "  }\n",
              "</style>\n",
              "\n",
              "  <script>\n",
              "    async function quickchart(key) {\n",
              "      const quickchartButtonEl =\n",
              "        document.querySelector('#' + key + ' button');\n",
              "      quickchartButtonEl.disabled = true;  // To prevent multiple clicks.\n",
              "      quickchartButtonEl.classList.add('colab-df-spinner');\n",
              "      try {\n",
              "        const charts = await google.colab.kernel.invokeFunction(\n",
              "            'suggestCharts', [key], {});\n",
              "      } catch (error) {\n",
              "        console.error('Error during call to suggestCharts:', error);\n",
              "      }\n",
              "      quickchartButtonEl.classList.remove('colab-df-spinner');\n",
              "      quickchartButtonEl.classList.add('colab-df-quickchart-complete');\n",
              "    }\n",
              "    (() => {\n",
              "      let quickchartButtonEl =\n",
              "        document.querySelector('#df-aeac7f33-386d-4003-bac3-5950e7a917f6 button');\n",
              "      quickchartButtonEl.style.display =\n",
              "        google.colab.kernel.accessAllowed ? 'block' : 'none';\n",
              "    })();\n",
              "  </script>\n",
              "</div>\n",
              "    </div>\n",
              "  </div>\n"
            ]
          },
          "metadata": {},
          "execution_count": 114
        }
      ],
      "source": [
        "df.describe()"
      ]
    },
    {
      "cell_type": "markdown",
      "metadata": {
        "id": "dldErSUo_URv"
      },
      "source": [
        "correlation between feature"
      ]
    },
    {
      "cell_type": "code",
      "execution_count": null,
      "metadata": {
        "colab": {
          "base_uri": "https://localhost:8080/"
        },
        "id": "mDw1FCV3_Ecm",
        "outputId": "4c82142c-8732-44bb-ed5f-aece08ca61ea"
      },
      "outputs": [
        {
          "output_type": "stream",
          "name": "stderr",
          "text": [
            "<ipython-input-115-1e816e2b6856>:1: FutureWarning:\n",
            "\n",
            "The default value of numeric_only in DataFrame.corr is deprecated. In a future version, it will default to False. Select only valid columns or specify the value of numeric_only to silence this warning.\n",
            "\n"
          ]
        },
        {
          "output_type": "execute_result",
          "data": {
            "text/plain": [
              "Age                  0.046943\n",
              "Internships          0.179334\n",
              "CGPA                 0.588648\n",
              "Hostel              -0.038182\n",
              "HistoryOfBacklogs   -0.022337\n",
              "PlacedOrNot          1.000000\n",
              "Name: PlacedOrNot, dtype: float64"
            ]
          },
          "metadata": {},
          "execution_count": 115
        }
      ],
      "source": [
        "df.corr()['PlacedOrNot']"
      ]
    },
    {
      "cell_type": "code",
      "execution_count": null,
      "metadata": {
        "colab": {
          "base_uri": "https://localhost:8080/"
        },
        "id": "l2w1P0fo_cfo",
        "outputId": "80791f51-cb9e-469a-b191-d2e12b853cc0"
      },
      "outputs": [
        {
          "output_type": "execute_result",
          "data": {
            "text/plain": [
              "Age                  0\n",
              "Gender               0\n",
              "Stream               0\n",
              "Internships          0\n",
              "CGPA                 0\n",
              "Hostel               0\n",
              "HistoryOfBacklogs    0\n",
              "PlacedOrNot          0\n",
              "dtype: int64"
            ]
          },
          "metadata": {},
          "execution_count": 116
        }
      ],
      "source": [
        "# missing values\n",
        "df.isnull().sum()"
      ]
    },
    {
      "cell_type": "code",
      "execution_count": null,
      "metadata": {
        "colab": {
          "base_uri": "https://localhost:8080/"
        },
        "id": "PF59s7mHAN2k",
        "outputId": "08922474-f9ae-4efc-8d93-14c5d1cc84c3"
      },
      "outputs": [
        {
          "output_type": "stream",
          "name": "stdout",
          "text": [
            "1829\n"
          ]
        }
      ],
      "source": [
        "# duplicate rows\n",
        "print(df.duplicated().sum())"
      ]
    },
    {
      "cell_type": "code",
      "execution_count": null,
      "metadata": {
        "colab": {
          "base_uri": "https://localhost:8080/"
        },
        "id": "3XvE6h_sAVJH",
        "outputId": "2cd34586-bf38-4c12-b056-6f1bb27bdc3a"
      },
      "outputs": [
        {
          "output_type": "stream",
          "name": "stdout",
          "text": [
            "0\n"
          ]
        }
      ],
      "source": [
        "#drop duplicates\n",
        "df.drop_duplicates(inplace=True)\n",
        "print(df.duplicated().sum())"
      ]
    },
    {
      "cell_type": "markdown",
      "metadata": {
        "id": "15676_IxAqDT"
      },
      "source": [
        "#EDA"
      ]
    },
    {
      "cell_type": "code",
      "execution_count": null,
      "metadata": {
        "id": "M7frZl80A1EC"
      },
      "outputs": [],
      "source": [
        "import plotly.express as px"
      ]
    },
    {
      "cell_type": "code",
      "execution_count": null,
      "metadata": {
        "colab": {
          "base_uri": "https://localhost:8080/",
          "height": 542
        },
        "id": "WRlypHgqAdsL",
        "outputId": "89ee1cab-1aae-4083-f940-be8b3665753e"
      },
      "outputs": [
        {
          "output_type": "display_data",
          "data": {
            "text/html": [
              "<html>\n",
              "<head><meta charset=\"utf-8\" /></head>\n",
              "<body>\n",
              "    <div>            <script src=\"https://cdnjs.cloudflare.com/ajax/libs/mathjax/2.7.5/MathJax.js?config=TeX-AMS-MML_SVG\"></script><script type=\"text/javascript\">if (window.MathJax && window.MathJax.Hub && window.MathJax.Hub.Config) {window.MathJax.Hub.Config({SVG: {font: \"STIX-Web\"}});}</script>                <script type=\"text/javascript\">window.PlotlyConfig = {MathJaxConfig: 'local'};</script>\n",
              "        <script charset=\"utf-8\" src=\"https://cdn.plot.ly/plotly-2.24.1.min.js\"></script>                <div id=\"13452a42-e4bf-4583-bcf6-85afd1731328\" class=\"plotly-graph-div\" style=\"height:525px; width:100%;\"></div>            <script type=\"text/javascript\">                                    window.PLOTLYENV=window.PLOTLYENV || {};                                    if (document.getElementById(\"13452a42-e4bf-4583-bcf6-85afd1731328\")) {                    Plotly.newPlot(                        \"13452a42-e4bf-4583-bcf6-85afd1731328\",                        [{\"hovertemplate\":\"CGPA=%{x}\\u003cbr\\u003eInternships=%{y}\\u003cbr\\u003ePlacedOrNot=%{marker.color}\\u003cextra\\u003e\\u003c\\u002fextra\\u003e\",\"legendgroup\":\"\",\"marker\":{\"color\":[1,1,1,1,1,0,0,0,1,0,0,1,0,1,1,0,0,0,1,0,0,0,0,1,1,1,1,1,1,0,0,1,0,1,1,0,1,0,1,1,1,1,1,1,0,1,1,1,0,1,1,1,1,1,1,1,1,1,1,1,1,1,1,1,1,1,1,1,1,1,1,1,1,1,0,0,0,1,1,1,0,0,0,0,1,1,0,1,0,0,1,1,1,1,1,1,0,1,0,1,1,1,1,0,1,1,0,0,1,0,1,0,0,1,1,1,1,0,0,1,1,1,1,1,1,0,1,0,0,1,1,0,1,0,1,1,0,0,1,1,0,0,1,0,1,0,0,1,1,0,1,0,0,1,0,0,0,0,0,0,0,0,0,0,0,0,0,0,0,1,0,1,0,0,1,1,0,0,1,0,0,1,1,0,0,0,0,0,1,1,0,1,1,0,0,1,0,0,1,0,0,1,1,1,1,1,0,1,1,0,1,0,0,0,1,0,0,1,1,1,1,1,1,0,0,0,0,1,1,1,0,0,1,1,1,1,1,1,1,1,1,0,1,0,0,1,0,1,1,1,1,1,1,0,1,1,1,1,0,0,0,0,0,0,0,0,0,0,0,0,0,1,1,0,0,0,0,0,0,0,1,0,0,0,0,0,0,0,0,0,1,1,0,1,0,1,0,1,1,1,0,0,1,1,0,1,1,0,1,1,1,0,1,1,1,0,1,1,1,1,1,1,1,1,0,1,1,1,0,0,0,0,0,1,0,1,0,1,1,1,1,1,0,0,0,1,0,0,0,0,1,1,1,1,1,1,0,1,0,0,1,1,1,1,0,1,1,0,1,1,0,1,1,0,1,1,0,0,0,0,0,0,0,1,0,1,0,1,1,1,1,1,1,1,1,1,1,1,1,1,1,0,1,1,1,1,1,0,1,1,1,1,1,1,0,0,1,1,0,1,1,1,0,1,1,0,1,0,1,1,0,0,1,1,1,1,1,1,1,1,0,0,1,0,1,1,1,1,1,1,1,1,1,0,1,1,1,1,1,0,1,1,1,1,1,1,0,0,0,1,1,1,1,1,1,0,0,0,1,1,1,1,1,0,1,1,0,0,1,1,1,1,0,1,1,1,0,0,0,0,1,1,1,0,1,0,1,1,0,1,1,1,1,0,1,0,0,1,1,1,1,1,1,1,1,1,1,1,1,1,1,1,1,0,1,1,1,1,1,1,1,1,1,1,1,1,1,1,1,1,0,0,1,1,1,1,1,1,1,0,1,1,0,1,1,1,1,1,1,1,1,1,1,0,1,1,0,1,1,1,0,1,1,0,0,0,1,0,1,0,1,1,1,1,0,1,1,0,0,1,1,1,1,0,1,1,0,1,1,1,1,0,1,1,1,1,0,0,0,0,0,0,0,0,0,1,0,1,0,1,1,1,1,0,1,1,1,1,0,0,1,0,1,0,1,1,1,0,0,0,0,0,0,1,1,0,1,0,0,0,0,0,0,1,1,1,1,1,1,1,1,1,1,0,0,0,0,0,0,0,0,0,1,0,0,0,0,0,0,1,1,1,0,1,0,0,1,1,0,0,0,1,0,1,0,1,1,1,1,0,1,0,1,0,0,1,1,1,1,1,1,1,0,1,1,0,0,1,0,1,1,0,1,0,1,1,1,0,0,0,0,0,0,0,1,0,0,0,0,0,1,0,0,0,1,0,0,0,0,0,1,0,0,1,0,0,0,0,0,0,0,1,0,1,0,0,1,1,0,0,0,0,1,0,0,0,1,1,1,0,0,0,0,0,1,1,0,1,1,1,1,0,0,1,0,0,0,1,0,0,1,0,1,1,1,1,1,1,1,1,1,1,0,1,1,1,1,1,1,0,0,0,1,1,1,1,1,1,0,1,1,0,1,1,1,1,1,0,1,0,0,1,0,0,1,1,0,0,1,0,0,0,0,1,0,1,1,0,0,1,0,0,1,1,0,1,0,1,1,0,1,1,1,0,0,1,0,1,0,1,1,1,0,1,1,0,0,1,1,1,1,1,0,0,0,0,0,0,1,0,1,1,1,0,1,1,1,1,1,1,1,1,1,1,1,0,1,1,0,1,1,0,1,1,0,1,1,1,1,0,0,1,0,1,0,1,1,1,0,1,1,1,0,1,1,0,0,0,1,1,1,0,0,1,0,1,1,0,0,0,1,0,0,0,0,1,0,1,1,1,1,0,1,1,0,0,1,1,1,1,0,0,0,0,0,0,0,1,0,0,1,1,0,0,0,0,0,0,0,0,0,1,1,1,0,1,0,1,0,1,0,1,0,0,0,0,0,1,1,1,1,0,1,1,0,1,0,1,0,0,1,0,0,0,0,0,0,0,0,1,1,1,1,1,1,1,1,1,1,1,1,1,1,1,1,1,1,1,1,1,1,1,1,1,1,0,1,1,1,1,1,1,1,1,1,1,1,0,1,1,1,1,0,0,1,1,0,0,0,0,1,1,1,0,0,0,0,0,1,1,0,1,0,1,1,0,1,0,1,1,1,1,1,0,1,1,0,0,1,0,0,0,0,1,1,0,0],\"coloraxis\":\"coloraxis\",\"symbol\":\"circle\"},\"mode\":\"markers\",\"name\":\"\",\"showlegend\":false,\"x\":[8,7,6,8,8,6,7,7,6,6,7,8,6,8,8,7,6,7,8,6,7,7,7,8,8,8,6,8,7,7,7,6,6,7,8,6,8,6,8,7,8,6,7,7,7,8,8,8,6,7,8,8,8,9,8,8,9,8,9,9,9,8,9,9,9,9,8,8,8,9,9,8,7,8,6,6,7,8,6,6,7,7,7,7,7,6,5,6,5,6,6,7,7,7,6,6,7,6,6,7,5,6,6,7,5,7,5,7,7,5,6,6,7,6,6,6,5,5,5,5,7,7,5,7,6,5,7,5,6,7,6,5,6,6,7,7,5,5,6,6,5,6,6,5,6,6,7,7,7,7,6,5,6,6,6,5,5,7,7,5,6,5,7,5,5,5,6,5,7,7,6,6,7,7,8,8,6,6,6,7,7,8,8,6,7,6,6,6,8,8,7,7,8,7,6,8,7,6,6,7,6,8,8,8,8,6,6,8,8,7,6,6,7,6,8,7,7,6,7,8,6,7,6,6,7,6,6,7,7,6,7,6,8,6,6,8,7,8,6,6,6,6,7,6,6,6,7,7,6,8,7,7,6,6,8,8,7,8,7,6,6,6,7,7,7,6,6,6,7,7,6,8,8,6,6,6,5,6,5,5,6,5,5,7,7,6,6,6,6,6,7,8,6,8,6,8,6,8,8,6,7,7,7,7,6,6,8,7,6,6,7,7,8,8,8,7,6,6,7,7,6,8,8,7,7,6,8,8,7,6,7,6,7,8,7,8,6,8,8,8,8,8,6,7,7,8,7,6,7,7,8,7,8,6,7,7,7,8,6,6,7,8,8,6,7,8,6,6,6,8,7,8,8,7,7,6,6,7,7,7,6,7,6,8,6,6,7,6,8,6,6,8,9,7,9,6,6,8,8,8,6,7,9,8,8,8,8,7,9,8,9,6,9,8,7,7,8,9,7,9,8,8,7,7,8,7,7,7,8,6,6,7,6,8,6,8,8,6,6,8,7,7,8,6,8,8,8,7,8,6,8,8,7,7,8,7,8,7,6,6,6,6,8,7,7,8,6,7,7,8,8,7,7,7,8,6,7,6,6,8,7,8,6,6,7,8,7,7,6,7,7,6,6,8,8,7,6,6,7,7,8,6,8,7,6,7,8,8,7,8,9,8,7,7,9,7,7,7,9,9,9,9,8,9,9,8,9,9,8,9,9,9,8,7,9,7,7,9,9,9,9,9,8,9,9,9,9,9,9,9,7,7,9,9,8,9,8,9,9,7,8,9,7,9,8,8,9,9,9,9,9,8,7,7,6,6,7,7,6,7,7,6,6,7,7,7,6,7,6,7,6,6,6,6,7,6,6,7,7,7,6,7,7,7,6,6,7,6,7,7,7,7,6,6,6,6,7,7,7,6,6,7,7,6,6,8,7,6,6,8,8,6,8,6,8,6,6,8,7,7,7,7,7,7,6,8,8,7,6,7,6,6,7,8,7,7,8,7,7,7,6,6,6,7,7,7,8,8,7,8,7,8,6,6,5,5,6,5,5,5,5,6,6,5,5,5,5,5,6,7,7,6,7,7,7,6,8,8,7,7,7,8,7,8,7,8,8,8,7,7,7,7,8,7,6,8,7,6,8,6,7,7,7,8,7,7,7,8,7,8,8,6,6,6,8,7,8,7,7,6,5,5,5,5,6,5,5,5,5,5,6,5,5,6,6,5,5,5,5,5,6,5,6,6,5,5,5,5,6,6,6,8,7,8,6,7,8,8,7,6,7,6,8,7,6,6,7,6,8,6,6,7,7,6,7,8,7,8,8,8,8,7,7,7,7,7,7,7,7,7,7,6,8,6,7,8,8,7,8,8,7,7,7,8,8,8,8,8,7,7,7,7,7,7,8,8,8,8,7,7,8,7,8,8,8,8,8,7,8,7,7,8,7,7,8,7,6,7,8,6,6,7,6,8,6,6,7,6,6,6,7,6,8,8,6,8,7,8,6,7,8,7,7,6,6,8,6,7,6,8,7,9,6,9,6,7,5,9,8,9,6,7,5,5,5,5,5,5,9,5,9,6,9,5,8,9,6,9,8,9,8,7,9,9,7,7,9,7,5,9,7,5,9,9,5,9,6,9,8,7,6,6,7,7,6,6,7,7,6,6,6,6,6,8,8,6,6,6,8,8,8,7,6,7,7,6,7,7,6,6,6,6,6,7,7,7,6,7,7,7,8,6,8,8,7,6,8,8,8,7,7,7,7,7,6,7,6,6,6,7,7,8,7,7,6,6,7,6,6,6,7,8,8,6,6,8,7,8,6,8,6,6,7,6,7,7,6,7,7,6,8,7,8,8,6,6,6,8,7,6,6,6,7,7,7,6,6,7,7,9,9,7,9,7,9,9,8,9,9,9,9,7,9,9,9,8,9,8,9,9,9,7,9,7,7,7,9,9,9,9,8,8,8,9,9,9,8,7,8,7,8,8,7,7,8,8,7,6,6,6,6,8,8,6,7,6,6,7,8,7,6,7,6,8,8,7,8,6,8,8,7,8,6,6,8,8,6,6,8,6,6,7,7,8,8,6,7],\"xaxis\":\"x\",\"y\":[1,0,1,0,0,0,0,1,2,1,1,1,2,1,2,1,0,1,0,1,0,1,0,0,1,1,0,1,1,1,0,1,1,0,1,1,0,1,0,1,2,3,1,2,0,0,1,1,3,1,0,0,1,2,0,0,0,1,0,1,2,0,0,3,1,0,0,0,1,0,1,0,2,0,0,1,1,1,1,1,2,2,0,0,0,0,1,2,0,1,0,1,1,1,1,1,0,0,0,1,3,0,2,1,1,2,1,1,2,0,0,0,1,1,1,0,0,0,0,1,0,3,2,0,1,0,1,0,2,0,2,0,2,1,0,0,0,1,3,0,0,1,1,2,1,0,0,0,0,1,1,1,1,2,1,0,2,1,1,1,0,0,0,0,0,1,2,1,2,2,1,2,1,0,0,2,0,1,3,1,1,1,2,1,0,0,1,0,1,0,1,2,1,1,0,2,0,1,2,1,1,3,0,1,1,2,1,1,1,1,2,0,1,0,0,0,1,0,2,1,0,0,1,2,0,1,2,2,1,1,0,0,2,0,1,0,2,1,0,0,0,0,0,1,1,0,0,2,0,1,1,0,0,0,2,0,0,0,1,0,0,0,0,0,0,1,1,1,0,0,0,1,2,0,0,1,1,0,1,1,2,2,0,2,0,1,0,0,0,2,3,0,1,1,0,1,1,1,0,2,1,0,0,0,1,0,1,0,1,0,0,2,1,0,0,1,2,0,2,1,0,3,3,0,0,2,0,1,0,1,2,0,1,1,1,1,1,1,1,1,0,1,1,1,1,0,0,0,0,2,0,1,1,1,2,1,2,1,2,1,1,2,2,2,1,2,2,1,2,2,2,2,2,1,1,0,1,1,1,1,1,0,0,2,0,2,0,2,1,2,0,1,0,1,0,1,1,0,0,0,1,0,1,0,2,1,1,1,1,2,0,0,0,0,1,1,0,0,0,0,1,1,0,3,1,1,1,0,0,1,1,0,1,0,0,1,1,1,1,2,1,0,2,0,1,2,0,1,0,0,1,0,0,3,0,0,0,2,0,1,2,0,1,1,0,3,1,1,2,2,1,2,1,0,0,1,0,0,1,1,2,1,2,1,2,2,2,2,2,1,1,1,1,2,2,2,1,1,2,1,2,2,2,2,2,2,2,2,2,1,1,2,2,2,2,2,1,2,1,1,2,2,1,2,1,2,2,2,1,2,1,2,2,2,1,2,1,0,0,1,0,0,1,0,2,0,1,0,0,0,1,1,1,1,1,0,1,0,0,1,2,1,0,2,2,1,0,1,0,0,1,1,0,0,1,0,0,1,1,2,1,1,0,1,1,0,0,1,0,1,0,0,0,0,0,0,1,1,0,1,1,0,0,0,0,1,0,1,1,2,0,1,0,0,1,0,1,0,1,1,1,3,1,0,1,0,2,3,1,3,1,3,1,3,1,1,1,0,1,0,1,2,2,0,1,0,1,0,1,1,1,0,0,0,1,1,0,0,1,2,0,1,0,0,2,1,0,1,1,0,1,0,2,0,2,1,1,0,1,0,0,2,0,1,2,0,0,0,1,0,1,1,1,1,0,0,0,0,0,0,0,1,1,0,2,2,0,1,1,1,0,1,1,2,0,3,0,0,0,2,0,1,0,1,2,1,0,1,0,0,0,1,1,0,0,1,2,0,0,0,1,0,0,2,0,0,1,1,1,0,0,0,1,1,2,0,1,0,0,2,3,1,0,1,0,1,0,0,1,0,0,1,3,0,1,0,1,1,1,1,0,1,0,1,1,1,0,0,1,0,1,1,0,1,1,1,1,1,0,0,2,0,0,1,1,1,0,1,0,0,2,0,2,2,2,1,1,0,0,0,1,1,3,1,0,1,1,1,1,0,1,3,1,0,3,1,1,1,1,2,0,0,0,1,1,1,1,1,2,1,0,0,1,1,2,0,0,0,0,0,0,1,1,2,0,3,2,1,2,2,0,0,1,2,0,2,1,0,2,2,0,3,1,0,0,0,1,1,0,1,2,1,0,1,1,0,0,0,2,0,3,1,1,0,1,1,0,2,0,0,0,0,1,0,1,1,1,1,2,1,0,1,3,0,0,0,1,2,1,1,3,0,0,3,0,3,1,2,1,0,1,2,0,1,0,1,0,1,0,0,1,3,1,1,0,1,1,1,1,1,0,0,0,2,0,1,0,0,0,3,2,1,1,0,0,1,0,0,2,1,1,0,0,2,1,1,1,0,0,2,1,0,0,1,3,1,1,2,1,1,1,0,1,1,0,0,0,0,1,0,0,0,1,0,1,0,0,1,1,2,1,2,2,0,0,3,0,1,2,2,0,2,0,0,1,3,0,3,1,0,2,0,0,0,1,0,2,1,0,2,0,0,1,3,0,1,0,1,0,2,0,1,0,0,0,1,3,3,3,0,1,1,0,1,0,1,0,1,0,0,0,1,3,1,0,1,1,1,2,1,2,2,1,1,0,2,1,0,0,1,2,1,0,0,0,0,1,1,3,1,1,1,1,1,1,1,1,1,3,2,0,0,2,0,0,1,1,0,0,0,0,1,1,0,1,0,1],\"yaxis\":\"y\",\"type\":\"scattergl\"}],                        {\"template\":{\"data\":{\"histogram2dcontour\":[{\"type\":\"histogram2dcontour\",\"colorbar\":{\"outlinewidth\":0,\"ticks\":\"\"},\"colorscale\":[[0.0,\"#0d0887\"],[0.1111111111111111,\"#46039f\"],[0.2222222222222222,\"#7201a8\"],[0.3333333333333333,\"#9c179e\"],[0.4444444444444444,\"#bd3786\"],[0.5555555555555556,\"#d8576b\"],[0.6666666666666666,\"#ed7953\"],[0.7777777777777778,\"#fb9f3a\"],[0.8888888888888888,\"#fdca26\"],[1.0,\"#f0f921\"]]}],\"choropleth\":[{\"type\":\"choropleth\",\"colorbar\":{\"outlinewidth\":0,\"ticks\":\"\"}}],\"histogram2d\":[{\"type\":\"histogram2d\",\"colorbar\":{\"outlinewidth\":0,\"ticks\":\"\"},\"colorscale\":[[0.0,\"#0d0887\"],[0.1111111111111111,\"#46039f\"],[0.2222222222222222,\"#7201a8\"],[0.3333333333333333,\"#9c179e\"],[0.4444444444444444,\"#bd3786\"],[0.5555555555555556,\"#d8576b\"],[0.6666666666666666,\"#ed7953\"],[0.7777777777777778,\"#fb9f3a\"],[0.8888888888888888,\"#fdca26\"],[1.0,\"#f0f921\"]]}],\"heatmap\":[{\"type\":\"heatmap\",\"colorbar\":{\"outlinewidth\":0,\"ticks\":\"\"},\"colorscale\":[[0.0,\"#0d0887\"],[0.1111111111111111,\"#46039f\"],[0.2222222222222222,\"#7201a8\"],[0.3333333333333333,\"#9c179e\"],[0.4444444444444444,\"#bd3786\"],[0.5555555555555556,\"#d8576b\"],[0.6666666666666666,\"#ed7953\"],[0.7777777777777778,\"#fb9f3a\"],[0.8888888888888888,\"#fdca26\"],[1.0,\"#f0f921\"]]}],\"heatmapgl\":[{\"type\":\"heatmapgl\",\"colorbar\":{\"outlinewidth\":0,\"ticks\":\"\"},\"colorscale\":[[0.0,\"#0d0887\"],[0.1111111111111111,\"#46039f\"],[0.2222222222222222,\"#7201a8\"],[0.3333333333333333,\"#9c179e\"],[0.4444444444444444,\"#bd3786\"],[0.5555555555555556,\"#d8576b\"],[0.6666666666666666,\"#ed7953\"],[0.7777777777777778,\"#fb9f3a\"],[0.8888888888888888,\"#fdca26\"],[1.0,\"#f0f921\"]]}],\"contourcarpet\":[{\"type\":\"contourcarpet\",\"colorbar\":{\"outlinewidth\":0,\"ticks\":\"\"}}],\"contour\":[{\"type\":\"contour\",\"colorbar\":{\"outlinewidth\":0,\"ticks\":\"\"},\"colorscale\":[[0.0,\"#0d0887\"],[0.1111111111111111,\"#46039f\"],[0.2222222222222222,\"#7201a8\"],[0.3333333333333333,\"#9c179e\"],[0.4444444444444444,\"#bd3786\"],[0.5555555555555556,\"#d8576b\"],[0.6666666666666666,\"#ed7953\"],[0.7777777777777778,\"#fb9f3a\"],[0.8888888888888888,\"#fdca26\"],[1.0,\"#f0f921\"]]}],\"surface\":[{\"type\":\"surface\",\"colorbar\":{\"outlinewidth\":0,\"ticks\":\"\"},\"colorscale\":[[0.0,\"#0d0887\"],[0.1111111111111111,\"#46039f\"],[0.2222222222222222,\"#7201a8\"],[0.3333333333333333,\"#9c179e\"],[0.4444444444444444,\"#bd3786\"],[0.5555555555555556,\"#d8576b\"],[0.6666666666666666,\"#ed7953\"],[0.7777777777777778,\"#fb9f3a\"],[0.8888888888888888,\"#fdca26\"],[1.0,\"#f0f921\"]]}],\"mesh3d\":[{\"type\":\"mesh3d\",\"colorbar\":{\"outlinewidth\":0,\"ticks\":\"\"}}],\"scatter\":[{\"fillpattern\":{\"fillmode\":\"overlay\",\"size\":10,\"solidity\":0.2},\"type\":\"scatter\"}],\"parcoords\":[{\"type\":\"parcoords\",\"line\":{\"colorbar\":{\"outlinewidth\":0,\"ticks\":\"\"}}}],\"scatterpolargl\":[{\"type\":\"scatterpolargl\",\"marker\":{\"colorbar\":{\"outlinewidth\":0,\"ticks\":\"\"}}}],\"bar\":[{\"error_x\":{\"color\":\"#2a3f5f\"},\"error_y\":{\"color\":\"#2a3f5f\"},\"marker\":{\"line\":{\"color\":\"#E5ECF6\",\"width\":0.5},\"pattern\":{\"fillmode\":\"overlay\",\"size\":10,\"solidity\":0.2}},\"type\":\"bar\"}],\"scattergeo\":[{\"type\":\"scattergeo\",\"marker\":{\"colorbar\":{\"outlinewidth\":0,\"ticks\":\"\"}}}],\"scatterpolar\":[{\"type\":\"scatterpolar\",\"marker\":{\"colorbar\":{\"outlinewidth\":0,\"ticks\":\"\"}}}],\"histogram\":[{\"marker\":{\"pattern\":{\"fillmode\":\"overlay\",\"size\":10,\"solidity\":0.2}},\"type\":\"histogram\"}],\"scattergl\":[{\"type\":\"scattergl\",\"marker\":{\"colorbar\":{\"outlinewidth\":0,\"ticks\":\"\"}}}],\"scatter3d\":[{\"type\":\"scatter3d\",\"line\":{\"colorbar\":{\"outlinewidth\":0,\"ticks\":\"\"}},\"marker\":{\"colorbar\":{\"outlinewidth\":0,\"ticks\":\"\"}}}],\"scattermapbox\":[{\"type\":\"scattermapbox\",\"marker\":{\"colorbar\":{\"outlinewidth\":0,\"ticks\":\"\"}}}],\"scatterternary\":[{\"type\":\"scatterternary\",\"marker\":{\"colorbar\":{\"outlinewidth\":0,\"ticks\":\"\"}}}],\"scattercarpet\":[{\"type\":\"scattercarpet\",\"marker\":{\"colorbar\":{\"outlinewidth\":0,\"ticks\":\"\"}}}],\"carpet\":[{\"aaxis\":{\"endlinecolor\":\"#2a3f5f\",\"gridcolor\":\"white\",\"linecolor\":\"white\",\"minorgridcolor\":\"white\",\"startlinecolor\":\"#2a3f5f\"},\"baxis\":{\"endlinecolor\":\"#2a3f5f\",\"gridcolor\":\"white\",\"linecolor\":\"white\",\"minorgridcolor\":\"white\",\"startlinecolor\":\"#2a3f5f\"},\"type\":\"carpet\"}],\"table\":[{\"cells\":{\"fill\":{\"color\":\"#EBF0F8\"},\"line\":{\"color\":\"white\"}},\"header\":{\"fill\":{\"color\":\"#C8D4E3\"},\"line\":{\"color\":\"white\"}},\"type\":\"table\"}],\"barpolar\":[{\"marker\":{\"line\":{\"color\":\"#E5ECF6\",\"width\":0.5},\"pattern\":{\"fillmode\":\"overlay\",\"size\":10,\"solidity\":0.2}},\"type\":\"barpolar\"}],\"pie\":[{\"automargin\":true,\"type\":\"pie\"}]},\"layout\":{\"autotypenumbers\":\"strict\",\"colorway\":[\"#636efa\",\"#EF553B\",\"#00cc96\",\"#ab63fa\",\"#FFA15A\",\"#19d3f3\",\"#FF6692\",\"#B6E880\",\"#FF97FF\",\"#FECB52\"],\"font\":{\"color\":\"#2a3f5f\"},\"hovermode\":\"closest\",\"hoverlabel\":{\"align\":\"left\"},\"paper_bgcolor\":\"white\",\"plot_bgcolor\":\"#E5ECF6\",\"polar\":{\"bgcolor\":\"#E5ECF6\",\"angularaxis\":{\"gridcolor\":\"white\",\"linecolor\":\"white\",\"ticks\":\"\"},\"radialaxis\":{\"gridcolor\":\"white\",\"linecolor\":\"white\",\"ticks\":\"\"}},\"ternary\":{\"bgcolor\":\"#E5ECF6\",\"aaxis\":{\"gridcolor\":\"white\",\"linecolor\":\"white\",\"ticks\":\"\"},\"baxis\":{\"gridcolor\":\"white\",\"linecolor\":\"white\",\"ticks\":\"\"},\"caxis\":{\"gridcolor\":\"white\",\"linecolor\":\"white\",\"ticks\":\"\"}},\"coloraxis\":{\"colorbar\":{\"outlinewidth\":0,\"ticks\":\"\"}},\"colorscale\":{\"sequential\":[[0.0,\"#0d0887\"],[0.1111111111111111,\"#46039f\"],[0.2222222222222222,\"#7201a8\"],[0.3333333333333333,\"#9c179e\"],[0.4444444444444444,\"#bd3786\"],[0.5555555555555556,\"#d8576b\"],[0.6666666666666666,\"#ed7953\"],[0.7777777777777778,\"#fb9f3a\"],[0.8888888888888888,\"#fdca26\"],[1.0,\"#f0f921\"]],\"sequentialminus\":[[0.0,\"#0d0887\"],[0.1111111111111111,\"#46039f\"],[0.2222222222222222,\"#7201a8\"],[0.3333333333333333,\"#9c179e\"],[0.4444444444444444,\"#bd3786\"],[0.5555555555555556,\"#d8576b\"],[0.6666666666666666,\"#ed7953\"],[0.7777777777777778,\"#fb9f3a\"],[0.8888888888888888,\"#fdca26\"],[1.0,\"#f0f921\"]],\"diverging\":[[0,\"#8e0152\"],[0.1,\"#c51b7d\"],[0.2,\"#de77ae\"],[0.3,\"#f1b6da\"],[0.4,\"#fde0ef\"],[0.5,\"#f7f7f7\"],[0.6,\"#e6f5d0\"],[0.7,\"#b8e186\"],[0.8,\"#7fbc41\"],[0.9,\"#4d9221\"],[1,\"#276419\"]]},\"xaxis\":{\"gridcolor\":\"white\",\"linecolor\":\"white\",\"ticks\":\"\",\"title\":{\"standoff\":15},\"zerolinecolor\":\"white\",\"automargin\":true,\"zerolinewidth\":2},\"yaxis\":{\"gridcolor\":\"white\",\"linecolor\":\"white\",\"ticks\":\"\",\"title\":{\"standoff\":15},\"zerolinecolor\":\"white\",\"automargin\":true,\"zerolinewidth\":2},\"scene\":{\"xaxis\":{\"backgroundcolor\":\"#E5ECF6\",\"gridcolor\":\"white\",\"linecolor\":\"white\",\"showbackground\":true,\"ticks\":\"\",\"zerolinecolor\":\"white\",\"gridwidth\":2},\"yaxis\":{\"backgroundcolor\":\"#E5ECF6\",\"gridcolor\":\"white\",\"linecolor\":\"white\",\"showbackground\":true,\"ticks\":\"\",\"zerolinecolor\":\"white\",\"gridwidth\":2},\"zaxis\":{\"backgroundcolor\":\"#E5ECF6\",\"gridcolor\":\"white\",\"linecolor\":\"white\",\"showbackground\":true,\"ticks\":\"\",\"zerolinecolor\":\"white\",\"gridwidth\":2}},\"shapedefaults\":{\"line\":{\"color\":\"#2a3f5f\"}},\"annotationdefaults\":{\"arrowcolor\":\"#2a3f5f\",\"arrowhead\":0,\"arrowwidth\":1},\"geo\":{\"bgcolor\":\"white\",\"landcolor\":\"#E5ECF6\",\"subunitcolor\":\"white\",\"showland\":true,\"showlakes\":true,\"lakecolor\":\"white\"},\"title\":{\"x\":0.05},\"mapbox\":{\"style\":\"light\"}}},\"xaxis\":{\"anchor\":\"y\",\"domain\":[0.0,1.0],\"title\":{\"text\":\"CGPA\"}},\"yaxis\":{\"anchor\":\"x\",\"domain\":[0.0,1.0],\"title\":{\"text\":\"Internships\"}},\"coloraxis\":{\"colorbar\":{\"title\":{\"text\":\"PlacedOrNot\"}},\"colorscale\":[[0.0,\"#0d0887\"],[0.1111111111111111,\"#46039f\"],[0.2222222222222222,\"#7201a8\"],[0.3333333333333333,\"#9c179e\"],[0.4444444444444444,\"#bd3786\"],[0.5555555555555556,\"#d8576b\"],[0.6666666666666666,\"#ed7953\"],[0.7777777777777778,\"#fb9f3a\"],[0.8888888888888888,\"#fdca26\"],[1.0,\"#f0f921\"]]},\"legend\":{\"tracegroupgap\":0},\"margin\":{\"t\":60}},                        {\"responsive\": true}                    ).then(function(){\n",
              "                            \n",
              "var gd = document.getElementById('13452a42-e4bf-4583-bcf6-85afd1731328');\n",
              "var x = new MutationObserver(function (mutations, observer) {{\n",
              "        var display = window.getComputedStyle(gd).display;\n",
              "        if (!display || display === 'none') {{\n",
              "            console.log([gd, 'removed!']);\n",
              "            Plotly.purge(gd);\n",
              "            observer.disconnect();\n",
              "        }}\n",
              "}});\n",
              "\n",
              "// Listen for the removal of the full notebook cells\n",
              "var notebookContainer = gd.closest('#notebook-container');\n",
              "if (notebookContainer) {{\n",
              "    x.observe(notebookContainer, {childList: true});\n",
              "}}\n",
              "\n",
              "// Listen for the clearing of the current output cell\n",
              "var outputEl = gd.closest('.output');\n",
              "if (outputEl) {{\n",
              "    x.observe(outputEl, {childList: true});\n",
              "}}\n",
              "\n",
              "                        })                };                            </script>        </div>\n",
              "</body>\n",
              "</html>"
            ]
          },
          "metadata": {}
        }
      ],
      "source": [
        "fig = px.scatter(df, x=\"CGPA\", y=\"Internships\", color=\"PlacedOrNot\",\n",
        "                 hover_data=['CGPA'])\n",
        "fig.show()"
      ]
    },
    {
      "cell_type": "code",
      "execution_count": null,
      "metadata": {
        "colab": {
          "base_uri": "https://localhost:8080/",
          "height": 542
        },
        "id": "uid2xdNZAy3L",
        "outputId": "d572af9f-9a85-4016-d4fa-bed507a5ca4d"
      },
      "outputs": [
        {
          "output_type": "display_data",
          "data": {
            "text/html": [
              "<html>\n",
              "<head><meta charset=\"utf-8\" /></head>\n",
              "<body>\n",
              "    <div>            <script src=\"https://cdnjs.cloudflare.com/ajax/libs/mathjax/2.7.5/MathJax.js?config=TeX-AMS-MML_SVG\"></script><script type=\"text/javascript\">if (window.MathJax && window.MathJax.Hub && window.MathJax.Hub.Config) {window.MathJax.Hub.Config({SVG: {font: \"STIX-Web\"}});}</script>                <script type=\"text/javascript\">window.PlotlyConfig = {MathJaxConfig: 'local'};</script>\n",
              "        <script charset=\"utf-8\" src=\"https://cdn.plot.ly/plotly-2.24.1.min.js\"></script>                <div id=\"5a40243e-95da-4775-9fb0-0af76b1a6d55\" class=\"plotly-graph-div\" style=\"height:525px; width:100%;\"></div>            <script type=\"text/javascript\">                                    window.PLOTLYENV=window.PLOTLYENV || {};                                    if (document.getElementById(\"5a40243e-95da-4775-9fb0-0af76b1a6d55\")) {                    Plotly.newPlot(                        \"5a40243e-95da-4775-9fb0-0af76b1a6d55\",                        [{\"alignmentgroup\":\"True\",\"bingroup\":\"x\",\"hovertemplate\":\"PlacedOrNot=%{x}\\u003cbr\\u003ecount=%{y}\\u003cextra\\u003e\\u003c\\u002fextra\\u003e\",\"legendgroup\":\"1\",\"marker\":{\"color\":\"#636efa\",\"pattern\":{\"shape\":\"\"}},\"name\":\"1\",\"offsetgroup\":\"1\",\"orientation\":\"v\",\"showlegend\":true,\"x\":[1,1,1,1,1,1,1,1,1,1,1,1,1,1,1,1,1,1,1,1,1,1,1,1,1,1,1,1,1,1,1,1,1,1,1,1,1,1,1,1,1,1,1,1,1,1,1,1,1,1,1,1,1,1,1,1,1,1,1,1,1,1,1,1,1,1,1,1,1,1,1,1,1,1,1,1,1,1,1,1,1,1,1,1,1,1,1,1,1,1,1,1,1,1,1,1,1,1,1,1,1,1,1,1,1,1,1,1,1,1,1,1,1,1,1,1,1,1,1,1,1,1,1,1,1,1,1,1,1,1,1,1,1,1,1,1,1,1,1,1,1,1,1,1,1,1,1,1,1,1,1,1,1,1,1,1,1,1,1,1,1,1,1,1,1,1,1,1,1,1,1,1,1,1,1,1,1,1,1,1,1,1,1,1,1,1,1,1,1,1,1,1,1,1,1,1,1,1,1,1,1,1,1,1,1,1,1,1,1,1,1,1,1,1,1,1,1,1,1,1,1,1,1,1,1,1,1,1,1,1,1,1,1,1,1,1,1,1,1,1,1,1,1,1,1,1,1,1,1,1,1,1,1,1,1,1,1,1,1,1,1,1,1,1,1,1,1,1,1,1,1,1,1,1,1,1,1,1,1,1,1,1,1,1,1,1,1,1,1,1,1,1,1,1,1,1,1,1,1,1,1,1,1,1,1,1,1,1,1,1,1,1,1,1,1,1,1,1,1,1,1,1,1,1,1,1,1,1,1,1,1,1,1,1,1,1,1,1,1,1,1,1,1,1,1,1,1,1,1,1,1,1,1,1,1,1,1,1,1,1,1,1,1,1,1,1,1,1,1,1,1,1,1,1,1,1,1,1,1,1,1,1,1,1,1,1,1,1,1,1,1,1,1,1,1,1,1,1,1,1,1,1,1,1,1,1,1,1,1,1,1,1,1,1,1,1,1,1,1,1,1,1,1,1,1,1,1,1,1,1,1,1,1,1,1,1,1,1,1,1,1,1,1,1,1,1,1,1,1,1,1,1,1,1,1,1,1,1,1,1,1,1,1,1,1,1,1,1,1,1,1,1,1,1,1,1,1,1,1,1,1,1,1,1,1,1,1,1,1,1,1,1,1,1,1,1,1,1,1,1,1,1,1,1,1,1,1,1,1,1,1,1,1,1,1,1,1,1,1,1,1,1,1,1,1,1,1,1,1,1,1,1,1,1,1,1,1,1,1,1,1,1,1,1,1,1,1,1,1,1,1,1,1,1,1,1,1,1,1,1,1,1,1,1,1,1,1,1,1,1,1,1,1,1,1,1,1,1,1,1,1,1,1,1,1,1,1,1,1,1,1,1,1,1,1,1,1,1,1,1,1,1,1,1,1,1,1,1,1,1,1,1,1,1,1,1,1,1,1,1,1,1,1,1,1,1,1,1,1,1,1,1,1,1,1,1,1,1,1,1,1,1,1,1,1,1,1,1,1,1,1,1,1,1,1,1,1,1,1],\"xaxis\":\"x\",\"yaxis\":\"y\",\"type\":\"histogram\"},{\"alignmentgroup\":\"True\",\"bingroup\":\"x\",\"hovertemplate\":\"PlacedOrNot=%{x}\\u003cbr\\u003ecount=%{y}\\u003cextra\\u003e\\u003c\\u002fextra\\u003e\",\"legendgroup\":\"0\",\"marker\":{\"color\":\"#EF553B\",\"pattern\":{\"shape\":\"\"}},\"name\":\"0\",\"offsetgroup\":\"0\",\"orientation\":\"v\",\"showlegend\":true,\"x\":[0,0,0,0,0,0,0,0,0,0,0,0,0,0,0,0,0,0,0,0,0,0,0,0,0,0,0,0,0,0,0,0,0,0,0,0,0,0,0,0,0,0,0,0,0,0,0,0,0,0,0,0,0,0,0,0,0,0,0,0,0,0,0,0,0,0,0,0,0,0,0,0,0,0,0,0,0,0,0,0,0,0,0,0,0,0,0,0,0,0,0,0,0,0,0,0,0,0,0,0,0,0,0,0,0,0,0,0,0,0,0,0,0,0,0,0,0,0,0,0,0,0,0,0,0,0,0,0,0,0,0,0,0,0,0,0,0,0,0,0,0,0,0,0,0,0,0,0,0,0,0,0,0,0,0,0,0,0,0,0,0,0,0,0,0,0,0,0,0,0,0,0,0,0,0,0,0,0,0,0,0,0,0,0,0,0,0,0,0,0,0,0,0,0,0,0,0,0,0,0,0,0,0,0,0,0,0,0,0,0,0,0,0,0,0,0,0,0,0,0,0,0,0,0,0,0,0,0,0,0,0,0,0,0,0,0,0,0,0,0,0,0,0,0,0,0,0,0,0,0,0,0,0,0,0,0,0,0,0,0,0,0,0,0,0,0,0,0,0,0,0,0,0,0,0,0,0,0,0,0,0,0,0,0,0,0,0,0,0,0,0,0,0,0,0,0,0,0,0,0,0,0,0,0,0,0,0,0,0,0,0,0,0,0,0,0,0,0,0,0,0,0,0,0,0,0,0,0,0,0,0,0,0,0,0,0,0,0,0,0,0,0,0,0,0,0,0,0,0,0,0,0,0,0,0,0,0,0,0,0,0,0,0,0,0,0,0,0,0,0,0,0,0,0,0,0,0,0,0,0,0,0,0,0,0,0,0,0,0,0,0,0,0,0,0,0,0,0,0,0,0,0,0,0,0,0,0,0,0,0,0,0,0,0,0,0,0,0,0,0,0,0,0,0,0,0,0,0,0,0,0,0,0,0,0,0,0,0,0,0,0,0,0,0,0,0,0,0,0,0,0,0,0,0,0,0,0,0,0,0,0,0,0,0,0,0,0,0,0,0,0,0,0,0,0,0,0,0],\"xaxis\":\"x\",\"yaxis\":\"y\",\"type\":\"histogram\"}],                        {\"template\":{\"data\":{\"histogram2dcontour\":[{\"type\":\"histogram2dcontour\",\"colorbar\":{\"outlinewidth\":0,\"ticks\":\"\"},\"colorscale\":[[0.0,\"#0d0887\"],[0.1111111111111111,\"#46039f\"],[0.2222222222222222,\"#7201a8\"],[0.3333333333333333,\"#9c179e\"],[0.4444444444444444,\"#bd3786\"],[0.5555555555555556,\"#d8576b\"],[0.6666666666666666,\"#ed7953\"],[0.7777777777777778,\"#fb9f3a\"],[0.8888888888888888,\"#fdca26\"],[1.0,\"#f0f921\"]]}],\"choropleth\":[{\"type\":\"choropleth\",\"colorbar\":{\"outlinewidth\":0,\"ticks\":\"\"}}],\"histogram2d\":[{\"type\":\"histogram2d\",\"colorbar\":{\"outlinewidth\":0,\"ticks\":\"\"},\"colorscale\":[[0.0,\"#0d0887\"],[0.1111111111111111,\"#46039f\"],[0.2222222222222222,\"#7201a8\"],[0.3333333333333333,\"#9c179e\"],[0.4444444444444444,\"#bd3786\"],[0.5555555555555556,\"#d8576b\"],[0.6666666666666666,\"#ed7953\"],[0.7777777777777778,\"#fb9f3a\"],[0.8888888888888888,\"#fdca26\"],[1.0,\"#f0f921\"]]}],\"heatmap\":[{\"type\":\"heatmap\",\"colorbar\":{\"outlinewidth\":0,\"ticks\":\"\"},\"colorscale\":[[0.0,\"#0d0887\"],[0.1111111111111111,\"#46039f\"],[0.2222222222222222,\"#7201a8\"],[0.3333333333333333,\"#9c179e\"],[0.4444444444444444,\"#bd3786\"],[0.5555555555555556,\"#d8576b\"],[0.6666666666666666,\"#ed7953\"],[0.7777777777777778,\"#fb9f3a\"],[0.8888888888888888,\"#fdca26\"],[1.0,\"#f0f921\"]]}],\"heatmapgl\":[{\"type\":\"heatmapgl\",\"colorbar\":{\"outlinewidth\":0,\"ticks\":\"\"},\"colorscale\":[[0.0,\"#0d0887\"],[0.1111111111111111,\"#46039f\"],[0.2222222222222222,\"#7201a8\"],[0.3333333333333333,\"#9c179e\"],[0.4444444444444444,\"#bd3786\"],[0.5555555555555556,\"#d8576b\"],[0.6666666666666666,\"#ed7953\"],[0.7777777777777778,\"#fb9f3a\"],[0.8888888888888888,\"#fdca26\"],[1.0,\"#f0f921\"]]}],\"contourcarpet\":[{\"type\":\"contourcarpet\",\"colorbar\":{\"outlinewidth\":0,\"ticks\":\"\"}}],\"contour\":[{\"type\":\"contour\",\"colorbar\":{\"outlinewidth\":0,\"ticks\":\"\"},\"colorscale\":[[0.0,\"#0d0887\"],[0.1111111111111111,\"#46039f\"],[0.2222222222222222,\"#7201a8\"],[0.3333333333333333,\"#9c179e\"],[0.4444444444444444,\"#bd3786\"],[0.5555555555555556,\"#d8576b\"],[0.6666666666666666,\"#ed7953\"],[0.7777777777777778,\"#fb9f3a\"],[0.8888888888888888,\"#fdca26\"],[1.0,\"#f0f921\"]]}],\"surface\":[{\"type\":\"surface\",\"colorbar\":{\"outlinewidth\":0,\"ticks\":\"\"},\"colorscale\":[[0.0,\"#0d0887\"],[0.1111111111111111,\"#46039f\"],[0.2222222222222222,\"#7201a8\"],[0.3333333333333333,\"#9c179e\"],[0.4444444444444444,\"#bd3786\"],[0.5555555555555556,\"#d8576b\"],[0.6666666666666666,\"#ed7953\"],[0.7777777777777778,\"#fb9f3a\"],[0.8888888888888888,\"#fdca26\"],[1.0,\"#f0f921\"]]}],\"mesh3d\":[{\"type\":\"mesh3d\",\"colorbar\":{\"outlinewidth\":0,\"ticks\":\"\"}}],\"scatter\":[{\"fillpattern\":{\"fillmode\":\"overlay\",\"size\":10,\"solidity\":0.2},\"type\":\"scatter\"}],\"parcoords\":[{\"type\":\"parcoords\",\"line\":{\"colorbar\":{\"outlinewidth\":0,\"ticks\":\"\"}}}],\"scatterpolargl\":[{\"type\":\"scatterpolargl\",\"marker\":{\"colorbar\":{\"outlinewidth\":0,\"ticks\":\"\"}}}],\"bar\":[{\"error_x\":{\"color\":\"#2a3f5f\"},\"error_y\":{\"color\":\"#2a3f5f\"},\"marker\":{\"line\":{\"color\":\"#E5ECF6\",\"width\":0.5},\"pattern\":{\"fillmode\":\"overlay\",\"size\":10,\"solidity\":0.2}},\"type\":\"bar\"}],\"scattergeo\":[{\"type\":\"scattergeo\",\"marker\":{\"colorbar\":{\"outlinewidth\":0,\"ticks\":\"\"}}}],\"scatterpolar\":[{\"type\":\"scatterpolar\",\"marker\":{\"colorbar\":{\"outlinewidth\":0,\"ticks\":\"\"}}}],\"histogram\":[{\"marker\":{\"pattern\":{\"fillmode\":\"overlay\",\"size\":10,\"solidity\":0.2}},\"type\":\"histogram\"}],\"scattergl\":[{\"type\":\"scattergl\",\"marker\":{\"colorbar\":{\"outlinewidth\":0,\"ticks\":\"\"}}}],\"scatter3d\":[{\"type\":\"scatter3d\",\"line\":{\"colorbar\":{\"outlinewidth\":0,\"ticks\":\"\"}},\"marker\":{\"colorbar\":{\"outlinewidth\":0,\"ticks\":\"\"}}}],\"scattermapbox\":[{\"type\":\"scattermapbox\",\"marker\":{\"colorbar\":{\"outlinewidth\":0,\"ticks\":\"\"}}}],\"scatterternary\":[{\"type\":\"scatterternary\",\"marker\":{\"colorbar\":{\"outlinewidth\":0,\"ticks\":\"\"}}}],\"scattercarpet\":[{\"type\":\"scattercarpet\",\"marker\":{\"colorbar\":{\"outlinewidth\":0,\"ticks\":\"\"}}}],\"carpet\":[{\"aaxis\":{\"endlinecolor\":\"#2a3f5f\",\"gridcolor\":\"white\",\"linecolor\":\"white\",\"minorgridcolor\":\"white\",\"startlinecolor\":\"#2a3f5f\"},\"baxis\":{\"endlinecolor\":\"#2a3f5f\",\"gridcolor\":\"white\",\"linecolor\":\"white\",\"minorgridcolor\":\"white\",\"startlinecolor\":\"#2a3f5f\"},\"type\":\"carpet\"}],\"table\":[{\"cells\":{\"fill\":{\"color\":\"#EBF0F8\"},\"line\":{\"color\":\"white\"}},\"header\":{\"fill\":{\"color\":\"#C8D4E3\"},\"line\":{\"color\":\"white\"}},\"type\":\"table\"}],\"barpolar\":[{\"marker\":{\"line\":{\"color\":\"#E5ECF6\",\"width\":0.5},\"pattern\":{\"fillmode\":\"overlay\",\"size\":10,\"solidity\":0.2}},\"type\":\"barpolar\"}],\"pie\":[{\"automargin\":true,\"type\":\"pie\"}]},\"layout\":{\"autotypenumbers\":\"strict\",\"colorway\":[\"#636efa\",\"#EF553B\",\"#00cc96\",\"#ab63fa\",\"#FFA15A\",\"#19d3f3\",\"#FF6692\",\"#B6E880\",\"#FF97FF\",\"#FECB52\"],\"font\":{\"color\":\"#2a3f5f\"},\"hovermode\":\"closest\",\"hoverlabel\":{\"align\":\"left\"},\"paper_bgcolor\":\"white\",\"plot_bgcolor\":\"#E5ECF6\",\"polar\":{\"bgcolor\":\"#E5ECF6\",\"angularaxis\":{\"gridcolor\":\"white\",\"linecolor\":\"white\",\"ticks\":\"\"},\"radialaxis\":{\"gridcolor\":\"white\",\"linecolor\":\"white\",\"ticks\":\"\"}},\"ternary\":{\"bgcolor\":\"#E5ECF6\",\"aaxis\":{\"gridcolor\":\"white\",\"linecolor\":\"white\",\"ticks\":\"\"},\"baxis\":{\"gridcolor\":\"white\",\"linecolor\":\"white\",\"ticks\":\"\"},\"caxis\":{\"gridcolor\":\"white\",\"linecolor\":\"white\",\"ticks\":\"\"}},\"coloraxis\":{\"colorbar\":{\"outlinewidth\":0,\"ticks\":\"\"}},\"colorscale\":{\"sequential\":[[0.0,\"#0d0887\"],[0.1111111111111111,\"#46039f\"],[0.2222222222222222,\"#7201a8\"],[0.3333333333333333,\"#9c179e\"],[0.4444444444444444,\"#bd3786\"],[0.5555555555555556,\"#d8576b\"],[0.6666666666666666,\"#ed7953\"],[0.7777777777777778,\"#fb9f3a\"],[0.8888888888888888,\"#fdca26\"],[1.0,\"#f0f921\"]],\"sequentialminus\":[[0.0,\"#0d0887\"],[0.1111111111111111,\"#46039f\"],[0.2222222222222222,\"#7201a8\"],[0.3333333333333333,\"#9c179e\"],[0.4444444444444444,\"#bd3786\"],[0.5555555555555556,\"#d8576b\"],[0.6666666666666666,\"#ed7953\"],[0.7777777777777778,\"#fb9f3a\"],[0.8888888888888888,\"#fdca26\"],[1.0,\"#f0f921\"]],\"diverging\":[[0,\"#8e0152\"],[0.1,\"#c51b7d\"],[0.2,\"#de77ae\"],[0.3,\"#f1b6da\"],[0.4,\"#fde0ef\"],[0.5,\"#f7f7f7\"],[0.6,\"#e6f5d0\"],[0.7,\"#b8e186\"],[0.8,\"#7fbc41\"],[0.9,\"#4d9221\"],[1,\"#276419\"]]},\"xaxis\":{\"gridcolor\":\"white\",\"linecolor\":\"white\",\"ticks\":\"\",\"title\":{\"standoff\":15},\"zerolinecolor\":\"white\",\"automargin\":true,\"zerolinewidth\":2},\"yaxis\":{\"gridcolor\":\"white\",\"linecolor\":\"white\",\"ticks\":\"\",\"title\":{\"standoff\":15},\"zerolinecolor\":\"white\",\"automargin\":true,\"zerolinewidth\":2},\"scene\":{\"xaxis\":{\"backgroundcolor\":\"#E5ECF6\",\"gridcolor\":\"white\",\"linecolor\":\"white\",\"showbackground\":true,\"ticks\":\"\",\"zerolinecolor\":\"white\",\"gridwidth\":2},\"yaxis\":{\"backgroundcolor\":\"#E5ECF6\",\"gridcolor\":\"white\",\"linecolor\":\"white\",\"showbackground\":true,\"ticks\":\"\",\"zerolinecolor\":\"white\",\"gridwidth\":2},\"zaxis\":{\"backgroundcolor\":\"#E5ECF6\",\"gridcolor\":\"white\",\"linecolor\":\"white\",\"showbackground\":true,\"ticks\":\"\",\"zerolinecolor\":\"white\",\"gridwidth\":2}},\"shapedefaults\":{\"line\":{\"color\":\"#2a3f5f\"}},\"annotationdefaults\":{\"arrowcolor\":\"#2a3f5f\",\"arrowhead\":0,\"arrowwidth\":1},\"geo\":{\"bgcolor\":\"white\",\"landcolor\":\"#E5ECF6\",\"subunitcolor\":\"white\",\"showland\":true,\"showlakes\":true,\"lakecolor\":\"white\"},\"title\":{\"x\":0.05},\"mapbox\":{\"style\":\"light\"}}},\"xaxis\":{\"anchor\":\"y\",\"domain\":[0.0,1.0],\"title\":{\"text\":\"PlacedOrNot\"},\"categoryorder\":\"array\",\"categoryarray\":[1,0]},\"yaxis\":{\"anchor\":\"x\",\"domain\":[0.0,1.0],\"title\":{\"text\":\"count\"}},\"legend\":{\"title\":{\"text\":\"PlacedOrNot\"},\"tracegroupgap\":0},\"margin\":{\"t\":60},\"barmode\":\"group\"},                        {\"responsive\": true}                    ).then(function(){\n",
              "                            \n",
              "var gd = document.getElementById('5a40243e-95da-4775-9fb0-0af76b1a6d55');\n",
              "var x = new MutationObserver(function (mutations, observer) {{\n",
              "        var display = window.getComputedStyle(gd).display;\n",
              "        if (!display || display === 'none') {{\n",
              "            console.log([gd, 'removed!']);\n",
              "            Plotly.purge(gd);\n",
              "            observer.disconnect();\n",
              "        }}\n",
              "}});\n",
              "\n",
              "// Listen for the removal of the full notebook cells\n",
              "var notebookContainer = gd.closest('#notebook-container');\n",
              "if (notebookContainer) {{\n",
              "    x.observe(notebookContainer, {childList: true});\n",
              "}}\n",
              "\n",
              "// Listen for the clearing of the current output cell\n",
              "var outputEl = gd.closest('.output');\n",
              "if (outputEl) {{\n",
              "    x.observe(outputEl, {childList: true});\n",
              "}}\n",
              "\n",
              "                        })                };                            </script>        </div>\n",
              "</body>\n",
              "</html>"
            ]
          },
          "metadata": {}
        }
      ],
      "source": [
        "px.histogram(df, x='PlacedOrNot', color='PlacedOrNot', barmode='group')"
      ]
    },
    {
      "cell_type": "code",
      "execution_count": null,
      "metadata": {
        "colab": {
          "base_uri": "https://localhost:8080/"
        },
        "id": "Rrt_cWHfBmnN",
        "outputId": "abced804-1684-46d3-dd57-809cacc25b39"
      },
      "outputs": [
        {
          "output_type": "stream",
          "name": "stdout",
          "text": [
            "Maximum age of placed person : 30\n",
            "Minimum age of placed person : 19\n"
          ]
        }
      ],
      "source": [
        "print(\"Maximum age of placed person :\",df[(df['Age'] == df['Age'].max()) & (df[\"PlacedOrNot\"] == 1)]['Age'].values[0] )\n",
        "print(\"Minimum age of placed person :\",df[(df['Age'] == df['Age'].min()) & (df[\"PlacedOrNot\"] == 1)]['Age'].values[0] )"
      ]
    },
    {
      "cell_type": "code",
      "execution_count": null,
      "metadata": {
        "colab": {
          "base_uri": "https://localhost:8080/"
        },
        "id": "ITz1OmLYBuvv",
        "outputId": "e41e7597-f265-4ce5-8dda-b74788255f30"
      },
      "outputs": [
        {
          "output_type": "stream",
          "name": "stdout",
          "text": [
            "Max Internships Done by the Placed Student:  3\n",
            "No of students who did max Internships and are placed:  35\n",
            "Min Internships Done by the Placed Person:  0\n",
            "No of students who did min Internships and are placed:  232\n"
          ]
        }
      ],
      "source": [
        "print(\"Max Internships Done by the Placed Student: \",df[(df['Internships'] == df['Internships'].max()) & (df['PlacedOrNot']==1)]['Internships'].values[0])\n",
        "print(\"No of students who did max Internships and are placed: \",df[(df['Internships'] == df['Internships'].max()) & (df['PlacedOrNot']==1)]['Internships'].value_counts().values[0])\n",
        "\n",
        "print(\"Min Internships Done by the Placed Person: \",df[(df['Internships'] == df['Internships'].min()) & (df['PlacedOrNot']==1)]['Internships'].values[0])\n",
        "print(\"No of students who did min Internships and are placed: \",df[(df['Internships'] == df['Internships'].min()) & (df['PlacedOrNot']==1)]['Internships'].value_counts().values[0])"
      ]
    },
    {
      "cell_type": "code",
      "execution_count": null,
      "metadata": {
        "colab": {
          "base_uri": "https://localhost:8080/"
        },
        "id": "lpsd8snKEREP",
        "outputId": "dd2a35c0-de17-4337-dda2-0d6f4c346dac"
      },
      "outputs": [
        {
          "output_type": "stream",
          "name": "stdout",
          "text": [
            "Max CGPA of Placed Student:  9\n",
            "No of students has max CGPA and are placed:  99\n",
            "Min CGPA of Placed Person:  5\n",
            "No of students has min CGPA and are placed:  5\n"
          ]
        }
      ],
      "source": [
        "print(\"Max CGPA of Placed Student: \",df[(df['CGPA'] == df['CGPA'].max()) & (df['PlacedOrNot']==1)]['CGPA'].values[0])\n",
        "print(\"No of students has max CGPA and are placed: \",df[(df['CGPA'] == df['CGPA'].max()) & (df['PlacedOrNot']==1)]['CGPA'].value_counts().values[0])\n",
        "\n",
        "print(\"Min CGPA of Placed Person: \",df[(df['CGPA'] == df['CGPA'].min()) & (df['PlacedOrNot']==1)]['CGPA'].values[0])\n",
        "print(\"No of students has min CGPA and are placed: \",df[(df['CGPA'] == df['CGPA'].min()) & (df['PlacedOrNot']==1)]['CGPA'].value_counts().values[0])"
      ]
    },
    {
      "cell_type": "code",
      "execution_count": null,
      "metadata": {
        "colab": {
          "base_uri": "https://localhost:8080/",
          "height": 542
        },
        "id": "_2tMY-v3EgCt",
        "outputId": "17afb8aa-5716-406b-d762-a2276064749f"
      },
      "outputs": [
        {
          "output_type": "display_data",
          "data": {
            "text/html": [
              "<html>\n",
              "<head><meta charset=\"utf-8\" /></head>\n",
              "<body>\n",
              "    <div>            <script src=\"https://cdnjs.cloudflare.com/ajax/libs/mathjax/2.7.5/MathJax.js?config=TeX-AMS-MML_SVG\"></script><script type=\"text/javascript\">if (window.MathJax && window.MathJax.Hub && window.MathJax.Hub.Config) {window.MathJax.Hub.Config({SVG: {font: \"STIX-Web\"}});}</script>                <script type=\"text/javascript\">window.PlotlyConfig = {MathJaxConfig: 'local'};</script>\n",
              "        <script charset=\"utf-8\" src=\"https://cdn.plot.ly/plotly-2.24.1.min.js\"></script>                <div id=\"bd891db1-7b85-461c-9b8e-8babbc0d74c2\" class=\"plotly-graph-div\" style=\"height:525px; width:100%;\"></div>            <script type=\"text/javascript\">                                    window.PLOTLYENV=window.PLOTLYENV || {};                                    if (document.getElementById(\"bd891db1-7b85-461c-9b8e-8babbc0d74c2\")) {                    Plotly.newPlot(                        \"bd891db1-7b85-461c-9b8e-8babbc0d74c2\",                        [{\"alignmentgroup\":\"True\",\"hovertemplate\":\"variable=%{x}\\u003cbr\\u003evalue=%{y}\\u003cextra\\u003e\\u003c\\u002fextra\\u003e\",\"legendgroup\":\"\",\"marker\":{\"color\":\"#636efa\"},\"name\":\"\",\"notched\":false,\"offsetgroup\":\"\",\"orientation\":\"v\",\"showlegend\":false,\"x\":[\"Internships\",\"Internships\",\"Internships\",\"Internships\",\"Internships\",\"Internships\",\"Internships\",\"Internships\",\"Internships\",\"Internships\",\"Internships\",\"Internships\",\"Internships\",\"Internships\",\"Internships\",\"Internships\",\"Internships\",\"Internships\",\"Internships\",\"Internships\",\"Internships\",\"Internships\",\"Internships\",\"Internships\",\"Internships\",\"Internships\",\"Internships\",\"Internships\",\"Internships\",\"Internships\",\"Internships\",\"Internships\",\"Internships\",\"Internships\",\"Internships\",\"Internships\",\"Internships\",\"Internships\",\"Internships\",\"Internships\",\"Internships\",\"Internships\",\"Internships\",\"Internships\",\"Internships\",\"Internships\",\"Internships\",\"Internships\",\"Internships\",\"Internships\",\"Internships\",\"Internships\",\"Internships\",\"Internships\",\"Internships\",\"Internships\",\"Internships\",\"Internships\",\"Internships\",\"Internships\",\"Internships\",\"Internships\",\"Internships\",\"Internships\",\"Internships\",\"Internships\",\"Internships\",\"Internships\",\"Internships\",\"Internships\",\"Internships\",\"Internships\",\"Internships\",\"Internships\",\"Internships\",\"Internships\",\"Internships\",\"Internships\",\"Internships\",\"Internships\",\"Internships\",\"Internships\",\"Internships\",\"Internships\",\"Internships\",\"Internships\",\"Internships\",\"Internships\",\"Internships\",\"Internships\",\"Internships\",\"Internships\",\"Internships\",\"Internships\",\"Internships\",\"Internships\",\"Internships\",\"Internships\",\"Internships\",\"Internships\",\"Internships\",\"Internships\",\"Internships\",\"Internships\",\"Internships\",\"Internships\",\"Internships\",\"Internships\",\"Internships\",\"Internships\",\"Internships\",\"Internships\",\"Internships\",\"Internships\",\"Internships\",\"Internships\",\"Internships\",\"Internships\",\"Internships\",\"Internships\",\"Internships\",\"Internships\",\"Internships\",\"Internships\",\"Internships\",\"Internships\",\"Internships\",\"Internships\",\"Internships\",\"Internships\",\"Internships\",\"Internships\",\"Internships\",\"Internships\",\"Internships\",\"Internships\",\"Internships\",\"Internships\",\"Internships\",\"Internships\",\"Internships\",\"Internships\",\"Internships\",\"Internships\",\"Internships\",\"Internships\",\"Internships\",\"Internships\",\"Internships\",\"Internships\",\"Internships\",\"Internships\",\"Internships\",\"Internships\",\"Internships\",\"Internships\",\"Internships\",\"Internships\",\"Internships\",\"Internships\",\"Internships\",\"Internships\",\"Internships\",\"Internships\",\"Internships\",\"Internships\",\"Internships\",\"Internships\",\"Internships\",\"Internships\",\"Internships\",\"Internships\",\"Internships\",\"Internships\",\"Internships\",\"Internships\",\"Internships\",\"Internships\",\"Internships\",\"Internships\",\"Internships\",\"Internships\",\"Internships\",\"Internships\",\"Internships\",\"Internships\",\"Internships\",\"Internships\",\"Internships\",\"Internships\",\"Internships\",\"Internships\",\"Internships\",\"Internships\",\"Internships\",\"Internships\",\"Internships\",\"Internships\",\"Internships\",\"Internships\",\"Internships\",\"Internships\",\"Internships\",\"Internships\",\"Internships\",\"Internships\",\"Internships\",\"Internships\",\"Internships\",\"Internships\",\"Internships\",\"Internships\",\"Internships\",\"Internships\",\"Internships\",\"Internships\",\"Internships\",\"Internships\",\"Internships\",\"Internships\",\"Internships\",\"Internships\",\"Internships\",\"Internships\",\"Internships\",\"Internships\",\"Internships\",\"Internships\",\"Internships\",\"Internships\",\"Internships\",\"Internships\",\"Internships\",\"Internships\",\"Internships\",\"Internships\",\"Internships\",\"Internships\",\"Internships\",\"Internships\",\"Internships\",\"Internships\",\"Internships\",\"Internships\",\"Internships\",\"Internships\",\"Internships\",\"Internships\",\"Internships\",\"Internships\",\"Internships\",\"Internships\",\"Internships\",\"Internships\",\"Internships\",\"Internships\",\"Internships\",\"Internships\",\"Internships\",\"Internships\",\"Internships\",\"Internships\",\"Internships\",\"Internships\",\"Internships\",\"Internships\",\"Internships\",\"Internships\",\"Internships\",\"Internships\",\"Internships\",\"Internships\",\"Internships\",\"Internships\",\"Internships\",\"Internships\",\"Internships\",\"Internships\",\"Internships\",\"Internships\",\"Internships\",\"Internships\",\"Internships\",\"Internships\",\"Internships\",\"Internships\",\"Internships\",\"Internships\",\"Internships\",\"Internships\",\"Internships\",\"Internships\",\"Internships\",\"Internships\",\"Internships\",\"Internships\",\"Internships\",\"Internships\",\"Internships\",\"Internships\",\"Internships\",\"Internships\",\"Internships\",\"Internships\",\"Internships\",\"Internships\",\"Internships\",\"Internships\",\"Internships\",\"Internships\",\"Internships\",\"Internships\",\"Internships\",\"Internships\",\"Internships\",\"Internships\",\"Internships\",\"Internships\",\"Internships\",\"Internships\",\"Internships\",\"Internships\",\"Internships\",\"Internships\",\"Internships\",\"Internships\",\"Internships\",\"Internships\",\"Internships\",\"Internships\",\"Internships\",\"Internships\",\"Internships\",\"Internships\",\"Internships\",\"Internships\",\"Internships\",\"Internships\",\"Internships\",\"Internships\",\"Internships\",\"Internships\",\"Internships\",\"Internships\",\"Internships\",\"Internships\",\"Internships\",\"Internships\",\"Internships\",\"Internships\",\"Internships\",\"Internships\",\"Internships\",\"Internships\",\"Internships\",\"Internships\",\"Internships\",\"Internships\",\"Internships\",\"Internships\",\"Internships\",\"Internships\",\"Internships\",\"Internships\",\"Internships\",\"Internships\",\"Internships\",\"Internships\",\"Internships\",\"Internships\",\"Internships\",\"Internships\",\"Internships\",\"Internships\",\"Internships\",\"Internships\",\"Internships\",\"Internships\",\"Internships\",\"Internships\",\"Internships\",\"Internships\",\"Internships\",\"Internships\",\"Internships\",\"Internships\",\"Internships\",\"Internships\",\"Internships\",\"Internships\",\"Internships\",\"Internships\",\"Internships\",\"Internships\",\"Internships\",\"Internships\",\"Internships\",\"Internships\",\"Internships\",\"Internships\",\"Internships\",\"Internships\",\"Internships\",\"Internships\",\"Internships\",\"Internships\",\"Internships\",\"Internships\",\"Internships\",\"Internships\",\"Internships\",\"Internships\",\"Internships\",\"Internships\",\"Internships\",\"Internships\",\"Internships\",\"Internships\",\"Internships\",\"Internships\",\"Internships\",\"Internships\",\"Internships\",\"Internships\",\"Internships\",\"Internships\",\"Internships\",\"Internships\",\"Internships\",\"Internships\",\"Internships\",\"Internships\",\"Internships\",\"Internships\",\"Internships\",\"Internships\",\"Internships\",\"Internships\",\"Internships\",\"Internships\",\"Internships\",\"Internships\",\"Internships\",\"Internships\",\"Internships\",\"Internships\",\"Internships\",\"Internships\",\"Internships\",\"Internships\",\"Internships\",\"Internships\",\"Internships\",\"Internships\",\"Internships\",\"Internships\",\"Internships\",\"Internships\",\"Internships\",\"Internships\",\"Internships\",\"Internships\",\"Internships\",\"Internships\",\"Internships\",\"Internships\",\"Internships\",\"Internships\",\"Internships\",\"Internships\",\"Internships\",\"Internships\",\"Internships\",\"Internships\",\"Internships\",\"Internships\",\"Internships\",\"Internships\",\"Internships\",\"Internships\",\"Internships\",\"Internships\",\"Internships\",\"Internships\",\"Internships\",\"Internships\",\"Internships\",\"Internships\",\"Internships\",\"Internships\",\"Internships\",\"Internships\",\"Internships\",\"Internships\",\"Internships\",\"Internships\",\"Internships\",\"Internships\",\"Internships\",\"Internships\",\"Internships\",\"Internships\",\"Internships\",\"Internships\",\"Internships\",\"Internships\",\"Internships\",\"Internships\",\"Internships\",\"Internships\",\"Internships\",\"Internships\",\"Internships\",\"Internships\",\"Internships\",\"Internships\",\"Internships\",\"Internships\",\"Internships\",\"Internships\",\"Internships\",\"Internships\",\"Internships\",\"Internships\",\"Internships\",\"Internships\",\"Internships\",\"Internships\",\"Internships\",\"Internships\",\"Internships\",\"Internships\",\"Internships\",\"Internships\",\"Internships\",\"Internships\",\"Internships\",\"Internships\",\"Internships\",\"Internships\",\"Internships\",\"Internships\",\"Internships\",\"Internships\",\"Internships\",\"Internships\",\"Internships\",\"Internships\",\"Internships\",\"Internships\",\"Internships\",\"Internships\",\"Internships\",\"Internships\",\"Internships\",\"Internships\",\"Internships\",\"Internships\",\"Internships\",\"Internships\",\"Internships\",\"Internships\",\"Internships\",\"Internships\",\"Internships\",\"Internships\",\"Internships\",\"Internships\",\"Internships\",\"Internships\",\"Internships\",\"Internships\",\"Internships\",\"Internships\",\"Internships\",\"Internships\",\"Internships\",\"Internships\",\"Internships\",\"Internships\",\"Internships\",\"Internships\",\"Internships\",\"Internships\",\"Internships\",\"Internships\",\"Internships\",\"Internships\",\"Internships\",\"Internships\",\"Internships\",\"Internships\",\"Internships\",\"Internships\",\"Internships\",\"Internships\",\"Internships\",\"Internships\",\"Internships\",\"Internships\",\"Internships\",\"Internships\",\"Internships\",\"Internships\",\"Internships\",\"Internships\",\"Internships\",\"Internships\",\"Internships\",\"Internships\",\"Internships\",\"Internships\",\"Internships\",\"Internships\",\"Internships\",\"Internships\",\"Internships\",\"Internships\",\"Internships\",\"Internships\",\"Internships\",\"Internships\",\"Internships\",\"Internships\",\"Internships\",\"Internships\",\"Internships\",\"Internships\",\"Internships\",\"Internships\",\"Internships\",\"Internships\",\"Internships\",\"Internships\",\"Internships\",\"Internships\",\"Internships\",\"Internships\",\"Internships\",\"Internships\",\"Internships\",\"Internships\",\"Internships\",\"Internships\",\"Internships\",\"Internships\",\"Internships\",\"Internships\",\"Internships\",\"Internships\",\"Internships\",\"Internships\",\"Internships\",\"Internships\",\"Internships\",\"Internships\",\"Internships\",\"Internships\",\"Internships\",\"Internships\",\"Internships\",\"Internships\",\"Internships\",\"Internships\",\"Internships\",\"Internships\",\"Internships\",\"Internships\",\"Internships\",\"Internships\",\"Internships\",\"Internships\",\"Internships\",\"Internships\",\"Internships\",\"Internships\",\"Internships\",\"Internships\",\"Internships\",\"Internships\",\"Internships\",\"Internships\",\"Internships\",\"Internships\",\"Internships\",\"Internships\",\"Internships\",\"Internships\",\"Internships\",\"Internships\",\"Internships\",\"Internships\",\"Internships\",\"Internships\",\"Internships\",\"Internships\",\"Internships\",\"Internships\",\"Internships\",\"Internships\",\"Internships\",\"Internships\",\"Internships\",\"Internships\",\"Internships\",\"Internships\",\"Internships\",\"Internships\",\"Internships\",\"Internships\",\"Internships\",\"Internships\",\"Internships\",\"Internships\",\"Internships\",\"Internships\",\"Internships\",\"Internships\",\"Internships\",\"Internships\",\"Internships\",\"Internships\",\"Internships\",\"Internships\",\"Internships\",\"Internships\",\"Internships\",\"Internships\",\"Internships\",\"Internships\",\"Internships\",\"Internships\",\"Internships\",\"Internships\",\"Internships\",\"Internships\",\"Internships\",\"Internships\",\"Internships\",\"Internships\",\"Internships\",\"Internships\",\"Internships\",\"Internships\",\"Internships\",\"Internships\",\"Internships\",\"Internships\",\"Internships\",\"Internships\",\"Internships\",\"Internships\",\"Internships\",\"Internships\",\"Internships\",\"Internships\",\"Internships\",\"Internships\",\"Internships\",\"Internships\",\"Internships\",\"Internships\",\"Internships\",\"Internships\",\"Internships\",\"Internships\",\"Internships\",\"Internships\",\"Internships\",\"Internships\",\"Internships\",\"Internships\",\"Internships\",\"Internships\",\"Internships\",\"Internships\",\"Internships\",\"Internships\",\"Internships\",\"Internships\",\"Internships\",\"Internships\",\"Internships\",\"Internships\",\"Internships\",\"Internships\",\"Internships\",\"Internships\",\"Internships\",\"Internships\",\"Internships\",\"Internships\",\"Internships\",\"Internships\",\"Internships\",\"Internships\",\"Internships\",\"Internships\",\"Internships\",\"Internships\",\"Internships\",\"Internships\",\"Internships\",\"Internships\",\"Internships\",\"Internships\",\"Internships\",\"Internships\",\"Internships\",\"Internships\",\"Internships\",\"Internships\",\"Internships\",\"Internships\",\"Internships\",\"Internships\",\"Internships\",\"Internships\",\"Internships\",\"Internships\",\"Internships\",\"Internships\",\"Internships\",\"Internships\",\"Internships\",\"Internships\",\"Internships\",\"Internships\",\"Internships\",\"Internships\",\"Internships\",\"Internships\",\"Internships\",\"Internships\",\"Internships\",\"Internships\",\"Internships\",\"Internships\",\"Internships\",\"Internships\",\"Internships\",\"Internships\",\"Internships\",\"Internships\",\"Internships\",\"Internships\",\"Internships\",\"Internships\",\"Internships\",\"Internships\",\"Internships\",\"Internships\",\"Internships\",\"Internships\",\"Internships\",\"Internships\",\"Internships\",\"Internships\",\"Internships\",\"Internships\",\"Internships\",\"Internships\",\"Internships\",\"Internships\",\"Internships\",\"Internships\",\"Internships\",\"Internships\",\"Internships\",\"Internships\",\"Internships\",\"Internships\",\"Internships\",\"Internships\",\"Internships\",\"Internships\",\"Internships\",\"Internships\",\"Internships\",\"Internships\",\"Internships\",\"Internships\",\"Internships\",\"Internships\",\"Internships\",\"Internships\",\"Internships\",\"Internships\",\"Internships\",\"Internships\",\"Internships\",\"Internships\",\"Internships\",\"Internships\",\"Internships\",\"Internships\",\"Internships\",\"Internships\",\"Internships\",\"Internships\",\"Internships\",\"Internships\",\"Internships\",\"Internships\",\"Internships\",\"Internships\",\"Internships\",\"Internships\",\"Internships\",\"Internships\",\"Internships\",\"Internships\",\"Internships\",\"Internships\",\"Internships\",\"Internships\",\"Internships\",\"Internships\",\"Internships\",\"Internships\",\"Internships\",\"Internships\",\"Internships\",\"Internships\",\"Internships\",\"Internships\",\"Internships\",\"Internships\",\"Internships\",\"Internships\",\"Internships\",\"Internships\",\"Internships\",\"Internships\",\"Internships\",\"Internships\",\"Internships\",\"Internships\",\"Internships\",\"Internships\",\"Internships\",\"Internships\",\"Internships\",\"Internships\",\"Internships\",\"Internships\",\"Internships\",\"Internships\",\"Internships\",\"Internships\",\"Internships\",\"Internships\",\"Internships\",\"Internships\",\"Internships\",\"Internships\",\"Internships\",\"Internships\",\"Internships\",\"Internships\",\"Internships\",\"Internships\",\"Internships\",\"Internships\",\"Internships\",\"Internships\",\"Internships\",\"Internships\",\"Internships\",\"Internships\",\"Internships\",\"Internships\",\"Internships\",\"Internships\",\"Internships\",\"Internships\",\"Internships\",\"Internships\",\"Internships\",\"Internships\",\"Internships\",\"Internships\",\"Internships\",\"Internships\",\"Internships\",\"Internships\",\"Internships\",\"Internships\",\"Internships\",\"Internships\",\"Internships\",\"Internships\",\"Internships\",\"Internships\",\"Internships\",\"Internships\",\"Internships\",\"Internships\",\"Internships\",\"Internships\",\"Internships\",\"Internships\",\"Internships\",\"Internships\",\"Internships\",\"Internships\",\"Internships\",\"Internships\",\"Internships\",\"Internships\",\"Internships\",\"Internships\",\"Internships\",\"Internships\",\"Internships\",\"Internships\",\"Internships\",\"Internships\",\"Internships\",\"Internships\",\"Internships\",\"Internships\",\"Internships\",\"Internships\",\"Internships\",\"Internships\",\"Internships\",\"Internships\",\"Internships\",\"Internships\",\"Internships\",\"Internships\",\"Internships\",\"Internships\",\"Internships\",\"Internships\",\"Internships\",\"Internships\",\"Internships\",\"Internships\",\"Internships\",\"Internships\",\"Internships\",\"Internships\",\"Internships\",\"Internships\",\"Internships\",\"Internships\",\"Internships\",\"Internships\",\"Internships\",\"Internships\",\"Internships\",\"Internships\",\"Internships\",\"Internships\",\"Internships\",\"Internships\",\"Internships\",\"Internships\",\"Internships\",\"Internships\",\"Internships\",\"Internships\",\"Internships\",\"Internships\",\"Internships\",\"Internships\",\"Internships\",\"Internships\",\"Internships\",\"Internships\",\"Internships\",\"Internships\",\"Internships\",\"Internships\",\"Internships\",\"Internships\",\"Internships\",\"Internships\",\"Internships\",\"Internships\",\"Internships\",\"Internships\",\"Internships\",\"Internships\",\"Internships\",\"Internships\",\"Internships\",\"Internships\",\"Internships\",\"Internships\",\"Internships\",\"Internships\",\"Internships\",\"Internships\",\"Internships\",\"Internships\",\"Internships\",\"Internships\",\"Internships\",\"Internships\",\"Internships\",\"Internships\",\"Internships\",\"Internships\",\"Internships\",\"Internships\",\"Internships\",\"Internships\",\"Internships\",\"Internships\",\"Internships\",\"Internships\",\"Internships\",\"Internships\",\"Internships\",\"Internships\",\"Internships\",\"Internships\",\"Internships\",\"Internships\",\"Internships\",\"Internships\",\"Internships\",\"Internships\",\"Internships\",\"Internships\",\"Internships\",\"Internships\",\"Internships\",\"Internships\",\"Internships\",\"Internships\",\"Internships\",\"Internships\",\"Internships\",\"CGPA\",\"CGPA\",\"CGPA\",\"CGPA\",\"CGPA\",\"CGPA\",\"CGPA\",\"CGPA\",\"CGPA\",\"CGPA\",\"CGPA\",\"CGPA\",\"CGPA\",\"CGPA\",\"CGPA\",\"CGPA\",\"CGPA\",\"CGPA\",\"CGPA\",\"CGPA\",\"CGPA\",\"CGPA\",\"CGPA\",\"CGPA\",\"CGPA\",\"CGPA\",\"CGPA\",\"CGPA\",\"CGPA\",\"CGPA\",\"CGPA\",\"CGPA\",\"CGPA\",\"CGPA\",\"CGPA\",\"CGPA\",\"CGPA\",\"CGPA\",\"CGPA\",\"CGPA\",\"CGPA\",\"CGPA\",\"CGPA\",\"CGPA\",\"CGPA\",\"CGPA\",\"CGPA\",\"CGPA\",\"CGPA\",\"CGPA\",\"CGPA\",\"CGPA\",\"CGPA\",\"CGPA\",\"CGPA\",\"CGPA\",\"CGPA\",\"CGPA\",\"CGPA\",\"CGPA\",\"CGPA\",\"CGPA\",\"CGPA\",\"CGPA\",\"CGPA\",\"CGPA\",\"CGPA\",\"CGPA\",\"CGPA\",\"CGPA\",\"CGPA\",\"CGPA\",\"CGPA\",\"CGPA\",\"CGPA\",\"CGPA\",\"CGPA\",\"CGPA\",\"CGPA\",\"CGPA\",\"CGPA\",\"CGPA\",\"CGPA\",\"CGPA\",\"CGPA\",\"CGPA\",\"CGPA\",\"CGPA\",\"CGPA\",\"CGPA\",\"CGPA\",\"CGPA\",\"CGPA\",\"CGPA\",\"CGPA\",\"CGPA\",\"CGPA\",\"CGPA\",\"CGPA\",\"CGPA\",\"CGPA\",\"CGPA\",\"CGPA\",\"CGPA\",\"CGPA\",\"CGPA\",\"CGPA\",\"CGPA\",\"CGPA\",\"CGPA\",\"CGPA\",\"CGPA\",\"CGPA\",\"CGPA\",\"CGPA\",\"CGPA\",\"CGPA\",\"CGPA\",\"CGPA\",\"CGPA\",\"CGPA\",\"CGPA\",\"CGPA\",\"CGPA\",\"CGPA\",\"CGPA\",\"CGPA\",\"CGPA\",\"CGPA\",\"CGPA\",\"CGPA\",\"CGPA\",\"CGPA\",\"CGPA\",\"CGPA\",\"CGPA\",\"CGPA\",\"CGPA\",\"CGPA\",\"CGPA\",\"CGPA\",\"CGPA\",\"CGPA\",\"CGPA\",\"CGPA\",\"CGPA\",\"CGPA\",\"CGPA\",\"CGPA\",\"CGPA\",\"CGPA\",\"CGPA\",\"CGPA\",\"CGPA\",\"CGPA\",\"CGPA\",\"CGPA\",\"CGPA\",\"CGPA\",\"CGPA\",\"CGPA\",\"CGPA\",\"CGPA\",\"CGPA\",\"CGPA\",\"CGPA\",\"CGPA\",\"CGPA\",\"CGPA\",\"CGPA\",\"CGPA\",\"CGPA\",\"CGPA\",\"CGPA\",\"CGPA\",\"CGPA\",\"CGPA\",\"CGPA\",\"CGPA\",\"CGPA\",\"CGPA\",\"CGPA\",\"CGPA\",\"CGPA\",\"CGPA\",\"CGPA\",\"CGPA\",\"CGPA\",\"CGPA\",\"CGPA\",\"CGPA\",\"CGPA\",\"CGPA\",\"CGPA\",\"CGPA\",\"CGPA\",\"CGPA\",\"CGPA\",\"CGPA\",\"CGPA\",\"CGPA\",\"CGPA\",\"CGPA\",\"CGPA\",\"CGPA\",\"CGPA\",\"CGPA\",\"CGPA\",\"CGPA\",\"CGPA\",\"CGPA\",\"CGPA\",\"CGPA\",\"CGPA\",\"CGPA\",\"CGPA\",\"CGPA\",\"CGPA\",\"CGPA\",\"CGPA\",\"CGPA\",\"CGPA\",\"CGPA\",\"CGPA\",\"CGPA\",\"CGPA\",\"CGPA\",\"CGPA\",\"CGPA\",\"CGPA\",\"CGPA\",\"CGPA\",\"CGPA\",\"CGPA\",\"CGPA\",\"CGPA\",\"CGPA\",\"CGPA\",\"CGPA\",\"CGPA\",\"CGPA\",\"CGPA\",\"CGPA\",\"CGPA\",\"CGPA\",\"CGPA\",\"CGPA\",\"CGPA\",\"CGPA\",\"CGPA\",\"CGPA\",\"CGPA\",\"CGPA\",\"CGPA\",\"CGPA\",\"CGPA\",\"CGPA\",\"CGPA\",\"CGPA\",\"CGPA\",\"CGPA\",\"CGPA\",\"CGPA\",\"CGPA\",\"CGPA\",\"CGPA\",\"CGPA\",\"CGPA\",\"CGPA\",\"CGPA\",\"CGPA\",\"CGPA\",\"CGPA\",\"CGPA\",\"CGPA\",\"CGPA\",\"CGPA\",\"CGPA\",\"CGPA\",\"CGPA\",\"CGPA\",\"CGPA\",\"CGPA\",\"CGPA\",\"CGPA\",\"CGPA\",\"CGPA\",\"CGPA\",\"CGPA\",\"CGPA\",\"CGPA\",\"CGPA\",\"CGPA\",\"CGPA\",\"CGPA\",\"CGPA\",\"CGPA\",\"CGPA\",\"CGPA\",\"CGPA\",\"CGPA\",\"CGPA\",\"CGPA\",\"CGPA\",\"CGPA\",\"CGPA\",\"CGPA\",\"CGPA\",\"CGPA\",\"CGPA\",\"CGPA\",\"CGPA\",\"CGPA\",\"CGPA\",\"CGPA\",\"CGPA\",\"CGPA\",\"CGPA\",\"CGPA\",\"CGPA\",\"CGPA\",\"CGPA\",\"CGPA\",\"CGPA\",\"CGPA\",\"CGPA\",\"CGPA\",\"CGPA\",\"CGPA\",\"CGPA\",\"CGPA\",\"CGPA\",\"CGPA\",\"CGPA\",\"CGPA\",\"CGPA\",\"CGPA\",\"CGPA\",\"CGPA\",\"CGPA\",\"CGPA\",\"CGPA\",\"CGPA\",\"CGPA\",\"CGPA\",\"CGPA\",\"CGPA\",\"CGPA\",\"CGPA\",\"CGPA\",\"CGPA\",\"CGPA\",\"CGPA\",\"CGPA\",\"CGPA\",\"CGPA\",\"CGPA\",\"CGPA\",\"CGPA\",\"CGPA\",\"CGPA\",\"CGPA\",\"CGPA\",\"CGPA\",\"CGPA\",\"CGPA\",\"CGPA\",\"CGPA\",\"CGPA\",\"CGPA\",\"CGPA\",\"CGPA\",\"CGPA\",\"CGPA\",\"CGPA\",\"CGPA\",\"CGPA\",\"CGPA\",\"CGPA\",\"CGPA\",\"CGPA\",\"CGPA\",\"CGPA\",\"CGPA\",\"CGPA\",\"CGPA\",\"CGPA\",\"CGPA\",\"CGPA\",\"CGPA\",\"CGPA\",\"CGPA\",\"CGPA\",\"CGPA\",\"CGPA\",\"CGPA\",\"CGPA\",\"CGPA\",\"CGPA\",\"CGPA\",\"CGPA\",\"CGPA\",\"CGPA\",\"CGPA\",\"CGPA\",\"CGPA\",\"CGPA\",\"CGPA\",\"CGPA\",\"CGPA\",\"CGPA\",\"CGPA\",\"CGPA\",\"CGPA\",\"CGPA\",\"CGPA\",\"CGPA\",\"CGPA\",\"CGPA\",\"CGPA\",\"CGPA\",\"CGPA\",\"CGPA\",\"CGPA\",\"CGPA\",\"CGPA\",\"CGPA\",\"CGPA\",\"CGPA\",\"CGPA\",\"CGPA\",\"CGPA\",\"CGPA\",\"CGPA\",\"CGPA\",\"CGPA\",\"CGPA\",\"CGPA\",\"CGPA\",\"CGPA\",\"CGPA\",\"CGPA\",\"CGPA\",\"CGPA\",\"CGPA\",\"CGPA\",\"CGPA\",\"CGPA\",\"CGPA\",\"CGPA\",\"CGPA\",\"CGPA\",\"CGPA\",\"CGPA\",\"CGPA\",\"CGPA\",\"CGPA\",\"CGPA\",\"CGPA\",\"CGPA\",\"CGPA\",\"CGPA\",\"CGPA\",\"CGPA\",\"CGPA\",\"CGPA\",\"CGPA\",\"CGPA\",\"CGPA\",\"CGPA\",\"CGPA\",\"CGPA\",\"CGPA\",\"CGPA\",\"CGPA\",\"CGPA\",\"CGPA\",\"CGPA\",\"CGPA\",\"CGPA\",\"CGPA\",\"CGPA\",\"CGPA\",\"CGPA\",\"CGPA\",\"CGPA\",\"CGPA\",\"CGPA\",\"CGPA\",\"CGPA\",\"CGPA\",\"CGPA\",\"CGPA\",\"CGPA\",\"CGPA\",\"CGPA\",\"CGPA\",\"CGPA\",\"CGPA\",\"CGPA\",\"CGPA\",\"CGPA\",\"CGPA\",\"CGPA\",\"CGPA\",\"CGPA\",\"CGPA\",\"CGPA\",\"CGPA\",\"CGPA\",\"CGPA\",\"CGPA\",\"CGPA\",\"CGPA\",\"CGPA\",\"CGPA\",\"CGPA\",\"CGPA\",\"CGPA\",\"CGPA\",\"CGPA\",\"CGPA\",\"CGPA\",\"CGPA\",\"CGPA\",\"CGPA\",\"CGPA\",\"CGPA\",\"CGPA\",\"CGPA\",\"CGPA\",\"CGPA\",\"CGPA\",\"CGPA\",\"CGPA\",\"CGPA\",\"CGPA\",\"CGPA\",\"CGPA\",\"CGPA\",\"CGPA\",\"CGPA\",\"CGPA\",\"CGPA\",\"CGPA\",\"CGPA\",\"CGPA\",\"CGPA\",\"CGPA\",\"CGPA\",\"CGPA\",\"CGPA\",\"CGPA\",\"CGPA\",\"CGPA\",\"CGPA\",\"CGPA\",\"CGPA\",\"CGPA\",\"CGPA\",\"CGPA\",\"CGPA\",\"CGPA\",\"CGPA\",\"CGPA\",\"CGPA\",\"CGPA\",\"CGPA\",\"CGPA\",\"CGPA\",\"CGPA\",\"CGPA\",\"CGPA\",\"CGPA\",\"CGPA\",\"CGPA\",\"CGPA\",\"CGPA\",\"CGPA\",\"CGPA\",\"CGPA\",\"CGPA\",\"CGPA\",\"CGPA\",\"CGPA\",\"CGPA\",\"CGPA\",\"CGPA\",\"CGPA\",\"CGPA\",\"CGPA\",\"CGPA\",\"CGPA\",\"CGPA\",\"CGPA\",\"CGPA\",\"CGPA\",\"CGPA\",\"CGPA\",\"CGPA\",\"CGPA\",\"CGPA\",\"CGPA\",\"CGPA\",\"CGPA\",\"CGPA\",\"CGPA\",\"CGPA\",\"CGPA\",\"CGPA\",\"CGPA\",\"CGPA\",\"CGPA\",\"CGPA\",\"CGPA\",\"CGPA\",\"CGPA\",\"CGPA\",\"CGPA\",\"CGPA\",\"CGPA\",\"CGPA\",\"CGPA\",\"CGPA\",\"CGPA\",\"CGPA\",\"CGPA\",\"CGPA\",\"CGPA\",\"CGPA\",\"CGPA\",\"CGPA\",\"CGPA\",\"CGPA\",\"CGPA\",\"CGPA\",\"CGPA\",\"CGPA\",\"CGPA\",\"CGPA\",\"CGPA\",\"CGPA\",\"CGPA\",\"CGPA\",\"CGPA\",\"CGPA\",\"CGPA\",\"CGPA\",\"CGPA\",\"CGPA\",\"CGPA\",\"CGPA\",\"CGPA\",\"CGPA\",\"CGPA\",\"CGPA\",\"CGPA\",\"CGPA\",\"CGPA\",\"CGPA\",\"CGPA\",\"CGPA\",\"CGPA\",\"CGPA\",\"CGPA\",\"CGPA\",\"CGPA\",\"CGPA\",\"CGPA\",\"CGPA\",\"CGPA\",\"CGPA\",\"CGPA\",\"CGPA\",\"CGPA\",\"CGPA\",\"CGPA\",\"CGPA\",\"CGPA\",\"CGPA\",\"CGPA\",\"CGPA\",\"CGPA\",\"CGPA\",\"CGPA\",\"CGPA\",\"CGPA\",\"CGPA\",\"CGPA\",\"CGPA\",\"CGPA\",\"CGPA\",\"CGPA\",\"CGPA\",\"CGPA\",\"CGPA\",\"CGPA\",\"CGPA\",\"CGPA\",\"CGPA\",\"CGPA\",\"CGPA\",\"CGPA\",\"CGPA\",\"CGPA\",\"CGPA\",\"CGPA\",\"CGPA\",\"CGPA\",\"CGPA\",\"CGPA\",\"CGPA\",\"CGPA\",\"CGPA\",\"CGPA\",\"CGPA\",\"CGPA\",\"CGPA\",\"CGPA\",\"CGPA\",\"CGPA\",\"CGPA\",\"CGPA\",\"CGPA\",\"CGPA\",\"CGPA\",\"CGPA\",\"CGPA\",\"CGPA\",\"CGPA\",\"CGPA\",\"CGPA\",\"CGPA\",\"CGPA\",\"CGPA\",\"CGPA\",\"CGPA\",\"CGPA\",\"CGPA\",\"CGPA\",\"CGPA\",\"CGPA\",\"CGPA\",\"CGPA\",\"CGPA\",\"CGPA\",\"CGPA\",\"CGPA\",\"CGPA\",\"CGPA\",\"CGPA\",\"CGPA\",\"CGPA\",\"CGPA\",\"CGPA\",\"CGPA\",\"CGPA\",\"CGPA\",\"CGPA\",\"CGPA\",\"CGPA\",\"CGPA\",\"CGPA\",\"CGPA\",\"CGPA\",\"CGPA\",\"CGPA\",\"CGPA\",\"CGPA\",\"CGPA\",\"CGPA\",\"CGPA\",\"CGPA\",\"CGPA\",\"CGPA\",\"CGPA\",\"CGPA\",\"CGPA\",\"CGPA\",\"CGPA\",\"CGPA\",\"CGPA\",\"CGPA\",\"CGPA\",\"CGPA\",\"CGPA\",\"CGPA\",\"CGPA\",\"CGPA\",\"CGPA\",\"CGPA\",\"CGPA\",\"CGPA\",\"CGPA\",\"CGPA\",\"CGPA\",\"CGPA\",\"CGPA\",\"CGPA\",\"CGPA\",\"CGPA\",\"CGPA\",\"CGPA\",\"CGPA\",\"CGPA\",\"CGPA\",\"CGPA\",\"CGPA\",\"CGPA\",\"CGPA\",\"CGPA\",\"CGPA\",\"CGPA\",\"CGPA\",\"CGPA\",\"CGPA\",\"CGPA\",\"CGPA\",\"CGPA\",\"CGPA\",\"CGPA\",\"CGPA\",\"CGPA\",\"CGPA\",\"CGPA\",\"CGPA\",\"CGPA\",\"CGPA\",\"CGPA\",\"CGPA\",\"CGPA\",\"CGPA\",\"CGPA\",\"CGPA\",\"CGPA\",\"CGPA\",\"CGPA\",\"CGPA\",\"CGPA\",\"CGPA\",\"CGPA\",\"CGPA\",\"CGPA\",\"CGPA\",\"CGPA\",\"CGPA\",\"CGPA\",\"CGPA\",\"CGPA\",\"CGPA\",\"CGPA\",\"CGPA\",\"CGPA\",\"CGPA\",\"CGPA\",\"CGPA\",\"CGPA\",\"CGPA\",\"CGPA\",\"CGPA\",\"CGPA\",\"CGPA\",\"CGPA\",\"CGPA\",\"CGPA\",\"CGPA\",\"CGPA\",\"CGPA\",\"CGPA\",\"CGPA\",\"CGPA\",\"CGPA\",\"CGPA\",\"CGPA\",\"CGPA\",\"CGPA\",\"CGPA\",\"CGPA\",\"CGPA\",\"CGPA\",\"CGPA\",\"CGPA\",\"CGPA\",\"CGPA\",\"CGPA\",\"CGPA\",\"CGPA\",\"CGPA\",\"CGPA\",\"CGPA\",\"CGPA\",\"CGPA\",\"CGPA\",\"CGPA\",\"CGPA\",\"CGPA\",\"CGPA\",\"CGPA\",\"CGPA\",\"CGPA\",\"CGPA\",\"CGPA\",\"CGPA\",\"CGPA\",\"CGPA\",\"CGPA\",\"CGPA\",\"CGPA\",\"CGPA\",\"CGPA\",\"CGPA\",\"CGPA\",\"CGPA\",\"CGPA\",\"CGPA\",\"CGPA\",\"CGPA\",\"CGPA\",\"CGPA\",\"CGPA\",\"CGPA\",\"CGPA\",\"CGPA\",\"CGPA\",\"CGPA\",\"CGPA\",\"CGPA\",\"CGPA\",\"CGPA\",\"CGPA\",\"CGPA\",\"CGPA\",\"CGPA\",\"CGPA\",\"CGPA\",\"CGPA\",\"CGPA\",\"CGPA\",\"CGPA\",\"CGPA\",\"CGPA\",\"CGPA\",\"CGPA\",\"CGPA\",\"CGPA\",\"CGPA\",\"CGPA\",\"CGPA\",\"CGPA\",\"CGPA\",\"CGPA\",\"CGPA\",\"CGPA\",\"CGPA\",\"CGPA\",\"CGPA\",\"CGPA\",\"CGPA\",\"CGPA\",\"CGPA\",\"CGPA\",\"CGPA\",\"CGPA\",\"CGPA\",\"CGPA\",\"CGPA\",\"CGPA\",\"CGPA\",\"CGPA\",\"CGPA\",\"CGPA\",\"CGPA\",\"CGPA\",\"CGPA\",\"CGPA\",\"CGPA\",\"CGPA\",\"CGPA\",\"CGPA\",\"CGPA\",\"CGPA\",\"CGPA\",\"CGPA\",\"CGPA\",\"CGPA\",\"CGPA\",\"CGPA\",\"CGPA\",\"CGPA\",\"CGPA\",\"CGPA\",\"CGPA\",\"CGPA\",\"CGPA\",\"CGPA\",\"CGPA\",\"CGPA\",\"CGPA\",\"CGPA\",\"CGPA\",\"CGPA\",\"CGPA\",\"CGPA\",\"CGPA\",\"CGPA\",\"CGPA\",\"CGPA\",\"CGPA\",\"CGPA\",\"CGPA\",\"CGPA\",\"CGPA\",\"CGPA\",\"CGPA\",\"CGPA\",\"CGPA\",\"CGPA\",\"CGPA\",\"CGPA\",\"CGPA\",\"CGPA\",\"CGPA\",\"CGPA\",\"CGPA\",\"CGPA\",\"CGPA\",\"CGPA\",\"CGPA\",\"CGPA\",\"CGPA\",\"CGPA\",\"CGPA\",\"CGPA\",\"CGPA\",\"CGPA\",\"CGPA\",\"CGPA\",\"CGPA\",\"CGPA\",\"CGPA\",\"CGPA\",\"CGPA\",\"CGPA\",\"CGPA\",\"CGPA\",\"CGPA\",\"CGPA\",\"CGPA\",\"CGPA\",\"CGPA\",\"CGPA\",\"CGPA\",\"CGPA\",\"CGPA\",\"CGPA\",\"CGPA\",\"CGPA\",\"CGPA\",\"CGPA\",\"CGPA\",\"CGPA\",\"CGPA\",\"CGPA\",\"CGPA\",\"CGPA\",\"CGPA\",\"CGPA\",\"CGPA\",\"CGPA\",\"CGPA\",\"CGPA\",\"CGPA\",\"CGPA\",\"CGPA\",\"CGPA\",\"CGPA\",\"CGPA\",\"CGPA\",\"CGPA\",\"CGPA\",\"CGPA\",\"CGPA\",\"CGPA\",\"CGPA\",\"CGPA\",\"CGPA\",\"CGPA\",\"CGPA\",\"CGPA\",\"CGPA\",\"CGPA\",\"CGPA\",\"CGPA\",\"CGPA\",\"CGPA\",\"CGPA\",\"CGPA\",\"CGPA\",\"CGPA\",\"CGPA\",\"CGPA\",\"CGPA\",\"CGPA\",\"CGPA\",\"CGPA\",\"CGPA\",\"CGPA\",\"CGPA\",\"CGPA\",\"CGPA\",\"CGPA\",\"CGPA\",\"CGPA\",\"CGPA\",\"CGPA\",\"CGPA\",\"CGPA\",\"CGPA\",\"CGPA\",\"CGPA\",\"CGPA\",\"CGPA\",\"CGPA\",\"CGPA\",\"CGPA\",\"CGPA\",\"CGPA\",\"CGPA\",\"CGPA\",\"CGPA\",\"CGPA\",\"CGPA\",\"CGPA\",\"CGPA\",\"CGPA\",\"CGPA\",\"CGPA\",\"Age\",\"Age\",\"Age\",\"Age\",\"Age\",\"Age\",\"Age\",\"Age\",\"Age\",\"Age\",\"Age\",\"Age\",\"Age\",\"Age\",\"Age\",\"Age\",\"Age\",\"Age\",\"Age\",\"Age\",\"Age\",\"Age\",\"Age\",\"Age\",\"Age\",\"Age\",\"Age\",\"Age\",\"Age\",\"Age\",\"Age\",\"Age\",\"Age\",\"Age\",\"Age\",\"Age\",\"Age\",\"Age\",\"Age\",\"Age\",\"Age\",\"Age\",\"Age\",\"Age\",\"Age\",\"Age\",\"Age\",\"Age\",\"Age\",\"Age\",\"Age\",\"Age\",\"Age\",\"Age\",\"Age\",\"Age\",\"Age\",\"Age\",\"Age\",\"Age\",\"Age\",\"Age\",\"Age\",\"Age\",\"Age\",\"Age\",\"Age\",\"Age\",\"Age\",\"Age\",\"Age\",\"Age\",\"Age\",\"Age\",\"Age\",\"Age\",\"Age\",\"Age\",\"Age\",\"Age\",\"Age\",\"Age\",\"Age\",\"Age\",\"Age\",\"Age\",\"Age\",\"Age\",\"Age\",\"Age\",\"Age\",\"Age\",\"Age\",\"Age\",\"Age\",\"Age\",\"Age\",\"Age\",\"Age\",\"Age\",\"Age\",\"Age\",\"Age\",\"Age\",\"Age\",\"Age\",\"Age\",\"Age\",\"Age\",\"Age\",\"Age\",\"Age\",\"Age\",\"Age\",\"Age\",\"Age\",\"Age\",\"Age\",\"Age\",\"Age\",\"Age\",\"Age\",\"Age\",\"Age\",\"Age\",\"Age\",\"Age\",\"Age\",\"Age\",\"Age\",\"Age\",\"Age\",\"Age\",\"Age\",\"Age\",\"Age\",\"Age\",\"Age\",\"Age\",\"Age\",\"Age\",\"Age\",\"Age\",\"Age\",\"Age\",\"Age\",\"Age\",\"Age\",\"Age\",\"Age\",\"Age\",\"Age\",\"Age\",\"Age\",\"Age\",\"Age\",\"Age\",\"Age\",\"Age\",\"Age\",\"Age\",\"Age\",\"Age\",\"Age\",\"Age\",\"Age\",\"Age\",\"Age\",\"Age\",\"Age\",\"Age\",\"Age\",\"Age\",\"Age\",\"Age\",\"Age\",\"Age\",\"Age\",\"Age\",\"Age\",\"Age\",\"Age\",\"Age\",\"Age\",\"Age\",\"Age\",\"Age\",\"Age\",\"Age\",\"Age\",\"Age\",\"Age\",\"Age\",\"Age\",\"Age\",\"Age\",\"Age\",\"Age\",\"Age\",\"Age\",\"Age\",\"Age\",\"Age\",\"Age\",\"Age\",\"Age\",\"Age\",\"Age\",\"Age\",\"Age\",\"Age\",\"Age\",\"Age\",\"Age\",\"Age\",\"Age\",\"Age\",\"Age\",\"Age\",\"Age\",\"Age\",\"Age\",\"Age\",\"Age\",\"Age\",\"Age\",\"Age\",\"Age\",\"Age\",\"Age\",\"Age\",\"Age\",\"Age\",\"Age\",\"Age\",\"Age\",\"Age\",\"Age\",\"Age\",\"Age\",\"Age\",\"Age\",\"Age\",\"Age\",\"Age\",\"Age\",\"Age\",\"Age\",\"Age\",\"Age\",\"Age\",\"Age\",\"Age\",\"Age\",\"Age\",\"Age\",\"Age\",\"Age\",\"Age\",\"Age\",\"Age\",\"Age\",\"Age\",\"Age\",\"Age\",\"Age\",\"Age\",\"Age\",\"Age\",\"Age\",\"Age\",\"Age\",\"Age\",\"Age\",\"Age\",\"Age\",\"Age\",\"Age\",\"Age\",\"Age\",\"Age\",\"Age\",\"Age\",\"Age\",\"Age\",\"Age\",\"Age\",\"Age\",\"Age\",\"Age\",\"Age\",\"Age\",\"Age\",\"Age\",\"Age\",\"Age\",\"Age\",\"Age\",\"Age\",\"Age\",\"Age\",\"Age\",\"Age\",\"Age\",\"Age\",\"Age\",\"Age\",\"Age\",\"Age\",\"Age\",\"Age\",\"Age\",\"Age\",\"Age\",\"Age\",\"Age\",\"Age\",\"Age\",\"Age\",\"Age\",\"Age\",\"Age\",\"Age\",\"Age\",\"Age\",\"Age\",\"Age\",\"Age\",\"Age\",\"Age\",\"Age\",\"Age\",\"Age\",\"Age\",\"Age\",\"Age\",\"Age\",\"Age\",\"Age\",\"Age\",\"Age\",\"Age\",\"Age\",\"Age\",\"Age\",\"Age\",\"Age\",\"Age\",\"Age\",\"Age\",\"Age\",\"Age\",\"Age\",\"Age\",\"Age\",\"Age\",\"Age\",\"Age\",\"Age\",\"Age\",\"Age\",\"Age\",\"Age\",\"Age\",\"Age\",\"Age\",\"Age\",\"Age\",\"Age\",\"Age\",\"Age\",\"Age\",\"Age\",\"Age\",\"Age\",\"Age\",\"Age\",\"Age\",\"Age\",\"Age\",\"Age\",\"Age\",\"Age\",\"Age\",\"Age\",\"Age\",\"Age\",\"Age\",\"Age\",\"Age\",\"Age\",\"Age\",\"Age\",\"Age\",\"Age\",\"Age\",\"Age\",\"Age\",\"Age\",\"Age\",\"Age\",\"Age\",\"Age\",\"Age\",\"Age\",\"Age\",\"Age\",\"Age\",\"Age\",\"Age\",\"Age\",\"Age\",\"Age\",\"Age\",\"Age\",\"Age\",\"Age\",\"Age\",\"Age\",\"Age\",\"Age\",\"Age\",\"Age\",\"Age\",\"Age\",\"Age\",\"Age\",\"Age\",\"Age\",\"Age\",\"Age\",\"Age\",\"Age\",\"Age\",\"Age\",\"Age\",\"Age\",\"Age\",\"Age\",\"Age\",\"Age\",\"Age\",\"Age\",\"Age\",\"Age\",\"Age\",\"Age\",\"Age\",\"Age\",\"Age\",\"Age\",\"Age\",\"Age\",\"Age\",\"Age\",\"Age\",\"Age\",\"Age\",\"Age\",\"Age\",\"Age\",\"Age\",\"Age\",\"Age\",\"Age\",\"Age\",\"Age\",\"Age\",\"Age\",\"Age\",\"Age\",\"Age\",\"Age\",\"Age\",\"Age\",\"Age\",\"Age\",\"Age\",\"Age\",\"Age\",\"Age\",\"Age\",\"Age\",\"Age\",\"Age\",\"Age\",\"Age\",\"Age\",\"Age\",\"Age\",\"Age\",\"Age\",\"Age\",\"Age\",\"Age\",\"Age\",\"Age\",\"Age\",\"Age\",\"Age\",\"Age\",\"Age\",\"Age\",\"Age\",\"Age\",\"Age\",\"Age\",\"Age\",\"Age\",\"Age\",\"Age\",\"Age\",\"Age\",\"Age\",\"Age\",\"Age\",\"Age\",\"Age\",\"Age\",\"Age\",\"Age\",\"Age\",\"Age\",\"Age\",\"Age\",\"Age\",\"Age\",\"Age\",\"Age\",\"Age\",\"Age\",\"Age\",\"Age\",\"Age\",\"Age\",\"Age\",\"Age\",\"Age\",\"Age\",\"Age\",\"Age\",\"Age\",\"Age\",\"Age\",\"Age\",\"Age\",\"Age\",\"Age\",\"Age\",\"Age\",\"Age\",\"Age\",\"Age\",\"Age\",\"Age\",\"Age\",\"Age\",\"Age\",\"Age\",\"Age\",\"Age\",\"Age\",\"Age\",\"Age\",\"Age\",\"Age\",\"Age\",\"Age\",\"Age\",\"Age\",\"Age\",\"Age\",\"Age\",\"Age\",\"Age\",\"Age\",\"Age\",\"Age\",\"Age\",\"Age\",\"Age\",\"Age\",\"Age\",\"Age\",\"Age\",\"Age\",\"Age\",\"Age\",\"Age\",\"Age\",\"Age\",\"Age\",\"Age\",\"Age\",\"Age\",\"Age\",\"Age\",\"Age\",\"Age\",\"Age\",\"Age\",\"Age\",\"Age\",\"Age\",\"Age\",\"Age\",\"Age\",\"Age\",\"Age\",\"Age\",\"Age\",\"Age\",\"Age\",\"Age\",\"Age\",\"Age\",\"Age\",\"Age\",\"Age\",\"Age\",\"Age\",\"Age\",\"Age\",\"Age\",\"Age\",\"Age\",\"Age\",\"Age\",\"Age\",\"Age\",\"Age\",\"Age\",\"Age\",\"Age\",\"Age\",\"Age\",\"Age\",\"Age\",\"Age\",\"Age\",\"Age\",\"Age\",\"Age\",\"Age\",\"Age\",\"Age\",\"Age\",\"Age\",\"Age\",\"Age\",\"Age\",\"Age\",\"Age\",\"Age\",\"Age\",\"Age\",\"Age\",\"Age\",\"Age\",\"Age\",\"Age\",\"Age\",\"Age\",\"Age\",\"Age\",\"Age\",\"Age\",\"Age\",\"Age\",\"Age\",\"Age\",\"Age\",\"Age\",\"Age\",\"Age\",\"Age\",\"Age\",\"Age\",\"Age\",\"Age\",\"Age\",\"Age\",\"Age\",\"Age\",\"Age\",\"Age\",\"Age\",\"Age\",\"Age\",\"Age\",\"Age\",\"Age\",\"Age\",\"Age\",\"Age\",\"Age\",\"Age\",\"Age\",\"Age\",\"Age\",\"Age\",\"Age\",\"Age\",\"Age\",\"Age\",\"Age\",\"Age\",\"Age\",\"Age\",\"Age\",\"Age\",\"Age\",\"Age\",\"Age\",\"Age\",\"Age\",\"Age\",\"Age\",\"Age\",\"Age\",\"Age\",\"Age\",\"Age\",\"Age\",\"Age\",\"Age\",\"Age\",\"Age\",\"Age\",\"Age\",\"Age\",\"Age\",\"Age\",\"Age\",\"Age\",\"Age\",\"Age\",\"Age\",\"Age\",\"Age\",\"Age\",\"Age\",\"Age\",\"Age\",\"Age\",\"Age\",\"Age\",\"Age\",\"Age\",\"Age\",\"Age\",\"Age\",\"Age\",\"Age\",\"Age\",\"Age\",\"Age\",\"Age\",\"Age\",\"Age\",\"Age\",\"Age\",\"Age\",\"Age\",\"Age\",\"Age\",\"Age\",\"Age\",\"Age\",\"Age\",\"Age\",\"Age\",\"Age\",\"Age\",\"Age\",\"Age\",\"Age\",\"Age\",\"Age\",\"Age\",\"Age\",\"Age\",\"Age\",\"Age\",\"Age\",\"Age\",\"Age\",\"Age\",\"Age\",\"Age\",\"Age\",\"Age\",\"Age\",\"Age\",\"Age\",\"Age\",\"Age\",\"Age\",\"Age\",\"Age\",\"Age\",\"Age\",\"Age\",\"Age\",\"Age\",\"Age\",\"Age\",\"Age\",\"Age\",\"Age\",\"Age\",\"Age\",\"Age\",\"Age\",\"Age\",\"Age\",\"Age\",\"Age\",\"Age\",\"Age\",\"Age\",\"Age\",\"Age\",\"Age\",\"Age\",\"Age\",\"Age\",\"Age\",\"Age\",\"Age\",\"Age\",\"Age\",\"Age\",\"Age\",\"Age\",\"Age\",\"Age\",\"Age\",\"Age\",\"Age\",\"Age\",\"Age\",\"Age\",\"Age\",\"Age\",\"Age\",\"Age\",\"Age\",\"Age\",\"Age\",\"Age\",\"Age\",\"Age\",\"Age\",\"Age\",\"Age\",\"Age\",\"Age\",\"Age\",\"Age\",\"Age\",\"Age\",\"Age\",\"Age\",\"Age\",\"Age\",\"Age\",\"Age\",\"Age\",\"Age\",\"Age\",\"Age\",\"Age\",\"Age\",\"Age\",\"Age\",\"Age\",\"Age\",\"Age\",\"Age\",\"Age\",\"Age\",\"Age\",\"Age\",\"Age\",\"Age\",\"Age\",\"Age\",\"Age\",\"Age\",\"Age\",\"Age\",\"Age\",\"Age\",\"Age\",\"Age\",\"Age\",\"Age\",\"Age\",\"Age\",\"Age\",\"Age\",\"Age\",\"Age\",\"Age\",\"Age\",\"Age\",\"Age\",\"Age\",\"Age\",\"Age\",\"Age\",\"Age\",\"Age\",\"Age\",\"Age\",\"Age\",\"Age\",\"Age\",\"Age\",\"Age\",\"Age\",\"Age\",\"Age\",\"Age\",\"Age\",\"Age\",\"Age\",\"Age\",\"Age\",\"Age\",\"Age\",\"Age\",\"Age\",\"Age\",\"Age\",\"Age\",\"Age\",\"Age\",\"Age\",\"Age\",\"Age\",\"Age\",\"Age\",\"Age\",\"Age\",\"Age\",\"Age\",\"Age\",\"Age\",\"Age\",\"Age\",\"Age\",\"Age\",\"Age\",\"Age\",\"Age\",\"Age\",\"Age\",\"Age\",\"Age\",\"Age\",\"Age\",\"Age\",\"Age\",\"Age\",\"Age\",\"Age\",\"Age\",\"Age\",\"Age\",\"Age\",\"Age\",\"Age\",\"Age\",\"Age\",\"Age\",\"Age\",\"Age\",\"Age\",\"Age\",\"Age\",\"Age\",\"Age\",\"Age\",\"Age\",\"Age\",\"Age\",\"Age\",\"Age\",\"Age\",\"Age\",\"Age\",\"Age\",\"Age\",\"Age\",\"Age\",\"Age\",\"Age\",\"Age\",\"Age\",\"Age\",\"Age\",\"Age\",\"Age\",\"Age\",\"Age\",\"Age\",\"Age\",\"Age\",\"Age\",\"Age\",\"Age\",\"Age\",\"Age\",\"Age\",\"Age\",\"Age\",\"Age\",\"Age\",\"Age\",\"Age\",\"Age\",\"Age\",\"Age\",\"Age\",\"Age\",\"Age\",\"Age\",\"Age\",\"Age\",\"Age\",\"Age\",\"Age\",\"Age\",\"Age\",\"Age\",\"Age\",\"Age\",\"Age\",\"Age\",\"Age\",\"Age\",\"Age\",\"Age\",\"Age\",\"Age\",\"Age\",\"Age\",\"Age\",\"Age\",\"Age\",\"Age\",\"Age\",\"Age\",\"Age\",\"Age\",\"Age\",\"Age\",\"Age\",\"Age\",\"Age\",\"Age\",\"Age\",\"Age\",\"Age\",\"Age\",\"Age\",\"Age\",\"Age\",\"Age\",\"Age\",\"Age\",\"Age\",\"Age\",\"Age\",\"Age\",\"Age\",\"Age\",\"Age\",\"Age\",\"Age\",\"Age\",\"Age\",\"Age\",\"Age\",\"Age\",\"Age\",\"Age\",\"Age\",\"Age\",\"Age\",\"Age\",\"Age\",\"Age\",\"Age\",\"Age\",\"Age\",\"Age\",\"Age\",\"Age\",\"Age\",\"Age\",\"Age\",\"Age\",\"Age\",\"Age\",\"Age\",\"Age\",\"Age\",\"Age\",\"Age\",\"Age\",\"Age\",\"Age\",\"Age\",\"Age\",\"Age\",\"Age\",\"Age\",\"Age\",\"Age\",\"Age\",\"Age\",\"Age\",\"Age\",\"Age\",\"Age\",\"Age\",\"Age\",\"Age\",\"Age\",\"Age\",\"Age\",\"Age\",\"Age\",\"Age\"],\"x0\":\" \",\"xaxis\":\"x\",\"y\":[1,0,1,0,0,0,0,1,2,1,1,1,2,1,2,1,0,1,0,1,0,1,0,0,1,1,0,1,1,1,0,1,1,0,1,1,0,1,0,1,2,3,1,2,0,0,1,1,3,1,0,0,1,2,0,0,0,1,0,1,2,0,0,3,1,0,0,0,1,0,1,0,2,0,0,1,1,1,1,1,2,2,0,0,0,0,1,2,0,1,0,1,1,1,1,1,0,0,0,1,3,0,2,1,1,2,1,1,2,0,0,0,1,1,1,0,0,0,0,1,0,3,2,0,1,0,1,0,2,0,2,0,2,1,0,0,0,1,3,0,0,1,1,2,1,0,0,0,0,1,1,1,1,2,1,0,2,1,1,1,0,0,0,0,0,1,2,1,2,2,1,2,1,0,0,2,0,1,3,1,1,1,2,1,0,0,1,0,1,0,1,2,1,1,0,2,0,1,2,1,1,3,0,1,1,2,1,1,1,1,2,0,1,0,0,0,1,0,2,1,0,0,1,2,0,1,2,2,1,1,0,0,2,0,1,0,2,1,0,0,0,0,0,1,1,0,0,2,0,1,1,0,0,0,2,0,0,0,1,0,0,0,0,0,0,1,1,1,0,0,0,1,2,0,0,1,1,0,1,1,2,2,0,2,0,1,0,0,0,2,3,0,1,1,0,1,1,1,0,2,1,0,0,0,1,0,1,0,1,0,0,2,1,0,0,1,2,0,2,1,0,3,3,0,0,2,0,1,0,1,2,0,1,1,1,1,1,1,1,1,0,1,1,1,1,0,0,0,0,2,0,1,1,1,2,1,2,1,2,1,1,2,2,2,1,2,2,1,2,2,2,2,2,1,1,0,1,1,1,1,1,0,0,2,0,2,0,2,1,2,0,1,0,1,0,1,1,0,0,0,1,0,1,0,2,1,1,1,1,2,0,0,0,0,1,1,0,0,0,0,1,1,0,3,1,1,1,0,0,1,1,0,1,0,0,1,1,1,1,2,1,0,2,0,1,2,0,1,0,0,1,0,0,3,0,0,0,2,0,1,2,0,1,1,0,3,1,1,2,2,1,2,1,0,0,1,0,0,1,1,2,1,2,1,2,2,2,2,2,1,1,1,1,2,2,2,1,1,2,1,2,2,2,2,2,2,2,2,2,1,1,2,2,2,2,2,1,2,1,1,2,2,1,2,1,2,2,2,1,2,1,2,2,2,1,2,1,0,0,1,0,0,1,0,2,0,1,0,0,0,1,1,1,1,1,0,1,0,0,1,2,1,0,2,2,1,0,1,0,0,1,1,0,0,1,0,0,1,1,2,1,1,0,1,1,0,0,1,0,1,0,0,0,0,0,0,1,1,0,1,1,0,0,0,0,1,0,1,1,2,0,1,0,0,1,0,1,0,1,1,1,3,1,0,1,0,2,3,1,3,1,3,1,3,1,1,1,0,1,0,1,2,2,0,1,0,1,0,1,1,1,0,0,0,1,1,0,0,1,2,0,1,0,0,2,1,0,1,1,0,1,0,2,0,2,1,1,0,1,0,0,2,0,1,2,0,0,0,1,0,1,1,1,1,0,0,0,0,0,0,0,1,1,0,2,2,0,1,1,1,0,1,1,2,0,3,0,0,0,2,0,1,0,1,2,1,0,1,0,0,0,1,1,0,0,1,2,0,0,0,1,0,0,2,0,0,1,1,1,0,0,0,1,1,2,0,1,0,0,2,3,1,0,1,0,1,0,0,1,0,0,1,3,0,1,0,1,1,1,1,0,1,0,1,1,1,0,0,1,0,1,1,0,1,1,1,1,1,0,0,2,0,0,1,1,1,0,1,0,0,2,0,2,2,2,1,1,0,0,0,1,1,3,1,0,1,1,1,1,0,1,3,1,0,3,1,1,1,1,2,0,0,0,1,1,1,1,1,2,1,0,0,1,1,2,0,0,0,0,0,0,1,1,2,0,3,2,1,2,2,0,0,1,2,0,2,1,0,2,2,0,3,1,0,0,0,1,1,0,1,2,1,0,1,1,0,0,0,2,0,3,1,1,0,1,1,0,2,0,0,0,0,1,0,1,1,1,1,2,1,0,1,3,0,0,0,1,2,1,1,3,0,0,3,0,3,1,2,1,0,1,2,0,1,0,1,0,1,0,0,1,3,1,1,0,1,1,1,1,1,0,0,0,2,0,1,0,0,0,3,2,1,1,0,0,1,0,0,2,1,1,0,0,2,1,1,1,0,0,2,1,0,0,1,3,1,1,2,1,1,1,0,1,1,0,0,0,0,1,0,0,0,1,0,1,0,0,1,1,2,1,2,2,0,0,3,0,1,2,2,0,2,0,0,1,3,0,3,1,0,2,0,0,0,1,0,2,1,0,2,0,0,1,3,0,1,0,1,0,2,0,1,0,0,0,1,3,3,3,0,1,1,0,1,0,1,0,1,0,0,0,1,3,1,0,1,1,1,2,1,2,2,1,1,0,2,1,0,0,1,2,1,0,0,0,0,1,1,3,1,1,1,1,1,1,1,1,1,3,2,0,0,2,0,0,1,1,0,0,0,0,1,1,0,1,0,1,8,7,6,8,8,6,7,7,6,6,7,8,6,8,8,7,6,7,8,6,7,7,7,8,8,8,6,8,7,7,7,6,6,7,8,6,8,6,8,7,8,6,7,7,7,8,8,8,6,7,8,8,8,9,8,8,9,8,9,9,9,8,9,9,9,9,8,8,8,9,9,8,7,8,6,6,7,8,6,6,7,7,7,7,7,6,5,6,5,6,6,7,7,7,6,6,7,6,6,7,5,6,6,7,5,7,5,7,7,5,6,6,7,6,6,6,5,5,5,5,7,7,5,7,6,5,7,5,6,7,6,5,6,6,7,7,5,5,6,6,5,6,6,5,6,6,7,7,7,7,6,5,6,6,6,5,5,7,7,5,6,5,7,5,5,5,6,5,7,7,6,6,7,7,8,8,6,6,6,7,7,8,8,6,7,6,6,6,8,8,7,7,8,7,6,8,7,6,6,7,6,8,8,8,8,6,6,8,8,7,6,6,7,6,8,7,7,6,7,8,6,7,6,6,7,6,6,7,7,6,7,6,8,6,6,8,7,8,6,6,6,6,7,6,6,6,7,7,6,8,7,7,6,6,8,8,7,8,7,6,6,6,7,7,7,6,6,6,7,7,6,8,8,6,6,6,5,6,5,5,6,5,5,7,7,6,6,6,6,6,7,8,6,8,6,8,6,8,8,6,7,7,7,7,6,6,8,7,6,6,7,7,8,8,8,7,6,6,7,7,6,8,8,7,7,6,8,8,7,6,7,6,7,8,7,8,6,8,8,8,8,8,6,7,7,8,7,6,7,7,8,7,8,6,7,7,7,8,6,6,7,8,8,6,7,8,6,6,6,8,7,8,8,7,7,6,6,7,7,7,6,7,6,8,6,6,7,6,8,6,6,8,9,7,9,6,6,8,8,8,6,7,9,8,8,8,8,7,9,8,9,6,9,8,7,7,8,9,7,9,8,8,7,7,8,7,7,7,8,6,6,7,6,8,6,8,8,6,6,8,7,7,8,6,8,8,8,7,8,6,8,8,7,7,8,7,8,7,6,6,6,6,8,7,7,8,6,7,7,8,8,7,7,7,8,6,7,6,6,8,7,8,6,6,7,8,7,7,6,7,7,6,6,8,8,7,6,6,7,7,8,6,8,7,6,7,8,8,7,8,9,8,7,7,9,7,7,7,9,9,9,9,8,9,9,8,9,9,8,9,9,9,8,7,9,7,7,9,9,9,9,9,8,9,9,9,9,9,9,9,7,7,9,9,8,9,8,9,9,7,8,9,7,9,8,8,9,9,9,9,9,8,7,7,6,6,7,7,6,7,7,6,6,7,7,7,6,7,6,7,6,6,6,6,7,6,6,7,7,7,6,7,7,7,6,6,7,6,7,7,7,7,6,6,6,6,7,7,7,6,6,7,7,6,6,8,7,6,6,8,8,6,8,6,8,6,6,8,7,7,7,7,7,7,6,8,8,7,6,7,6,6,7,8,7,7,8,7,7,7,6,6,6,7,7,7,8,8,7,8,7,8,6,6,5,5,6,5,5,5,5,6,6,5,5,5,5,5,6,7,7,6,7,7,7,6,8,8,7,7,7,8,7,8,7,8,8,8,7,7,7,7,8,7,6,8,7,6,8,6,7,7,7,8,7,7,7,8,7,8,8,6,6,6,8,7,8,7,7,6,5,5,5,5,6,5,5,5,5,5,6,5,5,6,6,5,5,5,5,5,6,5,6,6,5,5,5,5,6,6,6,8,7,8,6,7,8,8,7,6,7,6,8,7,6,6,7,6,8,6,6,7,7,6,7,8,7,8,8,8,8,7,7,7,7,7,7,7,7,7,7,6,8,6,7,8,8,7,8,8,7,7,7,8,8,8,8,8,7,7,7,7,7,7,8,8,8,8,7,7,8,7,8,8,8,8,8,7,8,7,7,8,7,7,8,7,6,7,8,6,6,7,6,8,6,6,7,6,6,6,7,6,8,8,6,8,7,8,6,7,8,7,7,6,6,8,6,7,6,8,7,9,6,9,6,7,5,9,8,9,6,7,5,5,5,5,5,5,9,5,9,6,9,5,8,9,6,9,8,9,8,7,9,9,7,7,9,7,5,9,7,5,9,9,5,9,6,9,8,7,6,6,7,7,6,6,7,7,6,6,6,6,6,8,8,6,6,6,8,8,8,7,6,7,7,6,7,7,6,6,6,6,6,7,7,7,6,7,7,7,8,6,8,8,7,6,8,8,8,7,7,7,7,7,6,7,6,6,6,7,7,8,7,7,6,6,7,6,6,6,7,8,8,6,6,8,7,8,6,8,6,6,7,6,7,7,6,7,7,6,8,7,8,8,6,6,6,8,7,6,6,6,7,7,7,6,6,7,7,9,9,7,9,7,9,9,8,9,9,9,9,7,9,9,9,8,9,8,9,9,9,7,9,7,7,7,9,9,9,9,8,8,8,9,9,9,8,7,8,7,8,8,7,7,8,8,7,6,6,6,6,8,8,6,7,6,6,7,8,7,6,7,6,8,8,7,8,6,8,8,7,8,6,6,8,8,6,6,8,6,6,7,7,8,8,6,7,22,21,22,21,22,22,21,21,21,21,22,22,21,21,21,22,21,21,22,21,22,22,22,21,22,22,21,22,21,21,21,21,21,22,22,22,22,22,22,21,22,21,21,21,21,22,21,21,21,21,21,21,21,21,22,21,21,21,22,22,22,21,22,22,22,21,22,22,21,21,21,21,21,21,21,22,22,21,22,21,22,21,22,21,23,23,23,24,23,23,24,24,24,23,23,24,24,24,23,23,24,23,23,23,23,23,24,24,24,24,23,23,23,24,23,24,24,23,24,23,23,24,24,23,24,23,24,24,23,24,24,23,24,23,24,22,22,22,21,21,21,21,21,21,21,22,22,21,21,22,22,21,22,22,21,22,21,22,21,22,21,22,21,21,21,22,21,21,22,21,22,21,21,21,21,21,22,21,21,21,22,22,22,21,22,21,21,22,22,21,22,21,21,22,22,21,22,21,21,21,22,21,21,22,22,21,22,21,21,21,22,21,22,21,22,21,21,21,21,22,21,21,21,21,22,22,22,22,22,22,21,22,22,22,22,21,22,22,22,22,22,21,21,21,22,22,22,22,21,21,22,21,22,22,21,22,22,21,21,21,21,22,22,22,21,21,22,22,22,22,21,21,21,21,22,22,21,21,22,21,21,21,22,22,21,21,21,22,21,22,21,21,21,22,21,21,21,22,28,22,22,22,22,21,22,21,22,22,21,22,22,22,21,21,21,22,21,22,22,22,21,21,22,21,21,21,22,21,21,21,22,21,22,22,21,22,22,21,21,30,22,22,22,21,22,22,21,22,22,21,22,21,21,22,22,22,21,22,21,22,21,21,21,22,22,22,22,22,21,21,22,22,22,21,21,22,22,22,22,22,21,22,22,21,21,22,25,26,24,25,24,25,23,24,25,26,26,25,26,24,23,23,24,25,24,23,26,23,26,26,26,26,24,23,26,23,24,26,25,23,24,23,23,26,26,23,26,26,23,26,23,24,25,26,24,26,25,21,21,22,21,22,21,22,21,22,22,22,22,21,21,21,21,22,22,21,22,21,21,21,21,22,22,21,22,22,21,21,21,22,21,22,22,22,22,22,21,22,21,21,21,21,22,21,22,22,21,22,22,21,22,21,22,21,22,21,21,22,22,22,21,22,21,22,22,21,21,22,22,21,22,21,21,22,21,21,22,21,21,22,21,21,21,21,21,22,21,21,22,22,21,22,22,22,21,21,21,22,21,21,21,22,22,22,22,22,21,22,21,22,22,22,21,22,22,22,21,22,21,21,21,22,22,22,21,21,22,21,21,21,22,21,25,26,24,25,26,26,26,26,24,26,26,26,26,26,26,25,26,24,26,26,24,24,25,25,26,26,25,25,26,26,26,26,24,25,26,26,25,25,24,26,26,25,25,25,21,21,21,22,22,22,21,22,22,22,21,22,22,28,22,22,22,22,24,24,24,24,20,23,23,23,22,23,23,23,20,24,20,22,20,23,23,20,20,23,20,23,24,20,20,23,20,24,23,23,23,24,20,20,21,24,21,20,20,21,23,24,24,23,23,22,24,20,20,24,24,21,23,21,23,20,24,24,20,23,24,20,23,24,23,23,21,24,22,23,24,20,20,24,21,20,24,20,23,22,23,24,20,20,23,22,20,24,23,23,21,20,20,21,23,23,24,20,20,24,24,21,20,23,23,20,20,24,24,23,22,23,23,23,23,20,23,23,22,21,20,23,21,21,23,21,20,24,23,23,22,22,23,23,21,23,20,20,22,24,20,23,22,20,20,20,22,24,23,23,24,24,24,20,20,24,24,22,24,20,20,20,20,24,23,21,20,23,24,21,20,20,20,23,20,23,20,23,20,19,19,19,20,19,22,19,22,20,19,21,19,19,19,20,20,22,20,20,22,19,20,20,19,19,19,19,19,20,19,20,20,19,20,21,19,19,20,19,19,19,19,19,20,22,21,19,19,19,20,22,20,20,19,19,22,19,19,19,19,21,19,20,20,19,20,19,20,19,20,19,19,20,19,20,20,21,19,19,20,19,21,19,19,19,20,21,21,22,19,21,20,22,19,22,19,19,22,19,19,22,19,20,19,21,20,19,19,22,20,19,20,20,22,19,19,21,20,21,22,20,19,20,19,21,20,19,19,21,20,19,20,19,19,20,20,22,19,20,19,20,19,21,19,19,19,19,19,19,20,19,19,19,20,22,20,19,20,19,22,19,19,20,19,19,19,20,20,20,19,19,29,19,20,19,20,20,19,20,20,19,20,20,20,20,19,19,19,22,22,19,21,22,19,20,21,19,19,28,19,19,20,19,19,19,21,19,22,19,20,22,19,21,20,20,21,20,21,20,20,21,20,20,21,20,20,20,21,20,20,21,21,20,20,20,20,20,20,20,20,21,20,20,21,21,21,20,20,21,20,20,21,20,21,20,20,20,20,20,21,20,20,20,20,20,20,21,20,21,20,21,20,20,20,20,20,21,20,20,20,20,20,20,20,20,21,20,23,22,23,23,23,22,22,23,23,23,22,23,22,23,23,22,23,23,23,23,23,23,23,23,23,23,23,23,23,23,23,23,23,23,23],\"y0\":\" \",\"yaxis\":\"y\",\"type\":\"box\"}],                        {\"template\":{\"data\":{\"histogram2dcontour\":[{\"type\":\"histogram2dcontour\",\"colorbar\":{\"outlinewidth\":0,\"ticks\":\"\"},\"colorscale\":[[0.0,\"#0d0887\"],[0.1111111111111111,\"#46039f\"],[0.2222222222222222,\"#7201a8\"],[0.3333333333333333,\"#9c179e\"],[0.4444444444444444,\"#bd3786\"],[0.5555555555555556,\"#d8576b\"],[0.6666666666666666,\"#ed7953\"],[0.7777777777777778,\"#fb9f3a\"],[0.8888888888888888,\"#fdca26\"],[1.0,\"#f0f921\"]]}],\"choropleth\":[{\"type\":\"choropleth\",\"colorbar\":{\"outlinewidth\":0,\"ticks\":\"\"}}],\"histogram2d\":[{\"type\":\"histogram2d\",\"colorbar\":{\"outlinewidth\":0,\"ticks\":\"\"},\"colorscale\":[[0.0,\"#0d0887\"],[0.1111111111111111,\"#46039f\"],[0.2222222222222222,\"#7201a8\"],[0.3333333333333333,\"#9c179e\"],[0.4444444444444444,\"#bd3786\"],[0.5555555555555556,\"#d8576b\"],[0.6666666666666666,\"#ed7953\"],[0.7777777777777778,\"#fb9f3a\"],[0.8888888888888888,\"#fdca26\"],[1.0,\"#f0f921\"]]}],\"heatmap\":[{\"type\":\"heatmap\",\"colorbar\":{\"outlinewidth\":0,\"ticks\":\"\"},\"colorscale\":[[0.0,\"#0d0887\"],[0.1111111111111111,\"#46039f\"],[0.2222222222222222,\"#7201a8\"],[0.3333333333333333,\"#9c179e\"],[0.4444444444444444,\"#bd3786\"],[0.5555555555555556,\"#d8576b\"],[0.6666666666666666,\"#ed7953\"],[0.7777777777777778,\"#fb9f3a\"],[0.8888888888888888,\"#fdca26\"],[1.0,\"#f0f921\"]]}],\"heatmapgl\":[{\"type\":\"heatmapgl\",\"colorbar\":{\"outlinewidth\":0,\"ticks\":\"\"},\"colorscale\":[[0.0,\"#0d0887\"],[0.1111111111111111,\"#46039f\"],[0.2222222222222222,\"#7201a8\"],[0.3333333333333333,\"#9c179e\"],[0.4444444444444444,\"#bd3786\"],[0.5555555555555556,\"#d8576b\"],[0.6666666666666666,\"#ed7953\"],[0.7777777777777778,\"#fb9f3a\"],[0.8888888888888888,\"#fdca26\"],[1.0,\"#f0f921\"]]}],\"contourcarpet\":[{\"type\":\"contourcarpet\",\"colorbar\":{\"outlinewidth\":0,\"ticks\":\"\"}}],\"contour\":[{\"type\":\"contour\",\"colorbar\":{\"outlinewidth\":0,\"ticks\":\"\"},\"colorscale\":[[0.0,\"#0d0887\"],[0.1111111111111111,\"#46039f\"],[0.2222222222222222,\"#7201a8\"],[0.3333333333333333,\"#9c179e\"],[0.4444444444444444,\"#bd3786\"],[0.5555555555555556,\"#d8576b\"],[0.6666666666666666,\"#ed7953\"],[0.7777777777777778,\"#fb9f3a\"],[0.8888888888888888,\"#fdca26\"],[1.0,\"#f0f921\"]]}],\"surface\":[{\"type\":\"surface\",\"colorbar\":{\"outlinewidth\":0,\"ticks\":\"\"},\"colorscale\":[[0.0,\"#0d0887\"],[0.1111111111111111,\"#46039f\"],[0.2222222222222222,\"#7201a8\"],[0.3333333333333333,\"#9c179e\"],[0.4444444444444444,\"#bd3786\"],[0.5555555555555556,\"#d8576b\"],[0.6666666666666666,\"#ed7953\"],[0.7777777777777778,\"#fb9f3a\"],[0.8888888888888888,\"#fdca26\"],[1.0,\"#f0f921\"]]}],\"mesh3d\":[{\"type\":\"mesh3d\",\"colorbar\":{\"outlinewidth\":0,\"ticks\":\"\"}}],\"scatter\":[{\"fillpattern\":{\"fillmode\":\"overlay\",\"size\":10,\"solidity\":0.2},\"type\":\"scatter\"}],\"parcoords\":[{\"type\":\"parcoords\",\"line\":{\"colorbar\":{\"outlinewidth\":0,\"ticks\":\"\"}}}],\"scatterpolargl\":[{\"type\":\"scatterpolargl\",\"marker\":{\"colorbar\":{\"outlinewidth\":0,\"ticks\":\"\"}}}],\"bar\":[{\"error_x\":{\"color\":\"#2a3f5f\"},\"error_y\":{\"color\":\"#2a3f5f\"},\"marker\":{\"line\":{\"color\":\"#E5ECF6\",\"width\":0.5},\"pattern\":{\"fillmode\":\"overlay\",\"size\":10,\"solidity\":0.2}},\"type\":\"bar\"}],\"scattergeo\":[{\"type\":\"scattergeo\",\"marker\":{\"colorbar\":{\"outlinewidth\":0,\"ticks\":\"\"}}}],\"scatterpolar\":[{\"type\":\"scatterpolar\",\"marker\":{\"colorbar\":{\"outlinewidth\":0,\"ticks\":\"\"}}}],\"histogram\":[{\"marker\":{\"pattern\":{\"fillmode\":\"overlay\",\"size\":10,\"solidity\":0.2}},\"type\":\"histogram\"}],\"scattergl\":[{\"type\":\"scattergl\",\"marker\":{\"colorbar\":{\"outlinewidth\":0,\"ticks\":\"\"}}}],\"scatter3d\":[{\"type\":\"scatter3d\",\"line\":{\"colorbar\":{\"outlinewidth\":0,\"ticks\":\"\"}},\"marker\":{\"colorbar\":{\"outlinewidth\":0,\"ticks\":\"\"}}}],\"scattermapbox\":[{\"type\":\"scattermapbox\",\"marker\":{\"colorbar\":{\"outlinewidth\":0,\"ticks\":\"\"}}}],\"scatterternary\":[{\"type\":\"scatterternary\",\"marker\":{\"colorbar\":{\"outlinewidth\":0,\"ticks\":\"\"}}}],\"scattercarpet\":[{\"type\":\"scattercarpet\",\"marker\":{\"colorbar\":{\"outlinewidth\":0,\"ticks\":\"\"}}}],\"carpet\":[{\"aaxis\":{\"endlinecolor\":\"#2a3f5f\",\"gridcolor\":\"white\",\"linecolor\":\"white\",\"minorgridcolor\":\"white\",\"startlinecolor\":\"#2a3f5f\"},\"baxis\":{\"endlinecolor\":\"#2a3f5f\",\"gridcolor\":\"white\",\"linecolor\":\"white\",\"minorgridcolor\":\"white\",\"startlinecolor\":\"#2a3f5f\"},\"type\":\"carpet\"}],\"table\":[{\"cells\":{\"fill\":{\"color\":\"#EBF0F8\"},\"line\":{\"color\":\"white\"}},\"header\":{\"fill\":{\"color\":\"#C8D4E3\"},\"line\":{\"color\":\"white\"}},\"type\":\"table\"}],\"barpolar\":[{\"marker\":{\"line\":{\"color\":\"#E5ECF6\",\"width\":0.5},\"pattern\":{\"fillmode\":\"overlay\",\"size\":10,\"solidity\":0.2}},\"type\":\"barpolar\"}],\"pie\":[{\"automargin\":true,\"type\":\"pie\"}]},\"layout\":{\"autotypenumbers\":\"strict\",\"colorway\":[\"#636efa\",\"#EF553B\",\"#00cc96\",\"#ab63fa\",\"#FFA15A\",\"#19d3f3\",\"#FF6692\",\"#B6E880\",\"#FF97FF\",\"#FECB52\"],\"font\":{\"color\":\"#2a3f5f\"},\"hovermode\":\"closest\",\"hoverlabel\":{\"align\":\"left\"},\"paper_bgcolor\":\"white\",\"plot_bgcolor\":\"#E5ECF6\",\"polar\":{\"bgcolor\":\"#E5ECF6\",\"angularaxis\":{\"gridcolor\":\"white\",\"linecolor\":\"white\",\"ticks\":\"\"},\"radialaxis\":{\"gridcolor\":\"white\",\"linecolor\":\"white\",\"ticks\":\"\"}},\"ternary\":{\"bgcolor\":\"#E5ECF6\",\"aaxis\":{\"gridcolor\":\"white\",\"linecolor\":\"white\",\"ticks\":\"\"},\"baxis\":{\"gridcolor\":\"white\",\"linecolor\":\"white\",\"ticks\":\"\"},\"caxis\":{\"gridcolor\":\"white\",\"linecolor\":\"white\",\"ticks\":\"\"}},\"coloraxis\":{\"colorbar\":{\"outlinewidth\":0,\"ticks\":\"\"}},\"colorscale\":{\"sequential\":[[0.0,\"#0d0887\"],[0.1111111111111111,\"#46039f\"],[0.2222222222222222,\"#7201a8\"],[0.3333333333333333,\"#9c179e\"],[0.4444444444444444,\"#bd3786\"],[0.5555555555555556,\"#d8576b\"],[0.6666666666666666,\"#ed7953\"],[0.7777777777777778,\"#fb9f3a\"],[0.8888888888888888,\"#fdca26\"],[1.0,\"#f0f921\"]],\"sequentialminus\":[[0.0,\"#0d0887\"],[0.1111111111111111,\"#46039f\"],[0.2222222222222222,\"#7201a8\"],[0.3333333333333333,\"#9c179e\"],[0.4444444444444444,\"#bd3786\"],[0.5555555555555556,\"#d8576b\"],[0.6666666666666666,\"#ed7953\"],[0.7777777777777778,\"#fb9f3a\"],[0.8888888888888888,\"#fdca26\"],[1.0,\"#f0f921\"]],\"diverging\":[[0,\"#8e0152\"],[0.1,\"#c51b7d\"],[0.2,\"#de77ae\"],[0.3,\"#f1b6da\"],[0.4,\"#fde0ef\"],[0.5,\"#f7f7f7\"],[0.6,\"#e6f5d0\"],[0.7,\"#b8e186\"],[0.8,\"#7fbc41\"],[0.9,\"#4d9221\"],[1,\"#276419\"]]},\"xaxis\":{\"gridcolor\":\"white\",\"linecolor\":\"white\",\"ticks\":\"\",\"title\":{\"standoff\":15},\"zerolinecolor\":\"white\",\"automargin\":true,\"zerolinewidth\":2},\"yaxis\":{\"gridcolor\":\"white\",\"linecolor\":\"white\",\"ticks\":\"\",\"title\":{\"standoff\":15},\"zerolinecolor\":\"white\",\"automargin\":true,\"zerolinewidth\":2},\"scene\":{\"xaxis\":{\"backgroundcolor\":\"#E5ECF6\",\"gridcolor\":\"white\",\"linecolor\":\"white\",\"showbackground\":true,\"ticks\":\"\",\"zerolinecolor\":\"white\",\"gridwidth\":2},\"yaxis\":{\"backgroundcolor\":\"#E5ECF6\",\"gridcolor\":\"white\",\"linecolor\":\"white\",\"showbackground\":true,\"ticks\":\"\",\"zerolinecolor\":\"white\",\"gridwidth\":2},\"zaxis\":{\"backgroundcolor\":\"#E5ECF6\",\"gridcolor\":\"white\",\"linecolor\":\"white\",\"showbackground\":true,\"ticks\":\"\",\"zerolinecolor\":\"white\",\"gridwidth\":2}},\"shapedefaults\":{\"line\":{\"color\":\"#2a3f5f\"}},\"annotationdefaults\":{\"arrowcolor\":\"#2a3f5f\",\"arrowhead\":0,\"arrowwidth\":1},\"geo\":{\"bgcolor\":\"white\",\"landcolor\":\"#E5ECF6\",\"subunitcolor\":\"white\",\"showland\":true,\"showlakes\":true,\"lakecolor\":\"white\"},\"title\":{\"x\":0.05},\"mapbox\":{\"style\":\"light\"}}},\"xaxis\":{\"anchor\":\"y\",\"domain\":[0.0,1.0],\"title\":{\"text\":\"variable\"}},\"yaxis\":{\"anchor\":\"x\",\"domain\":[0.0,1.0],\"title\":{\"text\":\"value\"}},\"legend\":{\"tracegroupgap\":0},\"margin\":{\"t\":60},\"boxmode\":\"group\"},                        {\"responsive\": true}                    ).then(function(){\n",
              "                            \n",
              "var gd = document.getElementById('bd891db1-7b85-461c-9b8e-8babbc0d74c2');\n",
              "var x = new MutationObserver(function (mutations, observer) {{\n",
              "        var display = window.getComputedStyle(gd).display;\n",
              "        if (!display || display === 'none') {{\n",
              "            console.log([gd, 'removed!']);\n",
              "            Plotly.purge(gd);\n",
              "            observer.disconnect();\n",
              "        }}\n",
              "}});\n",
              "\n",
              "// Listen for the removal of the full notebook cells\n",
              "var notebookContainer = gd.closest('#notebook-container');\n",
              "if (notebookContainer) {{\n",
              "    x.observe(notebookContainer, {childList: true});\n",
              "}}\n",
              "\n",
              "// Listen for the clearing of the current output cell\n",
              "var outputEl = gd.closest('.output');\n",
              "if (outputEl) {{\n",
              "    x.observe(outputEl, {childList: true});\n",
              "}}\n",
              "\n",
              "                        })                };                            </script>        </div>\n",
              "</body>\n",
              "</html>"
            ]
          },
          "metadata": {}
        }
      ],
      "source": [
        "fig = px.box(df, y=['Internships','CGPA', 'Age'])\n",
        "fig.show()"
      ]
    },
    {
      "cell_type": "markdown",
      "metadata": {
        "id": "5L0xcXQfE-0C"
      },
      "source": [
        "Convert Categorical Data to Numeric"
      ]
    },
    {
      "cell_type": "code",
      "execution_count": null,
      "metadata": {
        "id": "EFzkAkycEpUc"
      },
      "outputs": [],
      "source": [
        "df['Gender'] = df['Gender'].map({\n",
        "    'Male': 1,\n",
        "    'Female': 0})"
      ]
    },
    {
      "cell_type": "code",
      "execution_count": null,
      "metadata": {
        "colab": {
          "base_uri": "https://localhost:8080/"
        },
        "id": "sfZcRIxlE9cK",
        "outputId": "6de8940e-b7b8-4c4d-9431-a5d81b282e6b"
      },
      "outputs": [
        {
          "output_type": "execute_result",
          "data": {
            "text/plain": [
              "array(['Electronics And Communication', 'Computer Science',\n",
              "       'Information Technology', 'Mechanical', 'Electrical', 'Civil'],\n",
              "      dtype=object)"
            ]
          },
          "metadata": {},
          "execution_count": 127
        }
      ],
      "source": [
        "df['Stream'].unique()"
      ]
    },
    {
      "cell_type": "markdown",
      "metadata": {
        "id": "lTL4sOHeFUMA"
      },
      "source": [
        "Mapping The Diffrent stream with diffrent Number\n",
        "1.   Electronics And Communication : 1\n",
        "2.   Computer Science : 2\n",
        "3.Information Technology: 3\n",
        "4.Mechanical : 4\n",
        "5.Electrical : 5\n",
        "6.Civil : 6"
      ]
    },
    {
      "cell_type": "code",
      "execution_count": null,
      "metadata": {
        "id": "-ycDaWakFP_g"
      },
      "outputs": [],
      "source": [
        "df['Stream'] = df['Stream'].map({\n",
        "    'Electronics And Communication': 1,\n",
        "    'Computer Science': 2,\n",
        "    'Information Technology': 3,\n",
        "    'Mechanical': 4,\n",
        "    'Electrical': 5,\n",
        "    'Civil': 6})"
      ]
    },
    {
      "cell_type": "code",
      "execution_count": null,
      "metadata": {
        "colab": {
          "base_uri": "https://localhost:8080/",
          "height": 206
        },
        "id": "EOG1g58SGWCU",
        "outputId": "873005c0-eca4-43f8-a29a-02256187fb35"
      },
      "outputs": [
        {
          "output_type": "execute_result",
          "data": {
            "text/plain": [
              "   Age  Gender  Stream  Internships  CGPA  Hostel  HistoryOfBacklogs  \\\n",
              "0   22       1       1            1     8       1                  1   \n",
              "1   21       0       2            0     7       1                  1   \n",
              "2   22       0       3            1     6       0                  0   \n",
              "3   21       1       3            0     8       0                  1   \n",
              "4   22       1       4            0     8       1                  0   \n",
              "\n",
              "   PlacedOrNot  \n",
              "0            1  \n",
              "1            1  \n",
              "2            1  \n",
              "3            1  \n",
              "4            1  "
            ],
            "text/html": [
              "\n",
              "  <div id=\"df-06358caf-699d-4f0d-9b1c-3a0be3cbccaa\" class=\"colab-df-container\">\n",
              "    <div>\n",
              "<style scoped>\n",
              "    .dataframe tbody tr th:only-of-type {\n",
              "        vertical-align: middle;\n",
              "    }\n",
              "\n",
              "    .dataframe tbody tr th {\n",
              "        vertical-align: top;\n",
              "    }\n",
              "\n",
              "    .dataframe thead th {\n",
              "        text-align: right;\n",
              "    }\n",
              "</style>\n",
              "<table border=\"1\" class=\"dataframe\">\n",
              "  <thead>\n",
              "    <tr style=\"text-align: right;\">\n",
              "      <th></th>\n",
              "      <th>Age</th>\n",
              "      <th>Gender</th>\n",
              "      <th>Stream</th>\n",
              "      <th>Internships</th>\n",
              "      <th>CGPA</th>\n",
              "      <th>Hostel</th>\n",
              "      <th>HistoryOfBacklogs</th>\n",
              "      <th>PlacedOrNot</th>\n",
              "    </tr>\n",
              "  </thead>\n",
              "  <tbody>\n",
              "    <tr>\n",
              "      <th>0</th>\n",
              "      <td>22</td>\n",
              "      <td>1</td>\n",
              "      <td>1</td>\n",
              "      <td>1</td>\n",
              "      <td>8</td>\n",
              "      <td>1</td>\n",
              "      <td>1</td>\n",
              "      <td>1</td>\n",
              "    </tr>\n",
              "    <tr>\n",
              "      <th>1</th>\n",
              "      <td>21</td>\n",
              "      <td>0</td>\n",
              "      <td>2</td>\n",
              "      <td>0</td>\n",
              "      <td>7</td>\n",
              "      <td>1</td>\n",
              "      <td>1</td>\n",
              "      <td>1</td>\n",
              "    </tr>\n",
              "    <tr>\n",
              "      <th>2</th>\n",
              "      <td>22</td>\n",
              "      <td>0</td>\n",
              "      <td>3</td>\n",
              "      <td>1</td>\n",
              "      <td>6</td>\n",
              "      <td>0</td>\n",
              "      <td>0</td>\n",
              "      <td>1</td>\n",
              "    </tr>\n",
              "    <tr>\n",
              "      <th>3</th>\n",
              "      <td>21</td>\n",
              "      <td>1</td>\n",
              "      <td>3</td>\n",
              "      <td>0</td>\n",
              "      <td>8</td>\n",
              "      <td>0</td>\n",
              "      <td>1</td>\n",
              "      <td>1</td>\n",
              "    </tr>\n",
              "    <tr>\n",
              "      <th>4</th>\n",
              "      <td>22</td>\n",
              "      <td>1</td>\n",
              "      <td>4</td>\n",
              "      <td>0</td>\n",
              "      <td>8</td>\n",
              "      <td>1</td>\n",
              "      <td>0</td>\n",
              "      <td>1</td>\n",
              "    </tr>\n",
              "  </tbody>\n",
              "</table>\n",
              "</div>\n",
              "    <div class=\"colab-df-buttons\">\n",
              "\n",
              "  <div class=\"colab-df-container\">\n",
              "    <button class=\"colab-df-convert\" onclick=\"convertToInteractive('df-06358caf-699d-4f0d-9b1c-3a0be3cbccaa')\"\n",
              "            title=\"Convert this dataframe to an interactive table.\"\n",
              "            style=\"display:none;\">\n",
              "\n",
              "  <svg xmlns=\"http://www.w3.org/2000/svg\" height=\"24px\" viewBox=\"0 -960 960 960\">\n",
              "    <path d=\"M120-120v-720h720v720H120Zm60-500h600v-160H180v160Zm220 220h160v-160H400v160Zm0 220h160v-160H400v160ZM180-400h160v-160H180v160Zm440 0h160v-160H620v160ZM180-180h160v-160H180v160Zm440 0h160v-160H620v160Z\"/>\n",
              "  </svg>\n",
              "    </button>\n",
              "\n",
              "  <style>\n",
              "    .colab-df-container {\n",
              "      display:flex;\n",
              "      gap: 12px;\n",
              "    }\n",
              "\n",
              "    .colab-df-convert {\n",
              "      background-color: #E8F0FE;\n",
              "      border: none;\n",
              "      border-radius: 50%;\n",
              "      cursor: pointer;\n",
              "      display: none;\n",
              "      fill: #1967D2;\n",
              "      height: 32px;\n",
              "      padding: 0 0 0 0;\n",
              "      width: 32px;\n",
              "    }\n",
              "\n",
              "    .colab-df-convert:hover {\n",
              "      background-color: #E2EBFA;\n",
              "      box-shadow: 0px 1px 2px rgba(60, 64, 67, 0.3), 0px 1px 3px 1px rgba(60, 64, 67, 0.15);\n",
              "      fill: #174EA6;\n",
              "    }\n",
              "\n",
              "    .colab-df-buttons div {\n",
              "      margin-bottom: 4px;\n",
              "    }\n",
              "\n",
              "    [theme=dark] .colab-df-convert {\n",
              "      background-color: #3B4455;\n",
              "      fill: #D2E3FC;\n",
              "    }\n",
              "\n",
              "    [theme=dark] .colab-df-convert:hover {\n",
              "      background-color: #434B5C;\n",
              "      box-shadow: 0px 1px 3px 1px rgba(0, 0, 0, 0.15);\n",
              "      filter: drop-shadow(0px 1px 2px rgba(0, 0, 0, 0.3));\n",
              "      fill: #FFFFFF;\n",
              "    }\n",
              "  </style>\n",
              "\n",
              "    <script>\n",
              "      const buttonEl =\n",
              "        document.querySelector('#df-06358caf-699d-4f0d-9b1c-3a0be3cbccaa button.colab-df-convert');\n",
              "      buttonEl.style.display =\n",
              "        google.colab.kernel.accessAllowed ? 'block' : 'none';\n",
              "\n",
              "      async function convertToInteractive(key) {\n",
              "        const element = document.querySelector('#df-06358caf-699d-4f0d-9b1c-3a0be3cbccaa');\n",
              "        const dataTable =\n",
              "          await google.colab.kernel.invokeFunction('convertToInteractive',\n",
              "                                                    [key], {});\n",
              "        if (!dataTable) return;\n",
              "\n",
              "        const docLinkHtml = 'Like what you see? Visit the ' +\n",
              "          '<a target=\"_blank\" href=https://colab.research.google.com/notebooks/data_table.ipynb>data table notebook</a>'\n",
              "          + ' to learn more about interactive tables.';\n",
              "        element.innerHTML = '';\n",
              "        dataTable['output_type'] = 'display_data';\n",
              "        await google.colab.output.renderOutput(dataTable, element);\n",
              "        const docLink = document.createElement('div');\n",
              "        docLink.innerHTML = docLinkHtml;\n",
              "        element.appendChild(docLink);\n",
              "      }\n",
              "    </script>\n",
              "  </div>\n",
              "\n",
              "\n",
              "<div id=\"df-ee630504-08f3-4327-8419-35472c112e72\">\n",
              "  <button class=\"colab-df-quickchart\" onclick=\"quickchart('df-ee630504-08f3-4327-8419-35472c112e72')\"\n",
              "            title=\"Suggest charts.\"\n",
              "            style=\"display:none;\">\n",
              "\n",
              "<svg xmlns=\"http://www.w3.org/2000/svg\" height=\"24px\"viewBox=\"0 0 24 24\"\n",
              "     width=\"24px\">\n",
              "    <g>\n",
              "        <path d=\"M19 3H5c-1.1 0-2 .9-2 2v14c0 1.1.9 2 2 2h14c1.1 0 2-.9 2-2V5c0-1.1-.9-2-2-2zM9 17H7v-7h2v7zm4 0h-2V7h2v10zm4 0h-2v-4h2v4z\"/>\n",
              "    </g>\n",
              "</svg>\n",
              "  </button>\n",
              "\n",
              "<style>\n",
              "  .colab-df-quickchart {\n",
              "      --bg-color: #E8F0FE;\n",
              "      --fill-color: #1967D2;\n",
              "      --hover-bg-color: #E2EBFA;\n",
              "      --hover-fill-color: #174EA6;\n",
              "      --disabled-fill-color: #AAA;\n",
              "      --disabled-bg-color: #DDD;\n",
              "  }\n",
              "\n",
              "  [theme=dark] .colab-df-quickchart {\n",
              "      --bg-color: #3B4455;\n",
              "      --fill-color: #D2E3FC;\n",
              "      --hover-bg-color: #434B5C;\n",
              "      --hover-fill-color: #FFFFFF;\n",
              "      --disabled-bg-color: #3B4455;\n",
              "      --disabled-fill-color: #666;\n",
              "  }\n",
              "\n",
              "  .colab-df-quickchart {\n",
              "    background-color: var(--bg-color);\n",
              "    border: none;\n",
              "    border-radius: 50%;\n",
              "    cursor: pointer;\n",
              "    display: none;\n",
              "    fill: var(--fill-color);\n",
              "    height: 32px;\n",
              "    padding: 0;\n",
              "    width: 32px;\n",
              "  }\n",
              "\n",
              "  .colab-df-quickchart:hover {\n",
              "    background-color: var(--hover-bg-color);\n",
              "    box-shadow: 0 1px 2px rgba(60, 64, 67, 0.3), 0 1px 3px 1px rgba(60, 64, 67, 0.15);\n",
              "    fill: var(--button-hover-fill-color);\n",
              "  }\n",
              "\n",
              "  .colab-df-quickchart-complete:disabled,\n",
              "  .colab-df-quickchart-complete:disabled:hover {\n",
              "    background-color: var(--disabled-bg-color);\n",
              "    fill: var(--disabled-fill-color);\n",
              "    box-shadow: none;\n",
              "  }\n",
              "\n",
              "  .colab-df-spinner {\n",
              "    border: 2px solid var(--fill-color);\n",
              "    border-color: transparent;\n",
              "    border-bottom-color: var(--fill-color);\n",
              "    animation:\n",
              "      spin 1s steps(1) infinite;\n",
              "  }\n",
              "\n",
              "  @keyframes spin {\n",
              "    0% {\n",
              "      border-color: transparent;\n",
              "      border-bottom-color: var(--fill-color);\n",
              "      border-left-color: var(--fill-color);\n",
              "    }\n",
              "    20% {\n",
              "      border-color: transparent;\n",
              "      border-left-color: var(--fill-color);\n",
              "      border-top-color: var(--fill-color);\n",
              "    }\n",
              "    30% {\n",
              "      border-color: transparent;\n",
              "      border-left-color: var(--fill-color);\n",
              "      border-top-color: var(--fill-color);\n",
              "      border-right-color: var(--fill-color);\n",
              "    }\n",
              "    40% {\n",
              "      border-color: transparent;\n",
              "      border-right-color: var(--fill-color);\n",
              "      border-top-color: var(--fill-color);\n",
              "    }\n",
              "    60% {\n",
              "      border-color: transparent;\n",
              "      border-right-color: var(--fill-color);\n",
              "    }\n",
              "    80% {\n",
              "      border-color: transparent;\n",
              "      border-right-color: var(--fill-color);\n",
              "      border-bottom-color: var(--fill-color);\n",
              "    }\n",
              "    90% {\n",
              "      border-color: transparent;\n",
              "      border-bottom-color: var(--fill-color);\n",
              "    }\n",
              "  }\n",
              "</style>\n",
              "\n",
              "  <script>\n",
              "    async function quickchart(key) {\n",
              "      const quickchartButtonEl =\n",
              "        document.querySelector('#' + key + ' button');\n",
              "      quickchartButtonEl.disabled = true;  // To prevent multiple clicks.\n",
              "      quickchartButtonEl.classList.add('colab-df-spinner');\n",
              "      try {\n",
              "        const charts = await google.colab.kernel.invokeFunction(\n",
              "            'suggestCharts', [key], {});\n",
              "      } catch (error) {\n",
              "        console.error('Error during call to suggestCharts:', error);\n",
              "      }\n",
              "      quickchartButtonEl.classList.remove('colab-df-spinner');\n",
              "      quickchartButtonEl.classList.add('colab-df-quickchart-complete');\n",
              "    }\n",
              "    (() => {\n",
              "      let quickchartButtonEl =\n",
              "        document.querySelector('#df-ee630504-08f3-4327-8419-35472c112e72 button');\n",
              "      quickchartButtonEl.style.display =\n",
              "        google.colab.kernel.accessAllowed ? 'block' : 'none';\n",
              "    })();\n",
              "  </script>\n",
              "</div>\n",
              "    </div>\n",
              "  </div>\n"
            ]
          },
          "metadata": {},
          "execution_count": 129
        }
      ],
      "source": [
        "df.head()"
      ]
    },
    {
      "cell_type": "code",
      "execution_count": null,
      "metadata": {
        "id": "jsSjy9cgIl-y"
      },
      "outputs": [],
      "source": [
        "X = df.drop(columns=['PlacedOrNot'],axis=1)\n",
        "y = df['PlacedOrNot']"
      ]
    },
    {
      "cell_type": "code",
      "execution_count": null,
      "metadata": {
        "colab": {
          "base_uri": "https://localhost:8080/",
          "height": 206
        },
        "id": "krC2oKuAI2uj",
        "outputId": "da5f8e9c-3ebb-40ac-a421-58b54d5044d3"
      },
      "outputs": [
        {
          "output_type": "execute_result",
          "data": {
            "text/plain": [
              "   Age  Gender  Stream  Internships  CGPA  Hostel  HistoryOfBacklogs\n",
              "0   22       1       1            1     8       1                  1\n",
              "1   21       0       2            0     7       1                  1\n",
              "2   22       0       3            1     6       0                  0\n",
              "3   21       1       3            0     8       0                  1\n",
              "4   22       1       4            0     8       1                  0"
            ],
            "text/html": [
              "\n",
              "  <div id=\"df-6e02e9f8-94b4-41e2-82e2-70b292aedd69\" class=\"colab-df-container\">\n",
              "    <div>\n",
              "<style scoped>\n",
              "    .dataframe tbody tr th:only-of-type {\n",
              "        vertical-align: middle;\n",
              "    }\n",
              "\n",
              "    .dataframe tbody tr th {\n",
              "        vertical-align: top;\n",
              "    }\n",
              "\n",
              "    .dataframe thead th {\n",
              "        text-align: right;\n",
              "    }\n",
              "</style>\n",
              "<table border=\"1\" class=\"dataframe\">\n",
              "  <thead>\n",
              "    <tr style=\"text-align: right;\">\n",
              "      <th></th>\n",
              "      <th>Age</th>\n",
              "      <th>Gender</th>\n",
              "      <th>Stream</th>\n",
              "      <th>Internships</th>\n",
              "      <th>CGPA</th>\n",
              "      <th>Hostel</th>\n",
              "      <th>HistoryOfBacklogs</th>\n",
              "    </tr>\n",
              "  </thead>\n",
              "  <tbody>\n",
              "    <tr>\n",
              "      <th>0</th>\n",
              "      <td>22</td>\n",
              "      <td>1</td>\n",
              "      <td>1</td>\n",
              "      <td>1</td>\n",
              "      <td>8</td>\n",
              "      <td>1</td>\n",
              "      <td>1</td>\n",
              "    </tr>\n",
              "    <tr>\n",
              "      <th>1</th>\n",
              "      <td>21</td>\n",
              "      <td>0</td>\n",
              "      <td>2</td>\n",
              "      <td>0</td>\n",
              "      <td>7</td>\n",
              "      <td>1</td>\n",
              "      <td>1</td>\n",
              "    </tr>\n",
              "    <tr>\n",
              "      <th>2</th>\n",
              "      <td>22</td>\n",
              "      <td>0</td>\n",
              "      <td>3</td>\n",
              "      <td>1</td>\n",
              "      <td>6</td>\n",
              "      <td>0</td>\n",
              "      <td>0</td>\n",
              "    </tr>\n",
              "    <tr>\n",
              "      <th>3</th>\n",
              "      <td>21</td>\n",
              "      <td>1</td>\n",
              "      <td>3</td>\n",
              "      <td>0</td>\n",
              "      <td>8</td>\n",
              "      <td>0</td>\n",
              "      <td>1</td>\n",
              "    </tr>\n",
              "    <tr>\n",
              "      <th>4</th>\n",
              "      <td>22</td>\n",
              "      <td>1</td>\n",
              "      <td>4</td>\n",
              "      <td>0</td>\n",
              "      <td>8</td>\n",
              "      <td>1</td>\n",
              "      <td>0</td>\n",
              "    </tr>\n",
              "  </tbody>\n",
              "</table>\n",
              "</div>\n",
              "    <div class=\"colab-df-buttons\">\n",
              "\n",
              "  <div class=\"colab-df-container\">\n",
              "    <button class=\"colab-df-convert\" onclick=\"convertToInteractive('df-6e02e9f8-94b4-41e2-82e2-70b292aedd69')\"\n",
              "            title=\"Convert this dataframe to an interactive table.\"\n",
              "            style=\"display:none;\">\n",
              "\n",
              "  <svg xmlns=\"http://www.w3.org/2000/svg\" height=\"24px\" viewBox=\"0 -960 960 960\">\n",
              "    <path d=\"M120-120v-720h720v720H120Zm60-500h600v-160H180v160Zm220 220h160v-160H400v160Zm0 220h160v-160H400v160ZM180-400h160v-160H180v160Zm440 0h160v-160H620v160ZM180-180h160v-160H180v160Zm440 0h160v-160H620v160Z\"/>\n",
              "  </svg>\n",
              "    </button>\n",
              "\n",
              "  <style>\n",
              "    .colab-df-container {\n",
              "      display:flex;\n",
              "      gap: 12px;\n",
              "    }\n",
              "\n",
              "    .colab-df-convert {\n",
              "      background-color: #E8F0FE;\n",
              "      border: none;\n",
              "      border-radius: 50%;\n",
              "      cursor: pointer;\n",
              "      display: none;\n",
              "      fill: #1967D2;\n",
              "      height: 32px;\n",
              "      padding: 0 0 0 0;\n",
              "      width: 32px;\n",
              "    }\n",
              "\n",
              "    .colab-df-convert:hover {\n",
              "      background-color: #E2EBFA;\n",
              "      box-shadow: 0px 1px 2px rgba(60, 64, 67, 0.3), 0px 1px 3px 1px rgba(60, 64, 67, 0.15);\n",
              "      fill: #174EA6;\n",
              "    }\n",
              "\n",
              "    .colab-df-buttons div {\n",
              "      margin-bottom: 4px;\n",
              "    }\n",
              "\n",
              "    [theme=dark] .colab-df-convert {\n",
              "      background-color: #3B4455;\n",
              "      fill: #D2E3FC;\n",
              "    }\n",
              "\n",
              "    [theme=dark] .colab-df-convert:hover {\n",
              "      background-color: #434B5C;\n",
              "      box-shadow: 0px 1px 3px 1px rgba(0, 0, 0, 0.15);\n",
              "      filter: drop-shadow(0px 1px 2px rgba(0, 0, 0, 0.3));\n",
              "      fill: #FFFFFF;\n",
              "    }\n",
              "  </style>\n",
              "\n",
              "    <script>\n",
              "      const buttonEl =\n",
              "        document.querySelector('#df-6e02e9f8-94b4-41e2-82e2-70b292aedd69 button.colab-df-convert');\n",
              "      buttonEl.style.display =\n",
              "        google.colab.kernel.accessAllowed ? 'block' : 'none';\n",
              "\n",
              "      async function convertToInteractive(key) {\n",
              "        const element = document.querySelector('#df-6e02e9f8-94b4-41e2-82e2-70b292aedd69');\n",
              "        const dataTable =\n",
              "          await google.colab.kernel.invokeFunction('convertToInteractive',\n",
              "                                                    [key], {});\n",
              "        if (!dataTable) return;\n",
              "\n",
              "        const docLinkHtml = 'Like what you see? Visit the ' +\n",
              "          '<a target=\"_blank\" href=https://colab.research.google.com/notebooks/data_table.ipynb>data table notebook</a>'\n",
              "          + ' to learn more about interactive tables.';\n",
              "        element.innerHTML = '';\n",
              "        dataTable['output_type'] = 'display_data';\n",
              "        await google.colab.output.renderOutput(dataTable, element);\n",
              "        const docLink = document.createElement('div');\n",
              "        docLink.innerHTML = docLinkHtml;\n",
              "        element.appendChild(docLink);\n",
              "      }\n",
              "    </script>\n",
              "  </div>\n",
              "\n",
              "\n",
              "<div id=\"df-a67e731e-00f9-4e94-a2d1-4edee729f40b\">\n",
              "  <button class=\"colab-df-quickchart\" onclick=\"quickchart('df-a67e731e-00f9-4e94-a2d1-4edee729f40b')\"\n",
              "            title=\"Suggest charts.\"\n",
              "            style=\"display:none;\">\n",
              "\n",
              "<svg xmlns=\"http://www.w3.org/2000/svg\" height=\"24px\"viewBox=\"0 0 24 24\"\n",
              "     width=\"24px\">\n",
              "    <g>\n",
              "        <path d=\"M19 3H5c-1.1 0-2 .9-2 2v14c0 1.1.9 2 2 2h14c1.1 0 2-.9 2-2V5c0-1.1-.9-2-2-2zM9 17H7v-7h2v7zm4 0h-2V7h2v10zm4 0h-2v-4h2v4z\"/>\n",
              "    </g>\n",
              "</svg>\n",
              "  </button>\n",
              "\n",
              "<style>\n",
              "  .colab-df-quickchart {\n",
              "      --bg-color: #E8F0FE;\n",
              "      --fill-color: #1967D2;\n",
              "      --hover-bg-color: #E2EBFA;\n",
              "      --hover-fill-color: #174EA6;\n",
              "      --disabled-fill-color: #AAA;\n",
              "      --disabled-bg-color: #DDD;\n",
              "  }\n",
              "\n",
              "  [theme=dark] .colab-df-quickchart {\n",
              "      --bg-color: #3B4455;\n",
              "      --fill-color: #D2E3FC;\n",
              "      --hover-bg-color: #434B5C;\n",
              "      --hover-fill-color: #FFFFFF;\n",
              "      --disabled-bg-color: #3B4455;\n",
              "      --disabled-fill-color: #666;\n",
              "  }\n",
              "\n",
              "  .colab-df-quickchart {\n",
              "    background-color: var(--bg-color);\n",
              "    border: none;\n",
              "    border-radius: 50%;\n",
              "    cursor: pointer;\n",
              "    display: none;\n",
              "    fill: var(--fill-color);\n",
              "    height: 32px;\n",
              "    padding: 0;\n",
              "    width: 32px;\n",
              "  }\n",
              "\n",
              "  .colab-df-quickchart:hover {\n",
              "    background-color: var(--hover-bg-color);\n",
              "    box-shadow: 0 1px 2px rgba(60, 64, 67, 0.3), 0 1px 3px 1px rgba(60, 64, 67, 0.15);\n",
              "    fill: var(--button-hover-fill-color);\n",
              "  }\n",
              "\n",
              "  .colab-df-quickchart-complete:disabled,\n",
              "  .colab-df-quickchart-complete:disabled:hover {\n",
              "    background-color: var(--disabled-bg-color);\n",
              "    fill: var(--disabled-fill-color);\n",
              "    box-shadow: none;\n",
              "  }\n",
              "\n",
              "  .colab-df-spinner {\n",
              "    border: 2px solid var(--fill-color);\n",
              "    border-color: transparent;\n",
              "    border-bottom-color: var(--fill-color);\n",
              "    animation:\n",
              "      spin 1s steps(1) infinite;\n",
              "  }\n",
              "\n",
              "  @keyframes spin {\n",
              "    0% {\n",
              "      border-color: transparent;\n",
              "      border-bottom-color: var(--fill-color);\n",
              "      border-left-color: var(--fill-color);\n",
              "    }\n",
              "    20% {\n",
              "      border-color: transparent;\n",
              "      border-left-color: var(--fill-color);\n",
              "      border-top-color: var(--fill-color);\n",
              "    }\n",
              "    30% {\n",
              "      border-color: transparent;\n",
              "      border-left-color: var(--fill-color);\n",
              "      border-top-color: var(--fill-color);\n",
              "      border-right-color: var(--fill-color);\n",
              "    }\n",
              "    40% {\n",
              "      border-color: transparent;\n",
              "      border-right-color: var(--fill-color);\n",
              "      border-top-color: var(--fill-color);\n",
              "    }\n",
              "    60% {\n",
              "      border-color: transparent;\n",
              "      border-right-color: var(--fill-color);\n",
              "    }\n",
              "    80% {\n",
              "      border-color: transparent;\n",
              "      border-right-color: var(--fill-color);\n",
              "      border-bottom-color: var(--fill-color);\n",
              "    }\n",
              "    90% {\n",
              "      border-color: transparent;\n",
              "      border-bottom-color: var(--fill-color);\n",
              "    }\n",
              "  }\n",
              "</style>\n",
              "\n",
              "  <script>\n",
              "    async function quickchart(key) {\n",
              "      const quickchartButtonEl =\n",
              "        document.querySelector('#' + key + ' button');\n",
              "      quickchartButtonEl.disabled = true;  // To prevent multiple clicks.\n",
              "      quickchartButtonEl.classList.add('colab-df-spinner');\n",
              "      try {\n",
              "        const charts = await google.colab.kernel.invokeFunction(\n",
              "            'suggestCharts', [key], {});\n",
              "      } catch (error) {\n",
              "        console.error('Error during call to suggestCharts:', error);\n",
              "      }\n",
              "      quickchartButtonEl.classList.remove('colab-df-spinner');\n",
              "      quickchartButtonEl.classList.add('colab-df-quickchart-complete');\n",
              "    }\n",
              "    (() => {\n",
              "      let quickchartButtonEl =\n",
              "        document.querySelector('#df-a67e731e-00f9-4e94-a2d1-4edee729f40b button');\n",
              "      quickchartButtonEl.style.display =\n",
              "        google.colab.kernel.accessAllowed ? 'block' : 'none';\n",
              "    })();\n",
              "  </script>\n",
              "</div>\n",
              "    </div>\n",
              "  </div>\n"
            ]
          },
          "metadata": {},
          "execution_count": 131
        }
      ],
      "source": [
        "X.head()"
      ]
    },
    {
      "cell_type": "code",
      "execution_count": null,
      "metadata": {
        "colab": {
          "base_uri": "https://localhost:8080/"
        },
        "id": "OqXnJixiI6KM",
        "outputId": "cef4b4c5-9ecb-4624-bd6d-782e3efafc3c"
      },
      "outputs": [
        {
          "output_type": "execute_result",
          "data": {
            "text/plain": [
              "0    1\n",
              "1    1\n",
              "2    1\n",
              "3    1\n",
              "4    1\n",
              "Name: PlacedOrNot, dtype: int64"
            ]
          },
          "metadata": {},
          "execution_count": 132
        }
      ],
      "source": [
        "y.head()"
      ]
    },
    {
      "cell_type": "markdown",
      "metadata": {
        "id": "yT4OylexHlRK"
      },
      "source": [
        "#Train Test Split"
      ]
    },
    {
      "cell_type": "code",
      "execution_count": null,
      "metadata": {
        "id": "ROC3gdYyGX-7"
      },
      "outputs": [],
      "source": [
        "from sklearn.model_selection import train_test_split"
      ]
    },
    {
      "cell_type": "code",
      "execution_count": null,
      "metadata": {
        "id": "_JG1HXdIH8dm"
      },
      "outputs": [],
      "source": [
        "X_train,X_test,y_train,y_test = train_test_split(X,y,test_size=0.33)"
      ]
    },
    {
      "cell_type": "code",
      "execution_count": null,
      "metadata": {
        "colab": {
          "base_uri": "https://localhost:8080/"
        },
        "id": "wCTOInLxIEs_",
        "outputId": "67cbe2e4-b9c2-4739-a670-4fb5bf09e239"
      },
      "outputs": [
        {
          "output_type": "stream",
          "name": "stdout",
          "text": [
            "(761, 7)\n",
            "(376, 7)\n",
            "(761,)\n",
            "(376,)\n"
          ]
        }
      ],
      "source": [
        "print(X_train.shape)\n",
        "print(X_test.shape)\n",
        "print(y_train.shape)\n",
        "print(y_test.shape)"
      ]
    },
    {
      "cell_type": "code",
      "execution_count": null,
      "metadata": {
        "id": "BGUViQWeJPSB"
      },
      "outputs": [],
      "source": [
        "from sklearn.preprocessing import StandardScaler"
      ]
    },
    {
      "cell_type": "code",
      "execution_count": null,
      "metadata": {
        "id": "lejanFmEKndY"
      },
      "outputs": [],
      "source": [
        "scaler = StandardScaler()\n",
        "X_train_scale = scaler.fit_transform(X_train)\n",
        "X_test_scale = scaler.transform(X_test)"
      ]
    },
    {
      "cell_type": "markdown",
      "metadata": {
        "id": "u6BKwyIOLLPZ"
      },
      "source": [
        "#Train and Evaluate the model"
      ]
    },
    {
      "cell_type": "markdown",
      "metadata": {
        "id": "tuEv6UDVLQ9j"
      },
      "source": [
        "Create an Evaluate Function to give all metrics after model Training\n"
      ]
    },
    {
      "cell_type": "code",
      "execution_count": null,
      "metadata": {
        "id": "LE3BI7o3KtAq"
      },
      "outputs": [],
      "source": [
        "# from sklearn.metrics import r2_score, mean_absolute_error, mean_squared_error\n",
        "# def evaluate_model(true, predicted):\n",
        "#     mae = mean_absolute_error(true, predicted)\n",
        "#     mse = mean_squared_error(true, predicted)\n",
        "#     rmse = np.sqrt(mean_squared_error(true, predicted))\n",
        "#     r2_square = r2_score(true, predicted)\n",
        "#     return mae, rmse, r2_square"
      ]
    },
    {
      "cell_type": "code",
      "execution_count": null,
      "metadata": {
        "id": "UFe6qjkDMBWg"
      },
      "outputs": [],
      "source": [
        "# from sklearn.neighbors import KNeighborsRegressor\n",
        "# from sklearn.tree import DecisionTreeRegressor\n",
        "# from sklearn.ensemble import RandomForestRegressor,AdaBoostRegressor\n",
        "# from sklearn.svm import SVR\n",
        "# from sklearn.linear_model import LinearRegression, Ridge,Lasso\n",
        "# from sklearn.metrics import r2_score, mean_absolute_error, mean_squared_error\n",
        "# # from sklearn.model_selection import RandomizedSearchCV\n",
        "# # from catboost import CatBoostRegressor\n",
        "# from xgboost import XGBRegressor\n",
        "# from sklearn.linear_model import LogisticRegression"
      ]
    },
    {
      "cell_type": "code",
      "execution_count": null,
      "metadata": {
        "id": "8ALFS88lLVgf"
      },
      "outputs": [],
      "source": [
        "# models = {\n",
        "#     \"Linear Regression\": LinearRegression(),\n",
        "#     \"Logistic Regression\": LogisticRegression(),\n",
        "#     \"Lasso\": Lasso(),\n",
        "#     \"Ridge\": Ridge(),\n",
        "#     \"K-Neighbors Regressor\": KNeighborsRegressor(),\n",
        "#     \"Decision Tree\": DecisionTreeRegressor(),\n",
        "#     \"Random Forest Regressor\": RandomForestRegressor(),\n",
        "#     \"XGBRegressor\": XGBRegressor(),\n",
        "#     # \"CatBoosting Regressor\": CatBoostRegressor(verbose=False),\n",
        "#     \"AdaBoost Regressor\": AdaBoostRegressor()\n",
        "# }\n",
        "# model_list = []\n",
        "# r2_list =[]\n",
        "\n",
        "# for i in range(len(list(models))):\n",
        "#     model = list(models.values())[i]\n",
        "#     model.fit(X_train, y_train) # Train model\n",
        "\n",
        "#     # Make predictions\n",
        "#     y_train_pred = model.predict(X_train)\n",
        "#     y_test_pred = model.predict(X_test)\n",
        "\n",
        "#     # Evaluate Train and Test dataset\n",
        "#     model_train_mae , model_train_rmse, model_train_r2 = evaluate_model(y_train, y_train_pred)\n",
        "\n",
        "#     model_test_mae , model_test_rmse, model_test_r2 = evaluate_model(y_test, y_test_pred)\n",
        "\n",
        "\n",
        "#     print(list(models.keys())[i])\n",
        "#     model_list.append(list(models.keys())[i])\n",
        "\n",
        "#     print('Model performance for Training set')\n",
        "#     print(\"- Root Mean Squared Error: {:.4f}\".format(model_train_rmse))\n",
        "#     print(\"- Mean Absolute Error: {:.4f}\".format(model_train_mae))\n",
        "#     print(\"- R2 Score: {:.4f}\".format(model_train_r2))\n",
        "\n",
        "#     print('----------------------------------')\n",
        "\n",
        "#     print('Model performance for Test set')\n",
        "#     print(\"- Root Mean Squared Error: {:.4f}\".format(model_test_rmse))\n",
        "#     print(\"- Mean Absolute Error: {:.4f}\".format(model_test_mae))\n",
        "#     print(\"- R2 Score: {:.4f}\".format(model_test_r2))\n",
        "#     r2_list.append(model_test_r2)\n",
        "\n",
        "#     print('='*35)\n",
        "#     print('\\n')"
      ]
    },
    {
      "cell_type": "code",
      "execution_count": null,
      "metadata": {
        "id": "2S9NAw-T-FTq"
      },
      "outputs": [],
      "source": [
        "from sklearn.metrics import accuracy_score\n",
        "from sklearn.model_selection import cross_val_score"
      ]
    },
    {
      "cell_type": "markdown",
      "metadata": {
        "id": "QjcGrz4q_3zL"
      },
      "source": [
        "#Logistic Regression"
      ]
    },
    {
      "cell_type": "code",
      "execution_count": null,
      "metadata": {
        "colab": {
          "base_uri": "https://localhost:8080/"
        },
        "id": "jtn3JWa6L_sm",
        "outputId": "c4de7b9c-8117-48b9-d489-7b5331538942"
      },
      "outputs": [
        {
          "output_type": "stream",
          "name": "stdout",
          "text": [
            "Without Scaling and CV:  0.7367021276595744\n",
            "Without Scaling and With CV:  0.6977956254272044\n",
            "With Scaling and Without CV:  0.7367021276595744\n",
            "With Scaling and With CV:  0.6991114149008887\n"
          ]
        },
        {
          "output_type": "stream",
          "name": "stderr",
          "text": [
            "/usr/local/lib/python3.10/dist-packages/sklearn/linear_model/_logistic.py:458: ConvergenceWarning:\n",
            "\n",
            "lbfgs failed to converge (status=1):\n",
            "STOP: TOTAL NO. of ITERATIONS REACHED LIMIT.\n",
            "\n",
            "Increase the number of iterations (max_iter) or scale the data as shown in:\n",
            "    https://scikit-learn.org/stable/modules/preprocessing.html\n",
            "Please also refer to the documentation for alternative solver options:\n",
            "    https://scikit-learn.org/stable/modules/linear_model.html#logistic-regression\n",
            "\n"
          ]
        }
      ],
      "source": [
        "from sklearn.linear_model import LogisticRegression\n",
        "clf = LogisticRegression()\n",
        "\n",
        "# Without Scaling\n",
        "clf.fit(X_train,y_train)\n",
        "y_pred = clf.predict(X_test)\n",
        "print(\"Without Scaling and CV: \",accuracy_score(y_test,y_pred))\n",
        "scores = cross_val_score(clf, X_train, y_train, cv=10)\n",
        "print(\"Without Scaling and With CV: \",scores.mean())\n",
        "\n",
        "# With Scaling\n",
        "clf.fit(X_train_scale,y_train)\n",
        "y_pred = clf.predict(X_test_scale)\n",
        "print(\"With Scaling and Without CV: \",accuracy_score(y_test,y_pred))\n",
        "scores = cross_val_score(clf, X_train_scale, y_train, cv=10)\n",
        "print(\"With Scaling and With CV: \",scores.mean())\n"
      ]
    },
    {
      "cell_type": "markdown",
      "metadata": {
        "id": "BO8KUMonAUIs"
      },
      "source": [
        "#SGD Classifier"
      ]
    },
    {
      "cell_type": "code",
      "execution_count": null,
      "metadata": {
        "colab": {
          "base_uri": "https://localhost:8080/"
        },
        "id": "AwMTBBm-AT2y",
        "outputId": "2f830ae9-eb15-4b4c-eb0f-9b7a080148d4"
      },
      "outputs": [
        {
          "output_type": "stream",
          "name": "stdout",
          "text": [
            "Without Scaling and CV:  0.7473404255319149\n",
            "Without Scaling and With CV:  0.6388243335611756\n",
            "With Scaling and Without CV:  0.7340425531914894\n",
            "With Scaling and With CV:  0.7056220095693779\n"
          ]
        }
      ],
      "source": [
        "from sklearn.linear_model import SGDClassifier\n",
        "clf = SGDClassifier(max_iter=1000, tol=1e-3)\n",
        "\n",
        "# Without Scaling\n",
        "clf.fit(X_train,y_train)\n",
        "y_pred = clf.predict(X_test)\n",
        "print(\"Without Scaling and CV: \",accuracy_score(y_test,y_pred))\n",
        "scores = cross_val_score(clf, X_train, y_train, cv=10)\n",
        "print(\"Without Scaling and With CV: \",scores.mean())\n",
        "\n",
        "# With Scaling\n",
        "clf.fit(X_train_scale,y_train)\n",
        "y_pred = clf.predict(X_test_scale)\n",
        "print(\"With Scaling and Without CV: \",accuracy_score(y_test,y_pred))\n",
        "scores = cross_val_score(clf, X_train_scale, y_train, cv=10)\n",
        "print(\"With Scaling and With CV: \",scores.mean())"
      ]
    },
    {
      "cell_type": "code",
      "execution_count": null,
      "metadata": {
        "colab": {
          "base_uri": "https://localhost:8080/"
        },
        "id": "_tHfmmTf97q6",
        "outputId": "8b2e47bc-2204-4b80-d77f-257859671c1e"
      },
      "outputs": [
        {
          "output_type": "stream",
          "name": "stdout",
          "text": [
            "Without Scaling and CV:  0.5771276595744681\n",
            "Without Scaling and With CV:  0.6333048530416951\n",
            "With Scaling and Without CV:  0.6941489361702128\n",
            "With Scaling and With CV:  0.6938653451811347\n"
          ]
        }
      ],
      "source": [
        "from sklearn.linear_model import Perceptron\n",
        "# this is same as SGDClassifier(loss=\"perceptron\", eta0=1, learning_rate=\"constant\", penalty=None)\n",
        "\n",
        "clf = Perceptron(tol=1e-3, random_state=0)\n",
        "# Without Scaling\n",
        "clf.fit(X_train,y_train)\n",
        "y_pred = clf.predict(X_test)\n",
        "print(\"Without Scaling and CV: \",accuracy_score(y_test,y_pred))\n",
        "scores = cross_val_score(clf, X_train, y_train, cv=10)\n",
        "print(\"Without Scaling and With CV: \",scores.mean())\n",
        "\n",
        "# With Scaling\n",
        "clf.fit(X_train_scale,y_train)\n",
        "y_pred = clf.predict(X_test_scale)\n",
        "print(\"With Scaling and Without CV: \",accuracy_score(y_test,y_pred))\n",
        "scores = cross_val_score(clf, X_train_scale, y_train, cv=10)\n",
        "print(\"With Scaling and With CV: \",scores.mean())"
      ]
    },
    {
      "cell_type": "markdown",
      "metadata": {
        "id": "kFt0C7wXAvTc"
      },
      "source": [
        "#Decision Tree Classifier"
      ]
    },
    {
      "cell_type": "code",
      "execution_count": null,
      "metadata": {
        "colab": {
          "base_uri": "https://localhost:8080/"
        },
        "id": "Wo4A9j3LAhtG",
        "outputId": "552cdcfd-c53d-40d7-a218-3ba6c56dddc4"
      },
      "outputs": [
        {
          "output_type": "stream",
          "name": "stdout",
          "text": [
            "Without Scaling and CV:  0.7154255319148937\n",
            "Without Scaling and With CV:  0.7147983595352018\n",
            "With Scaling and Without CV:  0.7127659574468085\n",
            "With Scaling and With CV:  0.7161141490088859\n"
          ]
        }
      ],
      "source": [
        "from sklearn.tree import DecisionTreeClassifier\n",
        "clf = DecisionTreeClassifier(random_state=0)\n",
        "\n",
        "#without scaling\n",
        "clf.fit(X_train,y_train)\n",
        "y_pred = clf.predict(X_test)\n",
        "print(\"Without Scaling and CV: \",accuracy_score(y_test,y_pred))\n",
        "scores = cross_val_score(clf, X_train, y_train, cv=10)\n",
        "print(\"Without Scaling and With CV: \",scores.mean())\n",
        "\n",
        "# With Scaling\n",
        "clf.fit(X_train_scale,y_train)\n",
        "y_pred = clf.predict(X_test_scale)\n",
        "print(\"With Scaling and Without CV: \",accuracy_score(y_test,y_pred))\n",
        "scores = cross_val_score(clf, X_train_scale, y_train, cv=10)\n",
        "print(\"With Scaling and With CV: \",scores.mean())"
      ]
    },
    {
      "cell_type": "markdown",
      "metadata": {
        "id": "Q50T8B8LBDuO"
      },
      "source": [
        "#Random Forest Classifier"
      ]
    },
    {
      "cell_type": "code",
      "execution_count": null,
      "metadata": {
        "colab": {
          "base_uri": "https://localhost:8080/"
        },
        "id": "cgTfeB8vA19_",
        "outputId": "681116e6-30bf-4b99-8190-9df0d0d78403"
      },
      "outputs": [
        {
          "output_type": "stream",
          "name": "stdout",
          "text": [
            "Without Scaling and CV:  0.7686170212765957\n",
            "Without Scaling and With CV:  0.7463943950786056\n",
            "With Scaling and Without CV:  0.7686170212765957\n",
            "With Scaling and With CV:  0.7450786056049215\n"
          ]
        }
      ],
      "source": [
        "from sklearn.ensemble import RandomForestClassifier\n",
        "\n",
        "clf = RandomForestClassifier(max_depth=10, random_state=0)\n",
        "\n",
        "clf.fit(X_train,y_train)\n",
        "y_pred = clf.predict(X_test)\n",
        "print(\"Without Scaling and CV: \",accuracy_score(y_test,y_pred))\n",
        "scores = cross_val_score(clf, X_train, y_train, cv=10)\n",
        "print(\"Without Scaling and With CV: \",scores.mean())\n",
        "\n",
        "# With Scaling\n",
        "clf.fit(X_train_scale,y_train)\n",
        "y_pred = clf.predict(X_test_scale)\n",
        "print(\"With Scaling and Without CV: \",accuracy_score(y_test,y_pred))\n",
        "scores = cross_val_score(clf, X_train_scale, y_train, cv=10)\n",
        "print(\"With Scaling and With CV: \",scores.mean())"
      ]
    },
    {
      "cell_type": "markdown",
      "metadata": {
        "id": "74VqaHMkBNsV"
      },
      "source": [
        "#Support Vector Machines"
      ]
    },
    {
      "cell_type": "code",
      "execution_count": null,
      "metadata": {
        "colab": {
          "base_uri": "https://localhost:8080/"
        },
        "id": "YLONpBpXBG4D",
        "outputId": "07c6016a-522e-42dd-9242-82854fabcd9b"
      },
      "outputs": [
        {
          "output_type": "stream",
          "name": "stdout",
          "text": [
            "Without Scaling and CV:  0.7420212765957447\n",
            "Without Scaling and With CV:  0.7070061517429937\n",
            "With Scaling and Without CV:  0.8031914893617021\n",
            "With Scaling and With CV:  0.730622009569378\n"
          ]
        }
      ],
      "source": [
        "from sklearn.svm import SVC\n",
        "from sklearn.model_selection import GridSearchCV, RandomizedSearchCV\n",
        "#clf = SVC(gamma='auto')\n",
        "\n",
        "svc = SVC()\n",
        "parameters = {'kernel':('linear', 'rbf'), 'C':[1, 10]}\n",
        "clf = GridSearchCV(svc, parameters)\n",
        "\n",
        "clf.fit(X_train,y_train)\n",
        "y_pred = clf.predict(X_test)\n",
        "print(\"Without Scaling and CV: \",accuracy_score(y_test,y_pred))\n",
        "scores = cross_val_score(clf, X_train, y_train, cv=10)\n",
        "print(\"Without Scaling and With CV: \",scores.mean())\n",
        "\n",
        "# With Scaling\n",
        "clf.fit(X_train_scale,y_train)\n",
        "y_pred = clf.predict(X_test_scale)\n",
        "print(\"With Scaling and Without CV: \",accuracy_score(y_test,y_pred))\n",
        "scores = cross_val_score(clf, X_train_scale, y_train, cv=10)\n",
        "print(\"With Scaling and With CV: \",scores.mean())"
      ]
    },
    {
      "cell_type": "markdown",
      "metadata": {
        "id": "zHplzULrBzn_"
      },
      "source": [
        "#Naive Bayes"
      ]
    },
    {
      "cell_type": "code",
      "execution_count": null,
      "metadata": {
        "colab": {
          "base_uri": "https://localhost:8080/"
        },
        "id": "8scSF537BSK9",
        "outputId": "9edb92ef-e424-4858-eb0d-1e3b911a9eeb"
      },
      "outputs": [
        {
          "output_type": "stream",
          "name": "stdout",
          "text": [
            "Without Scaling and CV:  0.7712765957446809\n",
            "Without Scaling and With CV:  0.706971975393028\n",
            "With Scaling and Without CV:  0.7712765957446809\n",
            "With Scaling and With CV:  0.706971975393028\n"
          ]
        }
      ],
      "source": [
        "from sklearn.naive_bayes import GaussianNB\n",
        "clf = GaussianNB()\n",
        "\n",
        "#y_pred = gnb.fit(X_train, y_train).predict(X_test)\n",
        "#print(\"Number of mislabeled points out of a total %d points : %d\" % (X_test.shape[0], (y_test != y_pred).sum()))\n",
        "\n",
        "clf.fit(X_train,y_train)\n",
        "y_pred = clf.predict(X_test)\n",
        "print(\"Without Scaling and CV: \",accuracy_score(y_test,y_pred))\n",
        "scores = cross_val_score(clf, X_train, y_train, cv=10)\n",
        "print(\"Without Scaling and With CV: \",scores.mean())\n",
        "\n",
        "# With Scaling\n",
        "clf.fit(X_train_scale,y_train)\n",
        "y_pred = clf.predict(X_test_scale)\n",
        "print(\"With Scaling and Without CV: \",accuracy_score(y_test,y_pred))\n",
        "scores = cross_val_score(clf, X_train_scale, y_train, cv=10)\n",
        "print(\"With Scaling and With CV: \",scores.mean())"
      ]
    },
    {
      "cell_type": "code",
      "execution_count": null,
      "metadata": {
        "colab": {
          "base_uri": "https://localhost:8080/"
        },
        "id": "xoRvVEc3Bun4",
        "outputId": "f67914b4-3ed5-4c00-f989-cbb665d70197"
      },
      "outputs": [
        {
          "output_type": "stream",
          "name": "stdout",
          "text": [
            "Without Scaling and CV:  0.6462765957446809\n",
            "Without Scaling and With CV:  0.6320574162679427\n"
          ]
        }
      ],
      "source": [
        "from sklearn.naive_bayes import MultinomialNB\n",
        "clf = MultinomialNB()\n",
        "\n",
        "clf.fit(X_train,y_train)\n",
        "y_pred = clf.predict(X_test)\n",
        "print(\"Without Scaling and CV: \",accuracy_score(y_test,y_pred))\n",
        "scores = cross_val_score(clf, X_train, y_train, cv=10)\n",
        "print(\"Without Scaling and With CV: \",scores.mean())"
      ]
    },
    {
      "cell_type": "code",
      "execution_count": null,
      "metadata": {
        "colab": {
          "base_uri": "https://localhost:8080/"
        },
        "id": "NmDWnpj_By5-",
        "outputId": "85f6c0d4-22e6-4b43-88bb-d531436d792a"
      },
      "outputs": [
        {
          "output_type": "stream",
          "name": "stdout",
          "text": [
            "Without Scaling and CV:  0.5398936170212766\n",
            "Without Scaling and With CV:  0.5755980861244019\n",
            "With Scaling and Without CV:  0.7526595744680851\n",
            "With Scaling and With CV:  0.7450444292549555\n"
          ]
        }
      ],
      "source": [
        "from sklearn.naive_bayes import BernoulliNB\n",
        "clf = BernoulliNB()\n",
        "\n",
        "clf.fit(X_train,y_train)\n",
        "y_pred = clf.predict(X_test)\n",
        "print(\"Without Scaling and CV: \",accuracy_score(y_test,y_pred))\n",
        "scores = cross_val_score(clf, X_train, y_train, cv=10)\n",
        "print(\"Without Scaling and With CV: \",scores.mean())\n",
        "\n",
        "# With Scaling\n",
        "clf.fit(X_train_scale,y_train)\n",
        "y_pred = clf.predict(X_test_scale)\n",
        "print(\"With Scaling and Without CV: \",accuracy_score(y_test,y_pred))\n",
        "scores = cross_val_score(clf, X_train_scale, y_train, cv=10)\n",
        "print(\"With Scaling and With CV: \",scores.mean())"
      ]
    },
    {
      "cell_type": "code",
      "execution_count": null,
      "metadata": {
        "id": "6paIrwvxB8wC"
      },
      "outputs": [],
      "source": [
        "# from sklearn.naive_bayes import CategoricalNB\n",
        "# clf = CategoricalNB()\n",
        "\n",
        "# clf.fit(X_train,y_train)\n",
        "# y_pred = clf.predict(X_test)\n",
        "# print(\"Without Scaling and CV: \",accuracy_score(y_test,y_pred))"
      ]
    },
    {
      "cell_type": "markdown",
      "metadata": {
        "id": "fl2YXqZCCE9a"
      },
      "source": [
        "#K-Nearest Neighbors¶"
      ]
    },
    {
      "cell_type": "code",
      "execution_count": null,
      "metadata": {
        "colab": {
          "base_uri": "https://localhost:8080/"
        },
        "id": "xSEgmcuiCBZx",
        "outputId": "5e59be1c-b7fa-4da2-81a9-bb485b342b2e"
      },
      "outputs": [
        {
          "output_type": "stream",
          "name": "stdout",
          "text": [
            "Without Scaling and CV:  0.7632978723404256\n",
            "Without Scaling and With CV:  0.7240772385509228\n",
            "With Scaling and Without CV:  0.7180851063829787\n",
            "With Scaling and With CV:  0.6676008202323992\n"
          ]
        }
      ],
      "source": [
        "from sklearn.neighbors import KNeighborsClassifier\n",
        "clf = KNeighborsClassifier(n_neighbors=3)\n",
        "\n",
        "clf.fit(X_train,y_train)\n",
        "y_pred = clf.predict(X_test)\n",
        "print(\"Without Scaling and CV: \",accuracy_score(y_test,y_pred))\n",
        "scores = cross_val_score(clf, X_train, y_train, cv=10)\n",
        "print(\"Without Scaling and With CV: \",scores.mean())\n",
        "\n",
        "\n",
        "# With Scaling\n",
        "clf.fit(X_train_scale,y_train)\n",
        "y_pred = clf.predict(X_test_scale)\n",
        "print(\"With Scaling and Without CV: \",accuracy_score(y_test,y_pred))\n",
        "scores = cross_val_score(clf, X_train_scale, y_train, cv=10)\n",
        "print(\"With Scaling and With CV: \",scores.mean())"
      ]
    },
    {
      "cell_type": "markdown",
      "metadata": {
        "id": "8KaH2oI9ClvS"
      },
      "source": [
        "#Model selection\n",
        "As we see that random forest give highest accuracy"
      ]
    },
    {
      "cell_type": "code",
      "execution_count": null,
      "metadata": {
        "colab": {
          "base_uri": "https://localhost:8080/"
        },
        "id": "1XDzY1hhCI_G",
        "outputId": "d25e483d-4ecb-449b-a613-b4f30106ed73"
      },
      "outputs": [
        {
          "output_type": "stream",
          "name": "stdout",
          "text": [
            "Without CV:  0.7686170212765957\n",
            "With CV:  0.7463943950786056\n",
            "Precision Score:  0.8217821782178217\n",
            "Recall Score:  0.7649769585253456\n",
            "F1 Score:  0.7923627684964202\n"
          ]
        }
      ],
      "source": [
        "from sklearn.metrics import precision_score, recall_score, f1_score\n",
        "clf = RandomForestClassifier(max_depth=10, random_state=0)\n",
        "clf.fit(X_train,y_train)\n",
        "y_pred = clf.predict(X_test)\n",
        "print(\"Without CV: \",accuracy_score(y_test,y_pred))\n",
        "scores = cross_val_score(clf, X_train, y_train, cv=10)\n",
        "print(\"With CV: \",scores.mean())\n",
        "print(\"Precision Score: \", precision_score(y_test, y_pred))\n",
        "print(\"Recall Score: \", recall_score(y_test, y_pred))\n",
        "print(\"F1 Score: \", f1_score(y_test, y_pred))"
      ]
    },
    {
      "cell_type": "markdown",
      "metadata": {
        "id": "3ks1HJXQDuuO"
      },
      "source": [
        "#Tuning the model"
      ]
    },
    {
      "cell_type": "markdown",
      "metadata": {
        "id": "OSkxafurD24j"
      },
      "source": [
        "hyper parameter tuning using GridSerachCv"
      ]
    },
    {
      "cell_type": "code",
      "execution_count": null,
      "metadata": {
        "id": "fhIjiYJeFMP_"
      },
      "outputs": [],
      "source": [
        "from sklearn.model_selection import GridSearchCV, RandomizedSearchCV"
      ]
    },
    {
      "cell_type": "code",
      "execution_count": null,
      "metadata": {
        "colab": {
          "base_uri": "https://localhost:8080/"
        },
        "id": "S3wgUWolENGx",
        "outputId": "d154f529-1a9c-40b8-ac71-aa70d7da394b"
      },
      "outputs": [
        {
          "output_type": "stream",
          "name": "stdout",
          "text": [
            "Fitting 5 folds for each of 288 candidates, totalling 1440 fits\n",
            "Accuracy:  0.824468085106383\n",
            "{'bootstrap': False, 'max_depth': 5, 'max_features': 5, 'min_samples_split': 10, 'n_estimators': 100}\n",
            "RandomForestClassifier(bootstrap=False, max_depth=5, max_features=5,\n",
            "                       min_samples_split=10)\n"
          ]
        }
      ],
      "source": [
        "param_grid = {\n",
        "    'bootstrap': [False,True],\n",
        "    'max_depth': [5,8,10, 20],\n",
        "    'max_features': [3, 4, 5, None],\n",
        "    'min_samples_split': [2, 10, 12],\n",
        "\n",
        "    'n_estimators': [100, 200, 300]\n",
        "}\n",
        "\n",
        "rfc = RandomForestClassifier()\n",
        "\n",
        "clf = GridSearchCV(estimator = rfc, param_grid = param_grid, cv = 5, n_jobs = -1, verbose = 1)\n",
        "\n",
        "clf.fit(X_train,y_train)\n",
        "y_pred = clf.predict(X_test)\n",
        "print(\"Accuracy: \",accuracy_score(y_test,y_pred))\n",
        "print(clf.best_params_)\n",
        "print(clf.best_estimator_)"
      ]
    },
    {
      "cell_type": "markdown",
      "source": [
        "Training the final model with best parameters"
      ],
      "metadata": {
        "id": "EbDWgLtDJXV9"
      }
    },
    {
      "cell_type": "code",
      "source": [
        "clf = RandomForestClassifier(bootstrap=False, max_depth=5,max_features=None,\n",
        "                             min_samples_split=2,\n",
        "                             n_estimators=100, random_state=0)\n",
        "clf.fit(X_train,y_train)\n",
        "y_pred = clf.predict(X_test)\n",
        "print(\"Without CV: \",accuracy_score(y_test,y_pred))\n",
        "scores = cross_val_score(clf, X_train, y_train, cv=10)\n",
        "print(\"With CV: \",scores.mean())\n",
        "print(\"Precision Score: \", precision_score(y_test, y_pred))\n",
        "print(\"Recall Score: \", recall_score(y_test, y_pred))\n",
        "print(\"F1 Score: \", f1_score(y_test, y_pred))"
      ],
      "metadata": {
        "colab": {
          "base_uri": "https://localhost:8080/"
        },
        "id": "xAZM2dURJMG0",
        "outputId": "930886a6-9ab7-4358-bf0f-b1bb7ac82a62"
      },
      "execution_count": null,
      "outputs": [
        {
          "output_type": "stream",
          "name": "stdout",
          "text": [
            "Without CV:  0.8218085106382979\n",
            "With CV:  0.8028879015721122\n",
            "Precision Score:  0.96875\n",
            "Recall Score:  0.7142857142857143\n",
            "F1 Score:  0.8222811671087532\n"
          ]
        }
      ]
    },
    {
      "cell_type": "markdown",
      "source": [
        "#Deploy the model"
      ],
      "metadata": {
        "id": "ZTEOyOnXMIzf"
      }
    },
    {
      "cell_type": "code",
      "source": [
        "import pickle"
      ],
      "metadata": {
        "id": "5EMBR6WiMVV3"
      },
      "execution_count": null,
      "outputs": []
    },
    {
      "cell_type": "code",
      "source": [
        "pickle.dump(clf,open('model.pkl','wb'))"
      ],
      "metadata": {
        "id": "Z2mumLcvJfRb"
      },
      "execution_count": null,
      "outputs": []
    },
    {
      "cell_type": "code",
      "source": [
        "model = pickle.load(open('model.pkl','rb'))"
      ],
      "metadata": {
        "id": "RsrZb7jHMTYo"
      },
      "execution_count": null,
      "outputs": []
    },
    {
      "cell_type": "code",
      "source": [
        "age = 22\n",
        "gender = 1 # 1=Male, 0=Female\n",
        "stream = 3  # Electronics And Communication': 1,\n",
        "#              'Computer Science': 2,\n",
        "#              'Information Technology': 3,\n",
        "#              'Mechanical':4,\n",
        "#              'Electrical':5,\n",
        "#              'Civil':6\n",
        "Internships = 2\n",
        "CGPA = 6\n",
        "Hostel = 1 # 1= stay in hostel, 0=not staying in hostel\n",
        "HistoryOfBacklogs = 0 # 1 = had backlogs, 0=no backlogs\n",
        "\n",
        "prediction = clf.predict([[age,gender,stream,Internships,CGPA,Hostel,HistoryOfBacklogs]])\n",
        "prediction"
      ],
      "metadata": {
        "colab": {
          "base_uri": "https://localhost:8080/"
        },
        "id": "BfSwggOmMkm7",
        "outputId": "fea0826d-cf84-431e-ea39-56d7fa589cd5"
      },
      "execution_count": null,
      "outputs": [
        {
          "output_type": "stream",
          "name": "stderr",
          "text": [
            "/usr/local/lib/python3.10/dist-packages/sklearn/base.py:439: UserWarning:\n",
            "\n",
            "X does not have valid feature names, but RandomForestClassifier was fitted with feature names\n",
            "\n"
          ]
        },
        {
          "output_type": "execute_result",
          "data": {
            "text/plain": [
              "array([1])"
            ]
          },
          "metadata": {},
          "execution_count": 165
        }
      ]
    },
    {
      "cell_type": "code",
      "source": [],
      "metadata": {
        "id": "8ov3Wew_MupC"
      },
      "execution_count": null,
      "outputs": []
    }
  ],
  "metadata": {
    "colab": {
      "provenance": []
    },
    "kernelspec": {
      "display_name": "Python 3",
      "name": "python3"
    },
    "language_info": {
      "name": "python"
    }
  },
  "nbformat": 4,
  "nbformat_minor": 0
}